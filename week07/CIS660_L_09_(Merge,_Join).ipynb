{
  "cells": [
    {
      "cell_type": "code",
      "execution_count": 1,
      "metadata": {
        "id": "qey4oRKANqVD"
      },
      "outputs": [],
      "source": [
        "import pandas as pd\n",
        "import numpy as np"
      ]
    },
    {
      "cell_type": "code",
      "execution_count": 2,
      "metadata": {
        "id": "Uu356eZauMgZ"
      },
      "outputs": [],
      "source": [
        "df1 = pd.DataFrame({'employee': ['Bob', 'Jake', 'Lisa', 'Sue'],\n",
        "                    'department': ['Accounting', 'Engineering', 'Engineering', 'HR']})\n",
        "df2 = pd.DataFrame({'employee': ['Lisa', 'Bob', 'Jake', 'Sue'],\n",
        "                    'hire_date': [2004, 2008, 2012, 2014]})"
      ]
    },
    {
      "cell_type": "code",
      "execution_count": null,
      "metadata": {
        "colab": {
          "base_uri": "https://localhost:8080/"
        },
        "id": "e5ktkl4IuMjn",
        "outputId": "c69ba268-69ea-4837-a7d0-420dd02761d3"
      },
      "outputs": [
        {
          "name": "stdout",
          "output_type": "stream",
          "text": [
            "  employee   department\n",
            "0      Bob   Accounting\n",
            "1     Jake  Engineering\n",
            "2     Lisa  Engineering\n",
            "3      Sue           HR\n"
          ]
        }
      ],
      "source": [
        "print(df1)\n"
      ]
    },
    {
      "cell_type": "code",
      "execution_count": null,
      "metadata": {
        "colab": {
          "base_uri": "https://localhost:8080/"
        },
        "id": "H0D-mIXeuMmh",
        "outputId": "f9f45b02-06b6-43bf-bd9f-68d0a41cb44a"
      },
      "outputs": [
        {
          "name": "stdout",
          "output_type": "stream",
          "text": [
            "  employee  hire_date\n",
            "0     Lisa       2004\n",
            "1      Bob       2008\n",
            "2     Jake       2012\n",
            "3      Sue       2014\n"
          ]
        }
      ],
      "source": [
        "print(df2)"
      ]
    },
    {
      "cell_type": "markdown",
      "metadata": {
        "id": "ioaI5Vp-yFJ5"
      },
      "source": [
        "#(1) One-to-One join/mapping"
      ]
    },
    {
      "cell_type": "code",
      "execution_count": null,
      "metadata": {
        "id": "DAfRxzB_uMpR"
      },
      "outputs": [],
      "source": [
        "df_output1 = pd.merge(df1, df2)"
      ]
    },
    {
      "cell_type": "code",
      "execution_count": null,
      "metadata": {
        "colab": {
          "base_uri": "https://localhost:8080/"
        },
        "id": "J2m7QzFMuMsQ",
        "outputId": "341d26d3-abdd-43d2-a0ba-67972bf172cd"
      },
      "outputs": [
        {
          "name": "stdout",
          "output_type": "stream",
          "text": [
            "  employee   department  hire_date\n",
            "0      Bob   Accounting       2008\n",
            "1     Jake  Engineering       2012\n",
            "2     Lisa  Engineering       2004\n",
            "3      Sue           HR       2014\n"
          ]
        }
      ],
      "source": [
        "print(df_output1)"
      ]
    },
    {
      "cell_type": "markdown",
      "metadata": {
        "id": "GWTfF1nXyI4I"
      },
      "source": [
        "#(2) Many-to-One join/mapping (One-to-Many)"
      ]
    },
    {
      "cell_type": "code",
      "execution_count": null,
      "metadata": {
        "id": "iMVDl75jyIN4"
      },
      "outputs": [],
      "source": [
        "df3 = pd.DataFrame({'department': ['Accounting', 'Engineering', 'HR'],\n",
        "                    'supervisor': ['Carly', 'Guido', 'Steve']})"
      ]
    },
    {
      "cell_type": "code",
      "execution_count": null,
      "metadata": {
        "colab": {
          "base_uri": "https://localhost:8080/"
        },
        "id": "rZ3lHTJZuMvY",
        "outputId": "75955277-debb-4f38-bb5a-1039853a206d"
      },
      "outputs": [
        {
          "name": "stdout",
          "output_type": "stream",
          "text": [
            "    department supervisor\n",
            "0   Accounting      Carly\n",
            "1  Engineering      Guido\n",
            "2           HR      Steve\n"
          ]
        }
      ],
      "source": [
        "print(df3)"
      ]
    },
    {
      "cell_type": "code",
      "execution_count": null,
      "metadata": {
        "id": "XSjI_ByRuMyP"
      },
      "outputs": [],
      "source": [
        "df_output2 = pd.merge(df1, df3)"
      ]
    },
    {
      "cell_type": "code",
      "execution_count": null,
      "metadata": {
        "colab": {
          "base_uri": "https://localhost:8080/"
        },
        "id": "iyxwItWYuM1Y",
        "outputId": "4a42469d-00c9-4751-88c6-bd32dca4b27f"
      },
      "outputs": [
        {
          "name": "stdout",
          "output_type": "stream",
          "text": [
            "  employee   department supervisor\n",
            "0      Bob   Accounting      Carly\n",
            "1     Jake  Engineering      Guido\n",
            "2     Lisa  Engineering      Guido\n",
            "3      Sue           HR      Steve\n"
          ]
        }
      ],
      "source": [
        "print(df_output2)"
      ]
    },
    {
      "cell_type": "markdown",
      "metadata": {
        "id": "TcJS2feczqVg"
      },
      "source": [
        "#(3) Many-to-Many join/mapping "
      ]
    },
    {
      "cell_type": "code",
      "execution_count": null,
      "metadata": {
        "id": "JruE5vmXuM46"
      },
      "outputs": [],
      "source": [
        "df4= pd.DataFrame({'department': ['Accounting', 'Accounting',\n",
        "                              'Engineering', 'Engineering', 'HR', 'HR'],\n",
        "                    'skills': ['math', 'spreadsheets', 'coding', 'linux',\n",
        "                               'spreadsheets', 'organization']})"
      ]
    },
    {
      "cell_type": "code",
      "execution_count": null,
      "metadata": {
        "colab": {
          "base_uri": "https://localhost:8080/"
        },
        "id": "BUCPKoyRzyfn",
        "outputId": "d1e5ca2c-aa1d-442d-ce8a-f8ef59a289ac"
      },
      "outputs": [
        {
          "name": "stdout",
          "output_type": "stream",
          "text": [
            "    department        skills\n",
            "0   Accounting          math\n",
            "1   Accounting  spreadsheets\n",
            "2  Engineering        coding\n",
            "3  Engineering         linux\n",
            "4           HR  spreadsheets\n",
            "5           HR  organization\n"
          ]
        }
      ],
      "source": [
        "print(df4)"
      ]
    },
    {
      "cell_type": "code",
      "execution_count": null,
      "metadata": {
        "id": "-FPzbucfzyh_"
      },
      "outputs": [],
      "source": [
        "df_output3 = pd.merge(df1, df4)"
      ]
    },
    {
      "cell_type": "code",
      "execution_count": null,
      "metadata": {
        "colab": {
          "base_uri": "https://localhost:8080/"
        },
        "id": "Jgh_tZAgzykZ",
        "outputId": "9765d59a-853e-4b5c-b4c5-da0661dc6736"
      },
      "outputs": [
        {
          "name": "stdout",
          "output_type": "stream",
          "text": [
            "  employee   department        skills\n",
            "0      Bob   Accounting          math\n",
            "1      Bob   Accounting  spreadsheets\n",
            "2     Jake  Engineering        coding\n",
            "3     Jake  Engineering         linux\n",
            "4     Lisa  Engineering        coding\n",
            "5     Lisa  Engineering         linux\n",
            "6      Sue           HR  spreadsheets\n",
            "7      Sue           HR  organization\n"
          ]
        }
      ],
      "source": [
        "print(df_output3)"
      ]
    },
    {
      "cell_type": "markdown",
      "metadata": {
        "id": "NvbubI6b1ieY"
      },
      "source": [
        "#(4) specify the merge-key (common column name)"
      ]
    },
    {
      "cell_type": "code",
      "execution_count": null,
      "metadata": {
        "colab": {
          "base_uri": "https://localhost:8080/"
        },
        "id": "shNkDbz61INg",
        "outputId": "776175b3-3793-4991-fad6-4b12988a6f54"
      },
      "outputs": [
        {
          "name": "stdout",
          "output_type": "stream",
          "text": [
            "  employee   department\n",
            "0      Bob   Accounting\n",
            "1     Jake  Engineering\n",
            "2     Lisa  Engineering\n",
            "3      Sue           HR\n"
          ]
        }
      ],
      "source": [
        "print(df1)"
      ]
    },
    {
      "cell_type": "code",
      "execution_count": 3,
      "metadata": {
        "id": "_a4jJojz1IQv"
      },
      "outputs": [],
      "source": [
        "df2_new = pd.DataFrame({'emp_name': ['Lisa', 'Bob', 'Jake', 'Sue'],\n",
        "                    'hire_date': [2004, 2008, 2012, 2014]})"
      ]
    },
    {
      "cell_type": "code",
      "execution_count": null,
      "metadata": {
        "colab": {
          "base_uri": "https://localhost:8080/"
        },
        "id": "QHFUZtW41IUJ",
        "outputId": "470e5f0a-31d2-46bd-9528-51796eaa8880"
      },
      "outputs": [
        {
          "name": "stdout",
          "output_type": "stream",
          "text": [
            "  emp_name  hire_date\n",
            "0     Lisa       2004\n",
            "1      Bob       2008\n",
            "2     Jake       2012\n",
            "3      Sue       2014\n"
          ]
        }
      ],
      "source": [
        "print(df2_new)"
      ]
    },
    {
      "cell_type": "code",
      "execution_count": 4,
      "metadata": {
        "id": "L7dqcqSZ1IXP"
      },
      "outputs": [],
      "source": [
        "df_output4 = pd.merge(df1, df2_new, how=\"left\", left_on='employee', right_on='emp_name')"
      ]
    },
    {
      "cell_type": "code",
      "execution_count": 5,
      "metadata": {
        "colab": {
          "base_uri": "https://localhost:8080/"
        },
        "id": "0VkeBhn11qlw",
        "outputId": "5c96a0a8-63f6-4338-b7a8-e0c25eb8a0de"
      },
      "outputs": [
        {
          "name": "stdout",
          "output_type": "stream",
          "text": [
            "  employee   department emp_name  hire_date\n",
            "0      Bob   Accounting      Bob       2008\n",
            "1     Jake  Engineering     Jake       2012\n",
            "2     Lisa  Engineering     Lisa       2004\n",
            "3      Sue           HR      Sue       2014\n"
          ]
        }
      ],
      "source": [
        "print(df_output4)"
      ]
    },
    {
      "cell_type": "code",
      "execution_count": null,
      "metadata": {
        "id": "xdMSBj1n2UYo"
      },
      "outputs": [],
      "source": [
        "df_output4 = pd.merge(df1, df2_new, left_on='employee', right_on='emp_name')\n",
        "df_output4 = df_output4.drop('emp_name', axis=1)"
      ]
    },
    {
      "cell_type": "code",
      "execution_count": null,
      "metadata": {
        "colab": {
          "base_uri": "https://localhost:8080/"
        },
        "id": "IsKmPnJu2can",
        "outputId": "3477780e-07f6-468b-af8c-7f46a71c571b"
      },
      "outputs": [
        {
          "name": "stdout",
          "output_type": "stream",
          "text": [
            "  employee   department  hire_date\n",
            "0      Bob   Accounting       2008\n",
            "1     Jake  Engineering       2012\n",
            "2     Lisa  Engineering       2004\n",
            "3      Sue           HR       2014\n"
          ]
        }
      ],
      "source": [
        "print(df_output4)"
      ]
    },
    {
      "cell_type": "markdown",
      "metadata": {
        "id": "exqTH5FC45Ov"
      },
      "source": [
        "#(5) Merge using Index"
      ]
    },
    {
      "cell_type": "code",
      "execution_count": null,
      "metadata": {
        "colab": {
          "base_uri": "https://localhost:8080/"
        },
        "id": "vi-g1UrR38B4",
        "outputId": "caed9a48-db97-40b0-a865-8f96e3ea0d7a"
      },
      "outputs": [
        {
          "name": "stdout",
          "output_type": "stream",
          "text": [
            "  employee   department\n",
            "0      Bob   Accounting\n",
            "1     Jake  Engineering\n",
            "2     Lisa  Engineering\n",
            "3      Sue           HR\n"
          ]
        }
      ],
      "source": [
        "print(df1)"
      ]
    },
    {
      "cell_type": "code",
      "execution_count": null,
      "metadata": {
        "colab": {
          "base_uri": "https://localhost:8080/"
        },
        "id": "8ogaAsFY39gw",
        "outputId": "679f6bf5-07dd-4cb3-bdbb-649e99e5a75a"
      },
      "outputs": [
        {
          "name": "stdout",
          "output_type": "stream",
          "text": [
            "  employee  hire_date\n",
            "0     Lisa       2004\n",
            "1      Bob       2008\n",
            "2     Jake       2012\n",
            "3      Sue       2014\n"
          ]
        }
      ],
      "source": [
        "print(df2)"
      ]
    },
    {
      "cell_type": "code",
      "execution_count": null,
      "metadata": {
        "colab": {
          "base_uri": "https://localhost:8080/"
        },
        "id": "0bUwcvKf4SYY",
        "outputId": "8537b2f2-1dc7-49c7-d9bd-871d86d05177"
      },
      "outputs": [
        {
          "name": "stdout",
          "output_type": "stream",
          "text": [
            "  employee_L   department employee_R  hire_date\n",
            "0        Bob   Accounting       Lisa       2004\n",
            "1       Jake  Engineering        Bob       2008\n",
            "2       Lisa  Engineering       Jake       2012\n",
            "3        Sue           HR        Sue       2014\n"
          ]
        }
      ],
      "source": [
        "df_output5 = pd.merge(df1, df2, left_index=True, right_index=True, suffixes=[\"_L\", \"_R\"])\n",
        "print(df_output5)"
      ]
    },
    {
      "cell_type": "code",
      "execution_count": null,
      "metadata": {
        "colab": {
          "base_uri": "https://localhost:8080/"
        },
        "id": "bmdboag-5Bmv",
        "outputId": "4b4ddf79-4ab0-466c-be5a-b321f4f17069"
      },
      "outputs": [
        {
          "name": "stdout",
          "output_type": "stream",
          "text": [
            "  employee_L   department employee_R  hire_date\n",
            "0        Bob   Accounting       Lisa       2004\n",
            "1       Jake  Engineering        Bob       2008\n",
            "2       Lisa  Engineering       Jake       2012\n",
            "3        Sue           HR        Sue       2014\n"
          ]
        }
      ],
      "source": [
        "#join performs the merging on indices only\n",
        "\n",
        "df_output6 = df1.join(df2, lsuffix='_L', rsuffix='_R')\n",
        "\n",
        "print(df_output6)"
      ]
    },
    {
      "cell_type": "markdown",
      "metadata": {
        "id": "vRfd9zlA5_Hf"
      },
      "source": [
        "#(6) How parameter : inner, outer, left, right"
      ]
    },
    {
      "cell_type": "code",
      "execution_count": null,
      "metadata": {
        "id": "X8j1U6YA6IFn"
      },
      "outputs": [],
      "source": [
        "df6 = pd.DataFrame({'name': ['Peter', 'Paul', 'Mary'],\n",
        "                    'food': ['fish', 'beans', 'bread']},\n",
        "                   columns=['name', 'food'])\n",
        "df7 = pd.DataFrame({'name': ['Mary', 'Joseph'],\n",
        "                    'drink': ['wine', 'beer']},\n",
        "                   columns=['name', 'drink'])"
      ]
    },
    {
      "cell_type": "code",
      "execution_count": null,
      "metadata": {
        "colab": {
          "base_uri": "https://localhost:8080/"
        },
        "id": "nRbmjtu-6IH_",
        "outputId": "5780d041-235a-4bcc-a727-f3825c86ed24"
      },
      "outputs": [
        {
          "name": "stdout",
          "output_type": "stream",
          "text": [
            "    name   food\n",
            "0  Peter   fish\n",
            "1   Paul  beans\n",
            "2   Mary  bread\n"
          ]
        }
      ],
      "source": [
        "print(df6)"
      ]
    },
    {
      "cell_type": "code",
      "execution_count": null,
      "metadata": {
        "colab": {
          "base_uri": "https://localhost:8080/"
        },
        "id": "IowBO4Ti649X",
        "outputId": "dfabc6ef-6d2d-4ded-bab2-f0dea9256e52"
      },
      "outputs": [
        {
          "name": "stdout",
          "output_type": "stream",
          "text": [
            "     name drink\n",
            "0    Mary  wine\n",
            "1  Joseph  beer\n"
          ]
        }
      ],
      "source": [
        "print(df7)"
      ]
    },
    {
      "cell_type": "code",
      "execution_count": null,
      "metadata": {
        "colab": {
          "base_uri": "https://localhost:8080/"
        },
        "id": "sgMgvSgM69wP",
        "outputId": "f0126e5a-6d13-49c6-9ca9-f650a2e55ead"
      },
      "outputs": [
        {
          "name": "stdout",
          "output_type": "stream",
          "text": [
            "   name   food drink\n",
            "0  Mary  bread  wine\n"
          ]
        }
      ],
      "source": [
        "df_output7 = pd.merge(df6, df7)\n",
        "print(df_output7)"
      ]
    },
    {
      "cell_type": "code",
      "execution_count": null,
      "metadata": {
        "colab": {
          "base_uri": "https://localhost:8080/"
        },
        "id": "uzxV0MMz7LJO",
        "outputId": "50c1a810-2718-458f-a460-11c2a9711c1a"
      },
      "outputs": [
        {
          "name": "stdout",
          "output_type": "stream",
          "text": [
            "   name   food drink\n",
            "0  Mary  bread  wine\n"
          ]
        }
      ],
      "source": [
        "df_output7 = pd.merge(df6, df7, how='inner')\n",
        "print(df_output7)"
      ]
    },
    {
      "cell_type": "code",
      "execution_count": null,
      "metadata": {
        "colab": {
          "base_uri": "https://localhost:8080/"
        },
        "id": "7yGBC3yw7QSv",
        "outputId": "538bafd8-0f2d-404f-f20f-632cc6e577d3"
      },
      "outputs": [
        {
          "name": "stdout",
          "output_type": "stream",
          "text": [
            "    name   food drink\n",
            "0  Peter   fish   NaN\n",
            "1   Paul  beans   NaN\n",
            "2   Mary  bread  wine\n"
          ]
        }
      ],
      "source": [
        "df_output8 = pd.merge(df6, df7, how='left')\n",
        "print(df_output8)"
      ]
    },
    {
      "cell_type": "code",
      "execution_count": null,
      "metadata": {
        "colab": {
          "base_uri": "https://localhost:8080/"
        },
        "id": "lGs7w8EP7QVx",
        "outputId": "41a5001b-8d9f-457e-a3d4-9c0dbbda55c8"
      },
      "outputs": [
        {
          "name": "stdout",
          "output_type": "stream",
          "text": [
            "     name   food drink\n",
            "0    Mary  bread  wine\n",
            "1  Joseph    NaN  beer\n"
          ]
        }
      ],
      "source": [
        "df_output9 = pd.merge(df6, df7, how='right')\n",
        "print(df_output9)"
      ]
    },
    {
      "cell_type": "code",
      "execution_count": null,
      "metadata": {
        "colab": {
          "base_uri": "https://localhost:8080/"
        },
        "id": "hTkCfpub7QYu",
        "outputId": "fc493196-6cee-4c2a-8d51-316da3d6a49d"
      },
      "outputs": [
        {
          "name": "stdout",
          "output_type": "stream",
          "text": [
            "     name   food drink\n",
            "0   Peter   fish   NaN\n",
            "1    Paul  beans   NaN\n",
            "2    Mary  bread  wine\n",
            "3  Joseph    NaN  beer\n"
          ]
        }
      ],
      "source": [
        "df_output9 = pd.merge(df6, df7, how='outer')\n",
        "print(df_output9)"
      ]
    }
  ],
  "metadata": {
    "colab": {
      "collapsed_sections": [],
      "name": "CIS660 - L#09 (Merge, Join).ipynb",
      "provenance": []
    },
    "kernelspec": {
      "display_name": "Python 3",
      "name": "python3"
    },
    "language_info": {
      "codemirror_mode": {
        "name": "ipython",
        "version": 3
      },
      "file_extension": ".py",
      "mimetype": "text/x-python",
      "name": "python",
      "nbconvert_exporter": "python",
      "pygments_lexer": "ipython3",
      "version": "3.10.2"
    }
  },
  "nbformat": 4,
  "nbformat_minor": 0
}
