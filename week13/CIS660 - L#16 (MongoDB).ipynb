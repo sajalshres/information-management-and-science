{
 "cells": [
  {
   "cell_type": "code",
   "execution_count": 1,
   "metadata": {},
   "outputs": [],
   "source": [
    "import pymongo"
   ]
  },
  {
   "cell_type": "code",
   "execution_count": 4,
   "metadata": {},
   "outputs": [],
   "source": [
    "client = pymongo.MongoClient(\"mongodb://127.0.0.1:27017/\")"
   ]
  },
  {
   "cell_type": "code",
   "execution_count": 5,
   "metadata": {},
   "outputs": [],
   "source": [
    "#mydb = client.tempDB\n",
    "mydb = client['tempDB']"
   ]
  },
  {
   "cell_type": "code",
   "execution_count": 6,
   "metadata": {},
   "outputs": [
    {
     "name": "stdout",
     "output_type": "stream",
     "text": [
      "['CIS660', 'admin', 'config', 'local']\n"
     ]
    }
   ],
   "source": [
    "print(client.list_database_names())"
   ]
  },
  {
   "cell_type": "code",
   "execution_count": 7,
   "metadata": {},
   "outputs": [],
   "source": [
    "#mycollection = mydb.customers\n",
    "mycollection = mydb['customers']"
   ]
  },
  {
   "cell_type": "code",
   "execution_count": 8,
   "metadata": {},
   "outputs": [
    {
     "name": "stdout",
     "output_type": "stream",
     "text": [
      "[]\n"
     ]
    }
   ],
   "source": [
    "print(mydb.list_collection_names())"
   ]
  },
  {
   "cell_type": "code",
   "execution_count": 9,
   "metadata": {},
   "outputs": [
    {
     "data": {
      "text/plain": [
       "<pymongo.results.InsertOneResult at 0x219b0c508c0>"
      ]
     },
     "execution_count": 9,
     "metadata": {},
     "output_type": "execute_result"
    }
   ],
   "source": [
    "myrow = {\"name\" :\"john\", \"age\" :23, \"email\":\"john@gmail.com\" }\n",
    "mycollection.insert_one(myrow)"
   ]
  },
  {
   "cell_type": "code",
   "execution_count": 10,
   "metadata": {},
   "outputs": [
    {
     "name": "stdout",
     "output_type": "stream",
     "text": [
      "<pymongo.results.InsertOneResult object at 0x00000219B0DC1C80>\n"
     ]
    }
   ],
   "source": [
    "myrow = {\"name\" :\"sam\", \"age\" :35, \"email\":\"sam@gmail.com\" }\n",
    "rowid = mycollection.insert_one(myrow)\n",
    "print(rowid.inserted_id)"
   ]
  },
  {
   "cell_type": "code",
   "execution_count": 12,
   "metadata": {},
   "outputs": [
    {
     "name": "stdout",
     "output_type": "stream",
     "text": [
      "622a63a7ef14ec66a70af8f4\n"
     ]
    }
   ],
   "source": [
    "print(rowid.inserted_id)"
   ]
  },
  {
   "cell_type": "code",
   "execution_count": 14,
   "metadata": {},
   "outputs": [
    {
     "name": "stdout",
     "output_type": "stream",
     "text": [
      "622a6420ef14ec66a70af8f5\n"
     ]
    }
   ],
   "source": [
    "mydoc = {\"name\" :\"Sarah\", \"age\" :30, \"email\":\"sarah@gmail.com\" }\n",
    "doc_info = mycollection.insert_one(mydoc)\n",
    "print(doc_info.inserted_id)"
   ]
  },
  {
   "cell_type": "code",
   "execution_count": null,
   "metadata": {},
   "outputs": [],
   "source": []
  },
  {
   "cell_type": "code",
   "execution_count": 16,
   "metadata": {},
   "outputs": [
    {
     "data": {
      "text/plain": [
       "<pymongo.results.InsertManyResult at 0x219b0dd9f80>"
      ]
     },
     "execution_count": 16,
     "metadata": {},
     "output_type": "execute_result"
    }
   ],
   "source": [
    "my_rows = [\n",
    "            {\"name\" :\"Sarah\", \"age\" :30, \"email\":\"sarah@gmail.com\" },\n",
    "            {\"name\" :\"sam\", \"age\" :35, \"email\":\"sam@gmail.com\" }\n",
    "        ]\n",
    "mycollection.insert_many(my_rows)"
   ]
  },
  {
   "cell_type": "code",
   "execution_count": null,
   "metadata": {},
   "outputs": [],
   "source": []
  },
  {
   "cell_type": "code",
   "execution_count": 17,
   "metadata": {},
   "outputs": [
    {
     "data": {
      "text/plain": [
       "<pymongo.results.InsertManyResult at 0x219b0e7ae80>"
      ]
     },
     "execution_count": 17,
     "metadata": {},
     "output_type": "execute_result"
    }
   ],
   "source": [
    "my_rows = [\n",
    "            {\"_id\": 1, \"name\" :\"john\", \"age\" :23, \"email\":\"john@gmail.com\" },\n",
    "            {\"_id\": 2, \"name\" :\"david\", \"age\" :45, \"email\":\"david@gmail.com\" }\n",
    "        ]\n",
    "mycollection.insert_many(my_rows)"
   ]
  },
  {
   "cell_type": "code",
   "execution_count": null,
   "metadata": {},
   "outputs": [],
   "source": []
  },
  {
   "cell_type": "code",
   "execution_count": 19,
   "metadata": {},
   "outputs": [
    {
     "name": "stdout",
     "output_type": "stream",
     "text": [
      "{'_id': ObjectId('622a6371ef14ec66a70af8f3'), 'name': 'john', 'age': 23, 'email': 'john@gmail.com'}\n",
      "{'_id': ObjectId('622a63a7ef14ec66a70af8f4'), 'name': 'sam', 'age': 35, 'email': 'sam@gmail.com'}\n",
      "{'_id': ObjectId('622a6420ef14ec66a70af8f5'), 'name': 'Sarah', 'age': 30, 'email': 'sarah@gmail.com'}\n",
      "{'_id': ObjectId('622a646eef14ec66a70af8f6'), 'name': 'Sarah', 'age': 30, 'email': 'sarah@gmail.com'}\n",
      "{'_id': ObjectId('622a646eef14ec66a70af8f7'), 'name': 'sam', 'age': 35, 'email': 'sam@gmail.com'}\n",
      "{'_id': 1, 'name': 'john', 'age': 23, 'email': 'john@gmail.com'}\n",
      "{'_id': 2, 'name': 'david', 'age': 45, 'email': 'david@gmail.com'}\n"
     ]
    }
   ],
   "source": [
    "mydocs = mycollection.find({})\n",
    "for doc in mydocs:\n",
    "    print(doc)"
   ]
  },
  {
   "cell_type": "code",
   "execution_count": 20,
   "metadata": {},
   "outputs": [
    {
     "name": "stdout",
     "output_type": "stream",
     "text": [
      "{'_id': ObjectId('622a6371ef14ec66a70af8f3'), 'name': 'john', 'age': 23, 'email': 'john@gmail.com'}\n"
     ]
    }
   ],
   "source": [
    "x = mycollection.find_one()\n",
    "print(x)"
   ]
  },
  {
   "cell_type": "code",
   "execution_count": null,
   "metadata": {},
   "outputs": [],
   "source": []
  },
  {
   "cell_type": "code",
   "execution_count": 22,
   "metadata": {},
   "outputs": [
    {
     "name": "stdout",
     "output_type": "stream",
     "text": [
      "{'name': 'john', 'age': 23}\n",
      "{'name': 'sam', 'age': 35}\n",
      "{'name': 'Sarah', 'age': 30}\n",
      "{'name': 'Sarah', 'age': 30}\n",
      "{'name': 'sam', 'age': 35}\n",
      "{'name': 'john', 'age': 23}\n",
      "{'name': 'david', 'age': 45}\n"
     ]
    }
   ],
   "source": [
    "mydocs = mycollection.find({}, {\"name\" : 1, \"age\":1, \"_id\":0})\n",
    "for doc in mydocs:\n",
    "    print(doc)"
   ]
  },
  {
   "cell_type": "code",
   "execution_count": null,
   "metadata": {},
   "outputs": [],
   "source": []
  },
  {
   "cell_type": "code",
   "execution_count": 23,
   "metadata": {},
   "outputs": [
    {
     "name": "stdout",
     "output_type": "stream",
     "text": [
      "{'_id': ObjectId('622a63a7ef14ec66a70af8f4'), 'name': 'sam', 'age': 35, 'email': 'sam@gmail.com'}\n",
      "{'_id': ObjectId('622a646eef14ec66a70af8f7'), 'name': 'sam', 'age': 35, 'email': 'sam@gmail.com'}\n"
     ]
    }
   ],
   "source": [
    "myfilter = {\"name\" : \"sam\"}\n",
    "\n",
    "mydocs = mycollection.find(myfilter)\n",
    "for doc in mydocs:\n",
    "    print(doc)"
   ]
  },
  {
   "cell_type": "code",
   "execution_count": null,
   "metadata": {},
   "outputs": [],
   "source": []
  },
  {
   "cell_type": "code",
   "execution_count": 25,
   "metadata": {},
   "outputs": [
    {
     "name": "stdout",
     "output_type": "stream",
     "text": [
      "{'_id': ObjectId('622a6371ef14ec66a70af8f3'), 'name': 'john', 'age': 23, 'email': 'john@gmail.com'}\n",
      "{'_id': ObjectId('622a6420ef14ec66a70af8f5'), 'name': 'Sarah', 'age': 30, 'email': 'sarah@gmail.com'}\n",
      "{'_id': ObjectId('622a646eef14ec66a70af8f6'), 'name': 'Sarah', 'age': 30, 'email': 'sarah@gmail.com'}\n",
      "{'_id': 1, 'name': 'john', 'age': 23, 'email': 'john@gmail.com'}\n"
     ]
    }
   ],
   "source": [
    "myfilter = {\"age\" : {\"$lt\" : 33}}\n",
    "\n",
    "mydocs = mycollection.find(myfilter)\n",
    "for doc in mydocs:\n",
    "    print(doc)"
   ]
  },
  {
   "cell_type": "code",
   "execution_count": 26,
   "metadata": {},
   "outputs": [
    {
     "name": "stdout",
     "output_type": "stream",
     "text": [
      "{'_id': ObjectId('622a63a7ef14ec66a70af8f4'), 'name': 'sam', 'age': 35, 'email': 'sam@gmail.com'}\n",
      "{'_id': ObjectId('622a6420ef14ec66a70af8f5'), 'name': 'Sarah', 'age': 30, 'email': 'sarah@gmail.com'}\n",
      "{'_id': ObjectId('622a646eef14ec66a70af8f6'), 'name': 'Sarah', 'age': 30, 'email': 'sarah@gmail.com'}\n",
      "{'_id': ObjectId('622a646eef14ec66a70af8f7'), 'name': 'sam', 'age': 35, 'email': 'sam@gmail.com'}\n"
     ]
    }
   ],
   "source": [
    "myfilter = {\"email\" : {\"$regex\" : \"^s\"}}\n",
    "\n",
    "mydocs = mycollection.find(myfilter)\n",
    "for doc in mydocs:\n",
    "    print(doc)"
   ]
  },
  {
   "cell_type": "code",
   "execution_count": 28,
   "metadata": {},
   "outputs": [
    {
     "name": "stdout",
     "output_type": "stream",
     "text": [
      "{'_id': ObjectId('622a63a7ef14ec66a70af8f4'), 'name': 'sam', 'age': 35, 'email': 'sam@gmail.com'}\n",
      "{'_id': ObjectId('622a6420ef14ec66a70af8f5'), 'name': 'Sarah', 'age': 30, 'email': 'sarah@gmail.com'}\n",
      "{'_id': ObjectId('622a646eef14ec66a70af8f6'), 'name': 'Sarah', 'age': 30, 'email': 'sarah@gmail.com'}\n",
      "{'_id': ObjectId('622a646eef14ec66a70af8f7'), 'name': 'sam', 'age': 35, 'email': 'sam@gmail.com'}\n"
     ]
    }
   ],
   "source": [
    "myfilter = {\"name\" : {\"$regex\" : \"^s|^S\"}}\n",
    "\n",
    "mydocs = mycollection.find(myfilter)\n",
    "for doc in mydocs:\n",
    "    print(doc)"
   ]
  },
  {
   "cell_type": "code",
   "execution_count": null,
   "metadata": {},
   "outputs": [],
   "source": []
  },
  {
   "cell_type": "code",
   "execution_count": 38,
   "metadata": {},
   "outputs": [
    {
     "name": "stdout",
     "output_type": "stream",
     "text": [
      "{'_id': 2, 'name': 'david', 'age': 50, 'email': 'david@gmail.com'}\n",
      "{'_id': ObjectId('622a6371ef14ec66a70af8f3'), 'name': 'john', 'age': 23, 'email': 'john@gmail.com'}\n",
      "{'_id': 1, 'name': 'john', 'age': 23, 'email': 'john@gmail.com'}\n"
     ]
    }
   ],
   "source": [
    "mydocs = mycollection.find({}).sort(\"age\", -1)\n",
    "for doc in mydocs:\n",
    "    print(doc)"
   ]
  },
  {
   "cell_type": "code",
   "execution_count": null,
   "metadata": {},
   "outputs": [],
   "source": []
  },
  {
   "cell_type": "code",
   "execution_count": 32,
   "metadata": {},
   "outputs": [
    {
     "name": "stdout",
     "output_type": "stream",
     "text": [
      "1\n"
     ]
    }
   ],
   "source": [
    "mycriteria = {\"name\" : {\"$regex\" : \"^s|^S\"}}\n",
    "\n",
    "x = mycollection.delete_one(mycriteria)\n",
    "\n",
    "print(x.deleted_count)"
   ]
  },
  {
   "cell_type": "code",
   "execution_count": 34,
   "metadata": {},
   "outputs": [
    {
     "name": "stdout",
     "output_type": "stream",
     "text": [
      "3\n"
     ]
    }
   ],
   "source": [
    "mycriteria = {\"name\" : {\"$regex\" : \"^s|^S\"}}\n",
    "\n",
    "x = mycollection.delete_many(mycriteria)\n",
    "\n",
    "print(x.deleted_count)"
   ]
  },
  {
   "cell_type": "code",
   "execution_count": null,
   "metadata": {},
   "outputs": [],
   "source": []
  },
  {
   "cell_type": "code",
   "execution_count": 37,
   "metadata": {},
   "outputs": [
    {
     "name": "stdout",
     "output_type": "stream",
     "text": [
      "<pymongo.results.UpdateResult object at 0x00000219B0DDFD80>\n"
     ]
    }
   ],
   "source": [
    "mycriteria = {\"name\" : \"david\"}\n",
    "\n",
    "new_values = {\"$set\" : {\"age\" : 50}}\n",
    "\n",
    "\n",
    "x = mycollection.update_one(mycriteria, new_values)\n",
    "print(x)"
   ]
  },
  {
   "cell_type": "code",
   "execution_count": null,
   "metadata": {},
   "outputs": [],
   "source": []
  },
  {
   "cell_type": "code",
   "execution_count": 41,
   "metadata": {},
   "outputs": [],
   "source": [
    "mycriteria = {\"age\" : {\"$gt\" : 20}}\n",
    "\n",
    "new_values = {\"$set\" : {\"email\" : \"needs update\"}}\n",
    "\n",
    "\n",
    "x = mycollection.update_many(mycriteria, new_values)\n"
   ]
  },
  {
   "cell_type": "code",
   "execution_count": 46,
   "metadata": {},
   "outputs": [],
   "source": [
    "mydocs = mycollection.find({})\n",
    "for doc in mydocs:\n",
    "    print(doc)"
   ]
  },
  {
   "cell_type": "code",
   "execution_count": 43,
   "metadata": {},
   "outputs": [
    {
     "name": "stdout",
     "output_type": "stream",
     "text": [
      "{'_id': ObjectId('622a6371ef14ec66a70af8f3'), 'name': 'john', 'age': 23, 'email': 'needs update'}\n",
      "{'_id': 1, 'name': 'john', 'age': 23, 'email': 'needs update'}\n"
     ]
    }
   ],
   "source": [
    "mydocs = mycollection.find({}).limit(2)\n",
    "for doc in mydocs:\n",
    "    print(doc)"
   ]
  },
  {
   "cell_type": "code",
   "execution_count": null,
   "metadata": {},
   "outputs": [],
   "source": []
  },
  {
   "cell_type": "code",
   "execution_count": 45,
   "metadata": {},
   "outputs": [
    {
     "name": "stdout",
     "output_type": "stream",
     "text": [
      "3\n"
     ]
    }
   ],
   "source": [
    "#delete-all\n",
    "\n",
    "x = mycollection.delete_many({})\n",
    "print(x.deleted_count)"
   ]
  },
  {
   "cell_type": "code",
   "execution_count": 47,
   "metadata": {},
   "outputs": [],
   "source": [
    "mycollection.drop()"
   ]
  },
  {
   "cell_type": "code",
   "execution_count": null,
   "metadata": {},
   "outputs": [],
   "source": []
  },
  {
   "cell_type": "code",
   "execution_count": null,
   "metadata": {},
   "outputs": [],
   "source": []
  }
 ],
 "metadata": {
  "kernelspec": {
   "display_name": "Python 3",
   "language": "python",
   "name": "python3"
  },
  "language_info": {
   "codemirror_mode": {
    "name": "ipython",
    "version": 3
   },
   "file_extension": ".py",
   "mimetype": "text/x-python",
   "name": "python",
   "nbconvert_exporter": "python",
   "pygments_lexer": "ipython3",
   "version": "3.8.5"
  }
 },
 "nbformat": 4,
 "nbformat_minor": 4
}
