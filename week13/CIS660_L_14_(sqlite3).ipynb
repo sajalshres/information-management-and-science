{
  "nbformat": 4,
  "nbformat_minor": 0,
  "metadata": {
    "colab": {
      "name": "CIS660 - L#14 (sqlite3).ipynb",
      "provenance": [],
      "collapsed_sections": []
    },
    "kernelspec": {
      "name": "python3",
      "display_name": "Python 3"
    },
    "language_info": {
      "name": "python"
    }
  },
  "cells": [
    {
      "cell_type": "code",
      "execution_count": 1,
      "metadata": {
        "id": "sZHWQ8nnW_ye"
      },
      "outputs": [],
      "source": [
        "import sqlite3"
      ]
    },
    {
      "cell_type": "code",
      "source": [
        "cn = sqlite3.connect('cis660.db')\n"
      ],
      "metadata": {
        "id": "lfKQBfr4YWyq"
      },
      "execution_count": 3,
      "outputs": []
    },
    {
      "cell_type": "code",
      "source": [
        "cr = cn.cursor()"
      ],
      "metadata": {
        "id": "ZR5p_qPMYW1y"
      },
      "execution_count": 4,
      "outputs": []
    },
    {
      "cell_type": "code",
      "source": [
        "cr.execute('''CREATE TABLE stocks \n",
        "              (date text, \n",
        "              trans text, symbol text, \n",
        "              qty real, \n",
        "              price real)''')"
      ],
      "metadata": {
        "colab": {
          "base_uri": "https://localhost:8080/"
        },
        "id": "JrCpivL0YW5B",
        "outputId": "e339ed6d-1845-408a-e92c-32c57d92297d"
      },
      "execution_count": 5,
      "outputs": [
        {
          "output_type": "execute_result",
          "data": {
            "text/plain": [
              "<sqlite3.Cursor at 0x7f8d68130030>"
            ]
          },
          "metadata": {},
          "execution_count": 5
        }
      ]
    },
    {
      "cell_type": "code",
      "source": [
        "cr.execute(\"INSERT INTO stocks VALUES\\\n",
        "           ('2006-01-05','BUY','RHAT',100,35.14)\")\n",
        "cn.commit()\n",
        "cn.close()"
      ],
      "metadata": {
        "id": "fa5VNC6HY7J7"
      },
      "execution_count": 6,
      "outputs": []
    },
    {
      "cell_type": "code",
      "source": [
        "cn = sqlite3.connect('cis660.db')\n",
        "cr = cn.cursor()"
      ],
      "metadata": {
        "id": "yG6-_JZfZk96"
      },
      "execution_count": 7,
      "outputs": []
    },
    {
      "cell_type": "code",
      "source": [
        "data = cr.execute(\"select * from stocks\")\n",
        "\n",
        "for row in data:\n",
        "  print(row)"
      ],
      "metadata": {
        "colab": {
          "base_uri": "https://localhost:8080/"
        },
        "id": "IcH33purY7NK",
        "outputId": "9b5cde2a-5127-40ea-abf2-8a9102375a5f"
      },
      "execution_count": 8,
      "outputs": [
        {
          "output_type": "stream",
          "name": "stdout",
          "text": [
            "('2006-01-05', 'BUY', 'RHAT', 100.0, 35.14)\n"
          ]
        }
      ]
    },
    {
      "cell_type": "code",
      "source": [
        ""
      ],
      "metadata": {
        "id": "dPbQFaH8Y7Qq"
      },
      "execution_count": null,
      "outputs": []
    },
    {
      "cell_type": "code",
      "source": [
        "cr.execute('''CREATE TABLE COMPANY\n",
        "            (ID INT PRIMARY KEY     NOT NULL,\n",
        "            NAME           TEXT    NOT NULL,\n",
        "            AGE            INT     NOT NULL,\n",
        "            ADDRESS        CHAR(50),\n",
        "            SALARY         REAL);''')"
      ],
      "metadata": {
        "colab": {
          "base_uri": "https://localhost:8080/"
        },
        "id": "wnw6_7xLZy5a",
        "outputId": "3889ca48-aca9-4393-e0cd-ecbc2c697340"
      },
      "execution_count": 9,
      "outputs": [
        {
          "output_type": "execute_result",
          "data": {
            "text/plain": [
              "<sqlite3.Cursor at 0x7f8d650ce6c0>"
            ]
          },
          "metadata": {},
          "execution_count": 9
        }
      ]
    },
    {
      "cell_type": "code",
      "source": [
        "cr.execute(\"INSERT INTO COMPANY (ID,NAME,AGE,ADDRESS,SALARY) \\\n",
        "      VALUES (1, 'Paul', 32, 'California', 20000.00 )\");\n",
        "\n",
        "cr.execute(\"INSERT INTO COMPANY (ID,NAME,AGE,ADDRESS,SALARY) \\\n",
        "      VALUES (2, 'Allen', 25, 'Texas', 15000.00 )\");\n",
        "\n",
        "cr.execute(\"INSERT INTO COMPANY (ID,NAME,AGE,ADDRESS,SALARY) \\\n",
        "      VALUES (3, 'Teddy', 23, 'Norway', 20000.00 )\");\n",
        "\n",
        "cr.execute(\"INSERT INTO COMPANY (ID,NAME,AGE,ADDRESS,SALARY) \\\n",
        "      VALUES (4, 'Mark', 25, 'Rich-Mond ', 65000.00 )\");"
      ],
      "metadata": {
        "id": "fivc1ZM0Zy8i"
      },
      "execution_count": 10,
      "outputs": []
    },
    {
      "cell_type": "code",
      "source": [
        "cn.commit()"
      ],
      "metadata": {
        "id": "3GeCTc1kaJ4z"
      },
      "execution_count": 11,
      "outputs": []
    },
    {
      "cell_type": "code",
      "source": [
        "data = cr.execute(\"SELECT id, name, address, salary from COMPANY\")\n",
        "\n",
        "for row in data:\n",
        "  print(row)\n",
        "  #print(row[1], row[3])"
      ],
      "metadata": {
        "colab": {
          "base_uri": "https://localhost:8080/"
        },
        "id": "6dHGeyVtaJ7y",
        "outputId": "62d2deeb-a551-4c54-a055-ef103e5cb0cc"
      },
      "execution_count": 12,
      "outputs": [
        {
          "output_type": "stream",
          "name": "stdout",
          "text": [
            "(1, 'Paul', 'California', 20000.0)\n",
            "(2, 'Allen', 'Texas', 15000.0)\n",
            "(3, 'Teddy', 'Norway', 20000.0)\n",
            "(4, 'Mark', 'Rich-Mond ', 65000.0)\n"
          ]
        }
      ]
    },
    {
      "cell_type": "code",
      "source": [
        "cr.execute(\"update company set Salary = 40000 where name='Paul'\")\n",
        "cn.commit()\n"
      ],
      "metadata": {
        "id": "r6EZr5_0aJ-Z"
      },
      "execution_count": 13,
      "outputs": []
    },
    {
      "cell_type": "code",
      "source": [
        "cr.execute(\"delete from company where name='Paul'\")\n",
        "cn.commit()"
      ],
      "metadata": {
        "id": "uLKgaBbIayjT"
      },
      "execution_count": 14,
      "outputs": []
    }
  ]
}