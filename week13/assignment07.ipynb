{
 "cells": [
  {
   "cell_type": "markdown",
   "metadata": {},
   "source": [
    "# Assignment 07\n",
    "\n",
    "Sajal Shrestha, Due Date: 04/03/2022,11:59pm\n"
   ]
  },
  {
   "cell_type": "code",
   "execution_count": 28,
   "metadata": {},
   "outputs": [],
   "source": [
    "# imports\n",
    "import pandas as pd\n",
    "import sqlite3\n",
    "import pymongo"
   ]
  },
  {
   "cell_type": "markdown",
   "metadata": {},
   "source": [
    "### 1. Write a python code to read the employees.csv file into a data-frame. Loop through each row in the data-frame, and insert/store the records into a table of sqlite3 database.\n"
   ]
  },
  {
   "cell_type": "code",
   "execution_count": 29,
   "metadata": {},
   "outputs": [
    {
     "data": {
      "text/html": [
       "<div>\n",
       "<style scoped>\n",
       "    .dataframe tbody tr th:only-of-type {\n",
       "        vertical-align: middle;\n",
       "    }\n",
       "\n",
       "    .dataframe tbody tr th {\n",
       "        vertical-align: top;\n",
       "    }\n",
       "\n",
       "    .dataframe thead th {\n",
       "        text-align: right;\n",
       "    }\n",
       "</style>\n",
       "<table border=\"1\" class=\"dataframe\">\n",
       "  <thead>\n",
       "    <tr style=\"text-align: right;\">\n",
       "      <th></th>\n",
       "      <th>First Name</th>\n",
       "      <th>Gender</th>\n",
       "      <th>Start Date</th>\n",
       "      <th>Last Login Time</th>\n",
       "      <th>Salary</th>\n",
       "      <th>Bonus %</th>\n",
       "      <th>Senior Management</th>\n",
       "      <th>Team</th>\n",
       "    </tr>\n",
       "  </thead>\n",
       "  <tbody>\n",
       "    <tr>\n",
       "      <th>0</th>\n",
       "      <td>Douglas</td>\n",
       "      <td>Male</td>\n",
       "      <td>8/6/1993</td>\n",
       "      <td>12:42 PM</td>\n",
       "      <td>97308</td>\n",
       "      <td>6.945</td>\n",
       "      <td>True</td>\n",
       "      <td>Marketing</td>\n",
       "    </tr>\n",
       "    <tr>\n",
       "      <th>1</th>\n",
       "      <td>Thomas</td>\n",
       "      <td>Male</td>\n",
       "      <td>3/31/1996</td>\n",
       "      <td>6:53 AM</td>\n",
       "      <td>61933</td>\n",
       "      <td>4.170</td>\n",
       "      <td>True</td>\n",
       "      <td>NaN</td>\n",
       "    </tr>\n",
       "    <tr>\n",
       "      <th>2</th>\n",
       "      <td>Maria</td>\n",
       "      <td>Female</td>\n",
       "      <td>4/23/1993</td>\n",
       "      <td>11:17 AM</td>\n",
       "      <td>130590</td>\n",
       "      <td>11.858</td>\n",
       "      <td>False</td>\n",
       "      <td>Finance</td>\n",
       "    </tr>\n",
       "    <tr>\n",
       "      <th>3</th>\n",
       "      <td>Jerry</td>\n",
       "      <td>Male</td>\n",
       "      <td>3/4/2005</td>\n",
       "      <td>1:00 PM</td>\n",
       "      <td>138705</td>\n",
       "      <td>9.340</td>\n",
       "      <td>True</td>\n",
       "      <td>Finance</td>\n",
       "    </tr>\n",
       "    <tr>\n",
       "      <th>4</th>\n",
       "      <td>Larry</td>\n",
       "      <td>Male</td>\n",
       "      <td>1/24/1998</td>\n",
       "      <td>4:47 PM</td>\n",
       "      <td>101004</td>\n",
       "      <td>1.389</td>\n",
       "      <td>True</td>\n",
       "      <td>Client Services</td>\n",
       "    </tr>\n",
       "  </tbody>\n",
       "</table>\n",
       "</div>"
      ],
      "text/plain": [
       "  First Name  Gender Start Date Last Login Time  Salary  Bonus %  \\\n",
       "0    Douglas    Male   8/6/1993        12:42 PM   97308    6.945   \n",
       "1     Thomas    Male  3/31/1996         6:53 AM   61933    4.170   \n",
       "2      Maria  Female  4/23/1993        11:17 AM  130590   11.858   \n",
       "3      Jerry    Male   3/4/2005         1:00 PM  138705    9.340   \n",
       "4      Larry    Male  1/24/1998         4:47 PM  101004    1.389   \n",
       "\n",
       "  Senior Management             Team  \n",
       "0              True        Marketing  \n",
       "1              True              NaN  \n",
       "2             False          Finance  \n",
       "3              True          Finance  \n",
       "4              True  Client Services  "
      ]
     },
     "execution_count": 29,
     "metadata": {},
     "output_type": "execute_result"
    }
   ],
   "source": [
    "df = pd.read_csv(\"Employees.csv\")\n",
    "df.head()\n"
   ]
  },
  {
   "cell_type": "code",
   "execution_count": 31,
   "metadata": {},
   "outputs": [
    {
     "data": {
      "text/plain": [
       "(1000,)"
      ]
     },
     "execution_count": 31,
     "metadata": {},
     "output_type": "execute_result"
    }
   ],
   "source": [
    "con = sqlite3.connect(\"employees.db\")\n",
    "\n",
    "cursor = con.cursor()\n",
    "\n",
    "# Create table\n",
    "cursor.execute(\n",
    "    \"\"\"\n",
    "    CREATE TABLE IF NOT EXISTS employees (\n",
    "        first_name CHAR(50) NOT NULL,\n",
    "        gender CHAR(10) NOT NULL,\n",
    "        start_date CHAR(20) NOT NULL,\n",
    "        last_login_time CHAR(20) NOT NULL,\n",
    "        salary INTEGER,\n",
    "        bonus REAL,\n",
    "        is_senior_management CHAR(5) NOT NULL,\n",
    "        team CHAR(30)\n",
    "    )\n",
    "    \"\"\"\n",
    ")\n",
    "\n",
    "# Loop through each row in the data-frame, and insert/store the records into a table of sqlite3 database.\n",
    "for index, row in df.iterrows():\n",
    "    cursor.execute(\n",
    "        (\n",
    "            \"INSERT INTO employees VALUES(\"\n",
    "            f\"'{row['First Name']}', '{row['Gender']}',\"\n",
    "            f\"'{row['Start Date']}', '{row['Last Login Time']}',\"\n",
    "            f\"'{row['Salary']}', '{row['Bonus %']}',\"\n",
    "            f\"'{row['Senior Management']}', '{row['Team']}'\"\n",
    "            \")\"\n",
    "        )\n",
    "    )\n",
    "    \n",
    "    con.commit()\n",
    "\n",
    "cursor.execute(\"SELECT count(*) FROM employees\").fetchone()"
   ]
  },
  {
   "cell_type": "code",
   "execution_count": 4,
   "metadata": {},
   "outputs": [
    {
     "data": {
      "text/plain": [
       "\"INSERT INTO employees values(\\n'diksha', 'the boss'\\n\""
      ]
     },
     "execution_count": 4,
     "metadata": {},
     "output_type": "execute_result"
    }
   ],
   "source": [
    "\"\"\"INSERT INTO employees values(\n",
    "'%s', '%s'\n",
    "\"\"\" % (\"diksha\", \"the boss\")"
   ]
  },
  {
   "cell_type": "markdown",
   "metadata": {},
   "source": [
    "### 2. In the table (from step-1), drop at-least 5 employees, update (some) information of at-least 5 employees, and then add at-least 5 new employees. Perform at-least one analysis task using group-by clause.\n"
   ]
  },
  {
   "cell_type": "code",
   "execution_count": 32,
   "metadata": {},
   "outputs": [
    {
     "name": "stdout",
     "output_type": "stream",
     "text": [
      "236 employees removed\n"
     ]
    }
   ],
   "source": [
    "con = sqlite3.connect(\"employees.db\")\n",
    "cursor = con.cursor()\n",
    "\n",
    "# Drop at-least 5 employees\n",
    "query = (\n",
    "    \"DELETE FROM employees where first_name in (NULL, 'nan') or gender in (NULL, 'nan') or team in (NULL, 'nan')\"\n",
    ")\n",
    "cursor.execute(query)\n",
    "con.commit()\n",
    "\n",
    "print(cursor.rowcount, \"employees removed\")\n"
   ]
  },
  {
   "cell_type": "code",
   "execution_count": 33,
   "metadata": {},
   "outputs": [
    {
     "name": "stdout",
     "output_type": "stream",
     "text": [
      "381 employees salary increased\n"
     ]
    }
   ],
   "source": [
    "# update some information of at-least 5 emplyees\n",
    "cursor.execute(\"UPDATE employees set salary = salary + 10000 where is_senior_management = 'True'\")\n",
    "con.commit()\n",
    "print(cursor.rowcount, \"employees salary increased\")\n"
   ]
  },
  {
   "cell_type": "code",
   "execution_count": 34,
   "metadata": {},
   "outputs": [
    {
     "data": {
      "text/plain": [
       "(769,)"
      ]
     },
     "execution_count": 34,
     "metadata": {},
     "output_type": "execute_result"
    }
   ],
   "source": [
    "# add at-least 5 new employees\n",
    "cursor.execute(\"INSERT INTO employees (first_name, gender, start_date, last_login_time, salary, bonus, is_senior_management, team ) \\\n",
    "    VALUES ('Sam', 'Male', '3/4/2005', '1:00 PM', 138705, 10.5, 'False', 'Legal' )\")\n",
    "\n",
    "cursor.execute(\"INSERT INTO employees (first_name, gender, start_date, last_login_time, salary, bonus, is_senior_management, team ) \\\n",
    "    VALUES ('Pamela', 'Female', '12/2/1993', '11:00 PM', 125000, 6.7, 'True', 'Finance' )\")\n",
    "\n",
    "cursor.execute(\"INSERT INTO employees (first_name, gender, start_date, last_login_time, salary, bonus, is_senior_management, team ) \\\n",
    "    VALUES ('Sita', 'Female', '6/9/2000', '12:00 AM', 110234, 11.2, 'False', 'Human Resources' )\")\n",
    "\n",
    "cursor.execute(\"INSERT INTO employees (first_name, gender, start_date, last_login_time, salary, bonus, is_senior_management, team ) \\\n",
    "    VALUES ('John', 'Male', '5/12/2001', '1:45 PM', 95325, 8.9, 'False', 'Marketing' )\")\n",
    "\n",
    "cursor.execute(\"INSERT INTO employees (first_name, gender, start_date, last_login_time, salary, bonus, is_senior_management, team ) \\\n",
    "    VALUES ('Ram', 'Male', '4/14/1991', '5:30 PM', 140892, 9.8, 'True', 'Engineering' )\")\n",
    "\n",
    "con.commit()\n",
    "\n",
    "cursor.execute(\"SELECT count(*) FROM employees\").fetchone()"
   ]
  },
  {
   "cell_type": "code",
   "execution_count": 35,
   "metadata": {},
   "outputs": [
    {
     "name": "stdout",
     "output_type": "stream",
     "text": [
      "Team Business Development has 88 employees\n",
      "Team Client Services has 85 employees\n",
      "Team Distribution has 60 employees\n",
      "Team Engineering has 80 employees\n",
      "Team Finance has 81 employees\n",
      "Team Human Resources has 77 employees\n",
      "Team Legal has 68 employees\n",
      "Team Marketing has 75 employees\n",
      "Team Product has 83 employees\n",
      "Team Sales has 72 employees\n"
     ]
    }
   ],
   "source": [
    "# Perform at-least one analysis task using group-by clause.\n",
    "query = \"SELECT team, count(first_name) count FROM employees GROUP BY team\"\n",
    "\n",
    "cursor.execute(query)\n",
    "\n",
    "for item in cursor:\n",
    "    team, count = item\n",
    "    print(\"Team\", team, \"has\", count, \"employees\")"
   ]
  },
  {
   "cell_type": "markdown",
   "metadata": {},
   "source": [
    "### 3. Read the Employees-data of sqlite3 table (from step-2 above) into a data-frame. Loop through each row in the data-frame, and convert the rows into documents. Store each of these documents into a mongodb-collection.\n"
   ]
  },
  {
   "cell_type": "code",
   "execution_count": 36,
   "metadata": {},
   "outputs": [
    {
     "data": {
      "text/html": [
       "<div>\n",
       "<style scoped>\n",
       "    .dataframe tbody tr th:only-of-type {\n",
       "        vertical-align: middle;\n",
       "    }\n",
       "\n",
       "    .dataframe tbody tr th {\n",
       "        vertical-align: top;\n",
       "    }\n",
       "\n",
       "    .dataframe thead th {\n",
       "        text-align: right;\n",
       "    }\n",
       "</style>\n",
       "<table border=\"1\" class=\"dataframe\">\n",
       "  <thead>\n",
       "    <tr style=\"text-align: right;\">\n",
       "      <th></th>\n",
       "      <th>first_name</th>\n",
       "      <th>gender</th>\n",
       "      <th>start_date</th>\n",
       "      <th>last_login_time</th>\n",
       "      <th>salary</th>\n",
       "      <th>bonus</th>\n",
       "      <th>is_senior_management</th>\n",
       "      <th>team</th>\n",
       "    </tr>\n",
       "  </thead>\n",
       "  <tbody>\n",
       "    <tr>\n",
       "      <th>0</th>\n",
       "      <td>Douglas</td>\n",
       "      <td>Male</td>\n",
       "      <td>8/6/1993</td>\n",
       "      <td>12:42 PM</td>\n",
       "      <td>107308</td>\n",
       "      <td>6.945</td>\n",
       "      <td>True</td>\n",
       "      <td>Marketing</td>\n",
       "    </tr>\n",
       "    <tr>\n",
       "      <th>1</th>\n",
       "      <td>Maria</td>\n",
       "      <td>Female</td>\n",
       "      <td>4/23/1993</td>\n",
       "      <td>11:17 AM</td>\n",
       "      <td>130590</td>\n",
       "      <td>11.858</td>\n",
       "      <td>False</td>\n",
       "      <td>Finance</td>\n",
       "    </tr>\n",
       "    <tr>\n",
       "      <th>2</th>\n",
       "      <td>Jerry</td>\n",
       "      <td>Male</td>\n",
       "      <td>3/4/2005</td>\n",
       "      <td>1:00 PM</td>\n",
       "      <td>148705</td>\n",
       "      <td>9.340</td>\n",
       "      <td>True</td>\n",
       "      <td>Finance</td>\n",
       "    </tr>\n",
       "    <tr>\n",
       "      <th>3</th>\n",
       "      <td>Larry</td>\n",
       "      <td>Male</td>\n",
       "      <td>1/24/1998</td>\n",
       "      <td>4:47 PM</td>\n",
       "      <td>111004</td>\n",
       "      <td>1.389</td>\n",
       "      <td>True</td>\n",
       "      <td>Client Services</td>\n",
       "    </tr>\n",
       "    <tr>\n",
       "      <th>4</th>\n",
       "      <td>Dennis</td>\n",
       "      <td>Male</td>\n",
       "      <td>4/18/1987</td>\n",
       "      <td>1:35 AM</td>\n",
       "      <td>115163</td>\n",
       "      <td>10.125</td>\n",
       "      <td>False</td>\n",
       "      <td>Legal</td>\n",
       "    </tr>\n",
       "  </tbody>\n",
       "</table>\n",
       "</div>"
      ],
      "text/plain": [
       "  first_name  gender start_date last_login_time  salary   bonus  \\\n",
       "0    Douglas    Male   8/6/1993        12:42 PM  107308   6.945   \n",
       "1      Maria  Female  4/23/1993        11:17 AM  130590  11.858   \n",
       "2      Jerry    Male   3/4/2005         1:00 PM  148705   9.340   \n",
       "3      Larry    Male  1/24/1998         4:47 PM  111004   1.389   \n",
       "4     Dennis    Male  4/18/1987         1:35 AM  115163  10.125   \n",
       "\n",
       "  is_senior_management             team  \n",
       "0                 True        Marketing  \n",
       "1                False          Finance  \n",
       "2                 True          Finance  \n",
       "3                 True  Client Services  \n",
       "4                False            Legal  "
      ]
     },
     "execution_count": 36,
     "metadata": {},
     "output_type": "execute_result"
    }
   ],
   "source": [
    "# Read the Employees-data of sqlite3 table (from step-2 above) into a data-frame.\n",
    "cursor.execute(\"SELECT * from employees\")\n",
    "columns = [\"first_name\", \"gender\", \"start_date\", \"last_login_time\", \"salary\", \"bonus\", \"is_senior_management\", \"team\"]\n",
    "employees_df = pd.DataFrame(data=cursor.fetchall(), columns=columns)\n",
    "employees_df.head()"
   ]
  },
  {
   "cell_type": "code",
   "execution_count": 37,
   "metadata": {},
   "outputs": [],
   "source": [
    "# Loop through each row in the data-frame, and convert the rows into documents.\n",
    "rows = []\n",
    "for _, row in employees_df.iterrows():\n",
    "    rows.append(row.to_dict())"
   ]
  },
  {
   "cell_type": "code",
   "execution_count": 38,
   "metadata": {},
   "outputs": [
    {
     "data": {
      "text/plain": [
       "<pymongo.results.InsertManyResult at 0x127597b40>"
      ]
     },
     "execution_count": 38,
     "metadata": {},
     "output_type": "execute_result"
    }
   ],
   "source": [
    "# Store each of these documents into a mongodb-collection.\n",
    "client = pymongo.MongoClient(\"mongodb://127.0.0.1:27017/\")\n",
    "\n",
    "db = client[\"employeesDb\"]\n",
    "collection = db[\"employees\"]\n",
    "collection.drop()\n",
    "\n",
    "collection.insert_many(rows)"
   ]
  },
  {
   "cell_type": "code",
   "execution_count": 39,
   "metadata": {},
   "outputs": [
    {
     "data": {
      "text/plain": [
       "769"
      ]
     },
     "execution_count": 39,
     "metadata": {},
     "output_type": "execute_result"
    }
   ],
   "source": [
    "collection.count_documents({})"
   ]
  },
  {
   "cell_type": "markdown",
   "metadata": {},
   "source": [
    "### 4. In the collection (from step-3), drop at-least 5 employees, update (some) information of at- least 5 employees, and add at-least 5 new employees. Perform at-least one analysis task using group-by clause.\n"
   ]
  },
  {
   "cell_type": "code",
   "execution_count": 40,
   "metadata": {},
   "outputs": [
    {
     "data": {
      "text/plain": [
       "67"
      ]
     },
     "execution_count": 40,
     "metadata": {},
     "output_type": "execute_result"
    }
   ],
   "source": [
    "# drop at-least 5 employees\n",
    "filter = {\"first_name\": {\"$regex\": \"^A\"}}\n",
    "res = collection.delete_many(filter)\n",
    "res.deleted_count"
   ]
  },
  {
   "cell_type": "code",
   "execution_count": 41,
   "metadata": {},
   "outputs": [
    {
     "data": {
      "text/plain": [
       "363"
      ]
     },
     "execution_count": 41,
     "metadata": {},
     "output_type": "execute_result"
    }
   ],
   "source": [
    "# update at-least 5 employees\n",
    "filter = {\"is_senior_management\": \"False\"}\n",
    "new_value = {\"$inc\": { \"bonus\": 5 }}\n",
    "\n",
    "res = collection.update_many(filter, new_value)\n",
    "res.modified_count"
   ]
  },
  {
   "cell_type": "code",
   "execution_count": 42,
   "metadata": {},
   "outputs": [
    {
     "data": {
      "text/plain": [
       "[ObjectId('625761396d95681211b076a3'),\n",
       " ObjectId('625761396d95681211b076a4'),\n",
       " ObjectId('625761396d95681211b076a5'),\n",
       " ObjectId('625761396d95681211b076a6'),\n",
       " ObjectId('625761396d95681211b076a7')]"
      ]
     },
     "execution_count": 42,
     "metadata": {},
     "output_type": "execute_result"
    }
   ],
   "source": [
    "# add at-least 5 new employees\n",
    "new_employees = [\n",
    "    {\n",
    "        \"first_name\": \"Sam\",\n",
    "        \"gender\": \"Male\",\n",
    "        \"start_date\": \"8/6/1993\",\n",
    "        \"last_login_time\": \"12:42 PM\",\n",
    "        \"salary\": 107308,\n",
    "        \"bonus\": 6.945,\n",
    "        \"is_senior_management\": \"True\",\n",
    "        \"team\": \"Marketing\",\n",
    "    },\n",
    "    {\n",
    "        \"first_name\": \"Ram\",\n",
    "        \"gender\": \"Male\",\n",
    "        \"start_date\": \"8/6/1991\",\n",
    "        \"last_login_time\": \"12:00 AM\",\n",
    "        \"salary\": 11200,\n",
    "        \"bonus\": 7.5,\n",
    "        \"is_senior_management\": \"True\",\n",
    "        \"team\": \"Research\",\n",
    "    },\n",
    "    {\n",
    "        \"first_name\": \"Gita\",\n",
    "        \"gender\": \"Female\",\n",
    "        \"start_date\": \"7/6/1996\",\n",
    "        \"last_login_time\": \"1:42 PM\",\n",
    "        \"salary\": 93500,\n",
    "        \"bonus\": 12.5,\n",
    "        \"is_senior_management\": \"False\",\n",
    "        \"team\": \"Humar Resources\",\n",
    "    },\n",
    "    {\n",
    "        \"first_name\": \"Micheal\",\n",
    "        \"gender\": \"Male\",\n",
    "        \"start_date\": \"8/6/1996\",\n",
    "        \"last_login_time\": \"5:55 PM\",\n",
    "        \"salary\": 120000,\n",
    "        \"bonus\": 6.5,\n",
    "        \"is_senior_management\": \"False\",\n",
    "        \"team\": \"Legal\",\n",
    "    },\n",
    "    {\n",
    "        \"first_name\": \"Jasmine\",\n",
    "        \"gender\": \"Female\",\n",
    "        \"start_date\": \"8/8/1990\",\n",
    "        \"last_login_time\": \"5:42 PM\",\n",
    "        \"salary\": 140000,\n",
    "        \"bonus\": 12.1,\n",
    "        \"is_senior_management\": \"True\",\n",
    "        \"team\": \"Engineering\",\n",
    "    },\n",
    "]\n",
    "\n",
    "res = collection.insert_many(new_employees)\n",
    "res.inserted_ids\n"
   ]
  },
  {
   "cell_type": "code",
   "execution_count": 46,
   "metadata": {},
   "outputs": [
    {
     "name": "stdout",
     "output_type": "stream",
     "text": [
      "[{'_id': 'Male', 'salary': 96201.67806267807}, {'_id': 'Female', 'salary': 93908.0786516854}]\n",
      "Gender Male has average salary of 96201.67806267807\n",
      "Gender Female has average salary of 93908.0786516854\n"
     ]
    }
   ],
   "source": [
    "# perform at-least one analysis task using group-by cloause\n",
    "# https://pymongo.readthedocs.io/en/stable/examples/aggregation.html\n",
    "\n",
    "pipeline = [{\"$group\": {\"_id\": \"$gender\", \"salary\": {\"$avg\": \"$salary\"}}}]\n",
    "\n",
    "result = list(collection.aggregate(pipeline))\n",
    "\n",
    "print(result)\n",
    "\n",
    "for item in result:\n",
    "    print(\"Gender\", item[\"_id\"], \"has average salary of\", item[\"salary\"])\n"
   ]
  },
  {
   "cell_type": "markdown",
   "metadata": {},
   "source": [
    "### 5. Read the Employees-data of sqlite3 table (from step-2 above), and write it to a csv file (comma- delimited). Similarly, read each document of the mongodb-collection (from step-4 above), and write it to a text file in JSON (key-value) format.\n"
   ]
  },
  {
   "cell_type": "code",
   "execution_count": 47,
   "metadata": {},
   "outputs": [],
   "source": [
    "# Read the Employees-data of sqlite3 table (from step-2 above), and write it to a csv file (comma- delimited). \n",
    "# https://docs.python.org/3/library/csv.html\n",
    "\n",
    "import csv\n",
    "\n",
    "columns = [\"first_name\", \"gender\", \"start_date\", \"last_login_time\", \"salary\", \"bonus\", \"is_senior_management\", \"team\"]\n",
    "\n",
    "with open(\"employees_sqlite.csv\", \"w\") as file:\n",
    "    writer = csv.writer(file, delimiter=\",\")\n",
    "    \n",
    "    # write header\n",
    "    writer.writerow(columns)\n",
    "    \n",
    "    # fetch data\n",
    "    data = cursor.execute(\"SELECT * from employees\")\n",
    "\n",
    "    # write rows   \n",
    "    for item in data:\n",
    "        writer.writerow(item)\n"
   ]
  },
  {
   "cell_type": "code",
   "execution_count": 48,
   "metadata": {},
   "outputs": [],
   "source": [
    "# Read each document of the mongodb-collection (from step-4 above), and write it to a text file in JSON (key-value) format.\n",
    "import json\n",
    "\n",
    "# remove _id from data\n",
    "data = list(collection.find({}, {\"_id\": 0}))\n",
    "\n",
    "with open(\"employees.json\", \"w\") as file:\n",
    "    json.dump(data,file, indent=4)"
   ]
  }
 ],
 "metadata": {
  "interpreter": {
   "hash": "7e1998ff7f8aa20ada591c520b972326324e5ea05489af9e422744c7c09f6dad"
  },
  "kernelspec": {
   "display_name": "Python 3.10.2 64-bit",
   "language": "python",
   "name": "python3"
  },
  "language_info": {
   "codemirror_mode": {
    "name": "ipython",
    "version": 3
   },
   "file_extension": ".py",
   "mimetype": "text/x-python",
   "name": "python",
   "nbconvert_exporter": "python",
   "pygments_lexer": "ipython3",
   "version": "3.10.2"
  },
  "orig_nbformat": 4
 },
 "nbformat": 4,
 "nbformat_minor": 2
}
