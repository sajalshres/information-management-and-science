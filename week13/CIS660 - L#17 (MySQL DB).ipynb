{
 "cells": [
  {
   "cell_type": "code",
   "execution_count": 1,
   "metadata": {},
   "outputs": [],
   "source": [
    "import mysql.connector"
   ]
  },
  {
   "cell_type": "code",
   "execution_count": 2,
   "metadata": {},
   "outputs": [
    {
     "name": "stdout",
     "output_type": "stream",
     "text": [
      "<mysql.connector.connection.MySQLConnection object at 0x0000022DEBE07AF0>\n"
     ]
    }
   ],
   "source": [
    "cn = mysql.connector.connect(\n",
    "\n",
    "    host=\"localhost\",\n",
    "    user=\"root\",\n",
    "    password=\"root\"\n",
    ")\n",
    "\n",
    "print(cn)"
   ]
  },
  {
   "cell_type": "code",
   "execution_count": 3,
   "metadata": {},
   "outputs": [],
   "source": [
    "cr = cn.cursor()"
   ]
  },
  {
   "cell_type": "code",
   "execution_count": 13,
   "metadata": {},
   "outputs": [],
   "source": [
    "cr.execute(\"create database organization\")"
   ]
  },
  {
   "cell_type": "code",
   "execution_count": 5,
   "metadata": {},
   "outputs": [],
   "source": [
    "#cr.execute(\"drop database employees\")"
   ]
  },
  {
   "cell_type": "code",
   "execution_count": 4,
   "metadata": {},
   "outputs": [
    {
     "name": "stdout",
     "output_type": "stream",
     "text": [
      "('cis660',)\n",
      "('information_schema',)\n",
      "('mysql',)\n",
      "('organization',)\n",
      "('performance_schema',)\n",
      "('previous',)\n",
      "('sys',)\n"
     ]
    }
   ],
   "source": [
    "cr.execute(\"show databases\")\n",
    "\n",
    "for val in cr:\n",
    "    print(val)"
   ]
  },
  {
   "cell_type": "code",
   "execution_count": null,
   "metadata": {},
   "outputs": [],
   "source": [
    "cn = mysql.connector.connect(\n",
    "\n",
    "    host=\"localhost\",\n",
    "    user=\"root\",\n",
    "    password=\"root\",\n",
    "    database = \"organization\"\n",
    ")"
   ]
  },
  {
   "cell_type": "code",
   "execution_count": 5,
   "metadata": {},
   "outputs": [],
   "source": [
    "cr.execute(\"use organization\")"
   ]
  },
  {
   "cell_type": "code",
   "execution_count": 7,
   "metadata": {},
   "outputs": [],
   "source": [
    "#cr.execute(\"drop table employees\")"
   ]
  },
  {
   "cell_type": "code",
   "execution_count": 8,
   "metadata": {},
   "outputs": [],
   "source": [
    "cr.execute('''\n",
    "            create table employees(\n",
    "                id int auto_increment primary key,\n",
    "                name varchar(20),\n",
    "                salary float,\n",
    "                job_title varchar(20)\n",
    "            )\n",
    "''')"
   ]
  },
  {
   "cell_type": "code",
   "execution_count": 9,
   "metadata": {},
   "outputs": [
    {
     "name": "stdout",
     "output_type": "stream",
     "text": [
      "('employees',)\n"
     ]
    }
   ],
   "source": [
    "cr.execute(\"show tables\")\n",
    "\n",
    "for val in cr:\n",
    "    print(val)"
   ]
  },
  {
   "cell_type": "code",
   "execution_count": 10,
   "metadata": {},
   "outputs": [],
   "source": [
    "cr.execute(\"insert into employees (name, salary, job_title) values('Sam', 98000, 'Developer')\")"
   ]
  },
  {
   "cell_type": "code",
   "execution_count": 12,
   "metadata": {},
   "outputs": [],
   "source": [
    "query = \"insert into employees (name, salary, job_title) values(%s, %s, %s)\"\n",
    "\n",
    "val = [('John', 100000, 'Web Designer'), ('Sarah', 125000, 'DBA'), ('Dave', '150000', 'Data Scientist')]\n",
    "\n",
    "cr.executemany(query, val)\n"
   ]
  },
  {
   "cell_type": "code",
   "execution_count": 13,
   "metadata": {},
   "outputs": [
    {
     "data": {
      "text/plain": [
       "3"
      ]
     },
     "execution_count": 13,
     "metadata": {},
     "output_type": "execute_result"
    }
   ],
   "source": [
    "cr.rowcount"
   ]
  },
  {
   "cell_type": "code",
   "execution_count": 14,
   "metadata": {},
   "outputs": [],
   "source": [
    "cn.commit()"
   ]
  },
  {
   "cell_type": "code",
   "execution_count": 11,
   "metadata": {},
   "outputs": [
    {
     "name": "stdout",
     "output_type": "stream",
     "text": [
      "(1, 'Sam', 98000.0, 'Developer')\n"
     ]
    }
   ],
   "source": [
    "cr.execute(\"select * from employees\")\n",
    "\n",
    "for val in cr:\n",
    "    print(val)"
   ]
  },
  {
   "cell_type": "code",
   "execution_count": 16,
   "metadata": {},
   "outputs": [
    {
     "name": "stdout",
     "output_type": "stream",
     "text": [
      "(1, 'Sam', 98000.0, 'Developer')\n",
      "(2, 'John', 100000.0, 'Web Designer')\n",
      "(3, 'Sarah', 125000.0, 'DBA')\n",
      "(4, 'Dave', 150000.0, 'Data Scientist')\n"
     ]
    }
   ],
   "source": [
    "cr.execute(\"select * from employees\")\n",
    "\n",
    "for val in cr:\n",
    "    print(val)"
   ]
  },
  {
   "cell_type": "code",
   "execution_count": null,
   "metadata": {},
   "outputs": [],
   "source": [
    "cr.execute(\"select * from employees limit 3\")\n",
    "\n",
    "for val in cr:\n",
    "    print(val)"
   ]
  },
  {
   "cell_type": "code",
   "execution_count": 22,
   "metadata": {},
   "outputs": [
    {
     "name": "stdout",
     "output_type": "stream",
     "text": [
      "('Sam', 'Developer')\n",
      "('John', 'Web Designer')\n",
      "('Sarah', 'DBA')\n",
      "('Dave', 'Data Scientist')\n"
     ]
    }
   ],
   "source": [
    "cr.execute(\"select name, job_title from employees\")\n",
    "\n",
    "for val in cr:\n",
    "    print(val)"
   ]
  },
  {
   "cell_type": "code",
   "execution_count": 18,
   "metadata": {},
   "outputs": [
    {
     "name": "stdout",
     "output_type": "stream",
     "text": [
      "(1, 'Sam', 98000.0, 'Developer')\n"
     ]
    }
   ],
   "source": [
    "cr.execute(\"select * from employees\")\n",
    "\n",
    "result = cr.fetchone()\n",
    "\n",
    "print(result)"
   ]
  },
  {
   "cell_type": "code",
   "execution_count": 21,
   "metadata": {},
   "outputs": [
    {
     "name": "stdout",
     "output_type": "stream",
     "text": [
      "(2, 'John', 100000.0, 'Web Designer')\n",
      "(3, 'Sarah', 125000.0, 'DBA')\n",
      "(4, 'Dave', 150000.0, 'Data Scientist')\n"
     ]
    }
   ],
   "source": [
    "'''\n",
    "for val in cr:\n",
    "    print(val)\n",
    "'''"
   ]
  },
  {
   "cell_type": "code",
   "execution_count": 23,
   "metadata": {},
   "outputs": [
    {
     "name": "stdout",
     "output_type": "stream",
     "text": [
      "(1, 'Sam', 98000.0, 'Developer')\n",
      "(2, 'John', 100000.0, 'Web Designer')\n"
     ]
    }
   ],
   "source": [
    "cr.execute(\"select * from employees where salary <=100000\")\n",
    "\n",
    "for val in cr:\n",
    "    print(val)"
   ]
  },
  {
   "cell_type": "code",
   "execution_count": null,
   "metadata": {},
   "outputs": [],
   "source": []
  },
  {
   "cell_type": "code",
   "execution_count": 25,
   "metadata": {},
   "outputs": [
    {
     "name": "stdout",
     "output_type": "stream",
     "text": [
      "(1, 'Sam', 98000.0, 'Developer')\n",
      "(2, 'John', 100000.0, 'Web Designer')\n"
     ]
    }
   ],
   "source": [
    "cr.execute(\"select * from employees where job_title like '%er%' \")\n",
    "for val in cr:\n",
    "    print(val)"
   ]
  },
  {
   "cell_type": "code",
   "execution_count": 31,
   "metadata": {},
   "outputs": [
    {
     "name": "stdout",
     "output_type": "stream",
     "text": [
      "(4, 'Dave', 150000.0, 'Data Scientist')\n",
      "(2, 'John', 100000.0, 'Web Designer')\n",
      "(1, 'Sam', 98000.0, 'Developer')\n"
     ]
    }
   ],
   "source": [
    "cr.execute(\"select * from employees order by salary desc\")\n",
    "for val in cr:\n",
    "    print(val)"
   ]
  },
  {
   "cell_type": "code",
   "execution_count": 28,
   "metadata": {},
   "outputs": [],
   "source": [
    "cr.execute(\"update employees set salary = 135000 where id=3 \")\n",
    "cn.commit()\n"
   ]
  },
  {
   "cell_type": "code",
   "execution_count": 30,
   "metadata": {},
   "outputs": [],
   "source": [
    "cr.execute(\"delete from employees where id=3 \")\n",
    "cn.commit()"
   ]
  },
  {
   "cell_type": "code",
   "execution_count": 35,
   "metadata": {},
   "outputs": [],
   "source": [
    "cr.execute(\"drop table if exists employees\")"
   ]
  },
  {
   "cell_type": "code",
   "execution_count": 36,
   "metadata": {},
   "outputs": [],
   "source": [
    "cr.execute(\"drop database organization\")"
   ]
  }
 ],
 "metadata": {
  "kernelspec": {
   "display_name": "Python 3",
   "language": "python",
   "name": "python3"
  },
  "language_info": {
   "codemirror_mode": {
    "name": "ipython",
    "version": 3
   },
   "file_extension": ".py",
   "mimetype": "text/x-python",
   "name": "python",
   "nbconvert_exporter": "python",
   "pygments_lexer": "ipython3",
   "version": "3.8.5"
  }
 },
 "nbformat": 4,
 "nbformat_minor": 4
}
