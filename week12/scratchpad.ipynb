{
 "cells": [
  {
   "cell_type": "code",
   "execution_count": null,
   "metadata": {},
   "outputs": [],
   "source": [
    "import regex as re\n",
    "texts = '''\n",
    "The urls to be registered are\n",
    "http://domain.com, https://domain.com, https://www.domain.com, https://domain.com/resource/?filter=10&anotherfilter=a\n",
    "http://domain.com/index.html, http://www.domain-site.edu/site.asp, \n",
    "http://localhost:8000/api/resource, http://127.0.0.0.1/,\n",
    "http://www.domain.com/?q=test%20word\n",
    "'''\n",
    "\n",
    "re.findall(\"https?://(?:[a-zA-Z]|[0-9]|[$-_@.&+]|[!*\\(\\),]|(?:%[0-9a-fA-F][0-9a-fA-F]))+\", texts)"
   ]
  },
  {
   "cell_type": "code",
   "execution_count": null,
   "metadata": {},
   "outputs": [],
   "source": []
  }
 ],
 "metadata": {
  "language_info": {
   "name": "python"
  },
  "orig_nbformat": 4
 },
 "nbformat": 4,
 "nbformat_minor": 2
}
