{
 "cells": [
  {
   "cell_type": "markdown",
   "metadata": {},
   "source": [
    "# Assignment 06\n",
    "\n",
    "Due Date:  04/03/2022,11:59pm\n",
    "Name: Sajal Shrestha"
   ]
  },
  {
   "cell_type": "code",
   "execution_count": 2,
   "metadata": {},
   "outputs": [],
   "source": [
    "# imports\n",
    "import regex as re"
   ]
  },
  {
   "cell_type": "markdown",
   "metadata": {},
   "source": [
    "### 1. Identify, and extract each of the email-ids from a given text."
   ]
  },
  {
   "cell_type": "code",
   "execution_count": 80,
   "metadata": {},
   "outputs": [
    {
     "name": "stdout",
     "output_type": "stream",
     "text": [
      "['user@email.com', 'firstname.lastname@email.com', 'user.name+22@email.com', 'fitst-last.22@email.com', 'username@domain-test.com']\n"
     ]
    }
   ],
   "source": [
    "texts = '''\n",
    "Valid email addresses are:\n",
    "user@email.com\n",
    "firstname.lastname@email.com\n",
    "user.name+22@email.com\n",
    "fitst-last.22@email.com\n",
    "username@domain-test.com\n",
    "\n",
    "Invalid emails are:\n",
    "first.last.domain.com\n",
    "first@last@domain,com\n",
    "'''\n",
    "\n",
    "emails = re.findall(\"[a-zA-Z0-9_.+-]+@[a-zA-Z0-9-]+\\.[a-zA-Z0-9.]*\", texts)\n",
    "print(emails)"
   ]
  },
  {
   "cell_type": "markdown",
   "metadata": {},
   "source": [
    "### 2. Identify, and extract each of the url/web-addresses from a given text."
   ]
  },
  {
   "cell_type": "code",
   "execution_count": 81,
   "metadata": {},
   "outputs": [
    {
     "name": "stdout",
     "output_type": "stream",
     "text": [
      "['http://domain.com', 'https://domain.com', 'https://www.domain.com', 'https://domain.com/resource/?filter=10&test=hello%20world', 'http://domain.com/index.html', 'http://www.domain-site.edu/site.asp']\n"
     ]
    }
   ],
   "source": [
    "texts = '''\n",
    "The urls are\n",
    "http://domain.com, https://domain.com, https://www.domain.com, https://domain.com/resource/?filter=10&test=hello%20world\n",
    "http://domain.com/index.html, http://www.domain-site.edu/site.asp, \n",
    "'''\n",
    "\n",
    "urls = re.findall(\"http[s]?://[a-zA-Z0-9.\\-/?=&%]+\", texts)\n",
    "print(urls)"
   ]
  },
  {
   "cell_type": "markdown",
   "metadata": {},
   "source": [
    "### 3. Identify, and extract each of the phone-numbers from a given text."
   ]
  },
  {
   "cell_type": "code",
   "execution_count": 82,
   "metadata": {},
   "outputs": [
    {
     "name": "stdout",
     "output_type": "stream",
     "text": [
      "['222-333-5555', '111-222-3333', '222-333-4444']\n"
     ]
    }
   ],
   "source": [
    "text = \"My name is John, I have three phone numbers: 222-333-5555, 111-222-3333 and 222-333-4444\"\n",
    "\n",
    "phone_numbers = re.findall(\"\\d{3}[-]\\d{3}[-]\\d{4}\", text)\n",
    "print(phone_numbers)"
   ]
  },
  {
   "cell_type": "markdown",
   "metadata": {},
   "source": [
    "### 4. Identify, and extract each of the zip-codes (5,9) from a given text."
   ]
  },
  {
   "cell_type": "code",
   "execution_count": 83,
   "metadata": {},
   "outputs": [
    {
     "name": "stdout",
     "output_type": "stream",
     "text": [
      "['49302', '49322-2222', '49222-1111']\n"
     ]
    }
   ],
   "source": [
    "text = \"The zip codes are 49302 49322-2222 49222-1111\"\n",
    "\n",
    "zip_codes = re.findall(\"\\d{5}-\\d{4}|\\d{5}\", text)\n",
    "print(zip_codes)"
   ]
  },
  {
   "cell_type": "markdown",
   "metadata": {},
   "source": [
    "### 5. Identify, and extract each of the dates from a given text."
   ]
  },
  {
   "cell_type": "code",
   "execution_count": 84,
   "metadata": {},
   "outputs": [
    {
     "name": "stdout",
     "output_type": "stream",
     "text": [
      "['05/02/2022', '5/2/2022', '05-02-2022', '12/01/2022']\n"
     ]
    }
   ],
   "source": [
    "text = \"The dates format can be 05/02/2022, 5/2/2022, 05-02-2022 and 12/01/2022\"\n",
    "\n",
    "dates = re.findall(\"[0-9]{1,2}[/-]+[0-9]{1,2}[/-]+[0-9]{2,4}\", text)\n",
    "print(dates)"
   ]
  },
  {
   "cell_type": "markdown",
   "metadata": {},
   "source": [
    "### 6. Identify, and extract each of the ip-addresses from a given text."
   ]
  },
  {
   "cell_type": "code",
   "execution_count": 85,
   "metadata": {},
   "outputs": [
    {
     "name": "stdout",
     "output_type": "stream",
     "text": [
      "['192.168.1.10', '127.0.0.1', '255.255.255.255']\n"
     ]
    }
   ],
   "source": [
    "text = \"The ip addresses are: 192.168.1.10 127.0.0.1 255.255.255.255\"\n",
    "\n",
    "ip_addresses = re.findall(\"\\d{1,3}.\\d{1,3}.\\d{1,3}.\\d{1,3}\", text)\n",
    "print(ip_addresses)"
   ]
  },
  {
   "cell_type": "markdown",
   "metadata": {},
   "source": [
    "### 7. Identify, and extract each of the substrings with beginning with “Hello”, and ending with “Bye”."
   ]
  },
  {
   "cell_type": "code",
   "execution_count": 86,
   "metadata": {},
   "outputs": [
    {
     "name": "stdout",
     "output_type": "stream",
     "text": [
      "['Hello, my name is Sam. I am testing regex. Bye', 'Hello again. This a test, Bye']\n",
      "[', my name is Sam. I am testing regex. ', ' again. This a test, ']\n",
      "[',', 'my', 'name', 'is', 'Sam.', 'I', 'am', 'testing', 'regex.', '']\n",
      "['', 'again.', 'This', 'a', 'test,', '']\n"
     ]
    }
   ],
   "source": [
    "text = \"\"\"\n",
    "This is a sample: Hello, my name is Sam. I am testing regex. Bye This is a test\n",
    "Hello again. This a test, Bye\n",
    "\"\"\"\n",
    "expression = r\"Hello(.*)Bye\"\n",
    "pattern = re.compile(expression)\n",
    "\n",
    "print(re.findall(\"Hello.*Bye\", text))\n",
    "\n",
    "substrings = re.findall(\"Hello(.*)Bye\", text)\n",
    "\n",
    "print(substrings)\n",
    "\n",
    "for item in substrings:\n",
    "    pattern = re.compile(\"\\s+\")\n",
    "    x = pattern.split(item)\n",
    "    print(x)"
   ]
  },
  {
   "cell_type": "markdown",
   "metadata": {},
   "source": [
    "### 8. Identify, extract, and then replace all the symbols and digits (non-alphabets) in a given text."
   ]
  },
  {
   "cell_type": "code",
   "execution_count": 87,
   "metadata": {},
   "outputs": [
    {
     "name": "stdout",
     "output_type": "stream",
     "text": [
      "This message contains symbols like PLACEHOLDER PLACEHOLDER PLACEHOLDER PLACEHOLDER and digits PLACEHOLDER PLACEHOLDER PLACEHOLDER PLACEHOLDER PLACEHOLDER\n"
     ]
    }
   ],
   "source": [
    "text = \"\"\"This message contains symbols like $ # @ !@ and digits 1 2 3 43 4120\"\"\"\n",
    "\n",
    "pattern = \"[^a-zA-Z ]+\"\n",
    "new_text = re.sub(pattern, \"PLACEHOLDER\", text)\n",
    "\n",
    "print(new_text)"
   ]
  },
  {
   "cell_type": "markdown",
   "metadata": {},
   "source": [
    "### 9. Identify, extract, and then replace all the numeric values (salary, price, age etc.) in a given text."
   ]
  },
  {
   "cell_type": "code",
   "execution_count": 88,
   "metadata": {},
   "outputs": [
    {
     "name": "stdout",
     "output_type": "stream",
     "text": [
      "\n",
      "Hello, my name is Sam. I am earning PLACEHOLDER. I am from Michigan and my age is PLACEHOLDER. \n",
      "I recently bought a phone for PLACEHOLDER\n",
      "\n"
     ]
    }
   ],
   "source": [
    "text = \"\"\"\n",
    "Hello, my name is Sam. I am earning 2000. I am from Michigan and my age is 25. \n",
    "I recently bought a phone for 500\n",
    "\"\"\"\n",
    "\n",
    "new_text = re.sub(\"[0-9]+\", \"PLACEHOLDER\", text)\n",
    "print(new_text)"
   ]
  },
  {
   "cell_type": "markdown",
   "metadata": {},
   "source": [
    "### 10. Split any given string/text on white-space(s)/tabs and replace (join them back) using a hypen ‘-’."
   ]
  },
  {
   "cell_type": "code",
   "execution_count": 89,
   "metadata": {},
   "outputs": [
    {
     "name": "stdout",
     "output_type": "stream",
     "text": [
      "This-is-an-example\n"
     ]
    }
   ],
   "source": [
    "text = \"\"\"This is an example\"\"\"\n",
    "\n",
    "pattern = re.compile(\"\\s+\")\n",
    "split_text = pattern.split(text)\n",
    "\n",
    "result = \"-\".join(split_text)\n",
    "print(result)"
   ]
  },
  {
   "cell_type": "markdown",
   "metadata": {},
   "source": [
    "### 11. Partition all the email-addresses extracted from task-1 into username, domain-name, and domain-suffix values."
   ]
  },
  {
   "cell_type": "code",
   "execution_count": 90,
   "metadata": {},
   "outputs": [
    {
     "name": "stdout",
     "output_type": "stream",
     "text": [
      "Username:  user Domain:  email Domain Suffix:  com\n",
      "Username:  firstname.lastname Domain:  email Domain Suffix:  com\n",
      "Username:  user.name+22 Domain:  email Domain Suffix:  com\n",
      "Username:  fitst-last.22 Domain:  email Domain Suffix:  com\n",
      "Username:  username Domain:  domain-test Domain Suffix:  com\n"
     ]
    }
   ],
   "source": [
    "data = {\n",
    "    \"username\": [],\n",
    "    \"domain name\": [],\n",
    "    \"domain suffix\": []\n",
    "}\n",
    "\n",
    "for email in emails:\n",
    "    expression = r\"(.+)@(.+)\\.(.+)\"\n",
    "    pattern = re.compile(expression)\n",
    "    match = pattern.match(email)\n",
    "    \n",
    "    username, domain_name, domain_suffix = match.groups()\n",
    "    \n",
    "    data[\"username\"].append(username)\n",
    "    data[\"domain name\"].append(domain_name)\n",
    "    data[\"domain suffix\"].append(domain_suffix)\n",
    "    \n",
    "    print(\"Username: \", username, \"Domain: \", domain_name, \"Domain Suffix: \", domain_suffix)\n"
   ]
  },
  {
   "cell_type": "markdown",
   "metadata": {},
   "source": [
    "### 12. Write the output from task-11 to a csv file into three different columns."
   ]
  },
  {
   "cell_type": "code",
   "execution_count": 91,
   "metadata": {},
   "outputs": [],
   "source": [
    "import pandas as pd\n",
    "\n",
    "df = pd.DataFrame(data)\n",
    "df.to_csv(\"email_data.csv\", index=False)"
   ]
  },
  {
   "cell_type": "code",
   "execution_count": 10,
   "metadata": {},
   "outputs": [
    {
     "data": {
      "text/plain": [
       "True"
      ]
     },
     "execution_count": 10,
     "metadata": {},
     "output_type": "execute_result"
    }
   ],
   "source": [
    "import re\n",
    "email = \"sajal.shres@gmail.com\"\n",
    "\n",
    "re.match(\"[a-zA-Z0-9_.+-]+@[a-zA-Z0-9-]+\\.[a-zA-Z0-9.]*\", email) != None"
   ]
  },
  {
   "cell_type": "code",
   "execution_count": null,
   "metadata": {},
   "outputs": [],
   "source": []
  }
 ],
 "metadata": {
  "interpreter": {
   "hash": "c44c6997a40fc874e4f0fe73bb4162ca4a40c6eb2ab60e94c8a0742049709c44"
  },
  "kernelspec": {
   "display_name": "Python 3.10.2 ('venv')",
   "language": "python",
   "name": "python3"
  },
  "language_info": {
   "codemirror_mode": {
    "name": "ipython",
    "version": 3
   },
   "file_extension": ".py",
   "mimetype": "text/x-python",
   "name": "python",
   "nbconvert_exporter": "python",
   "pygments_lexer": "ipython3",
   "version": "3.10.2"
  },
  "orig_nbformat": 4
 },
 "nbformat": 4,
 "nbformat_minor": 2
}
