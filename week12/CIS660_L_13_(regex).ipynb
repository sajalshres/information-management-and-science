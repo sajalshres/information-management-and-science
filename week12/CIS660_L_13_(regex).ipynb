{
  "cells": [
    {
      "cell_type": "code",
      "execution_count": null,
      "metadata": {
        "id": "5essp0TZRtKw"
      },
      "outputs": [],
      "source": []
    },
    {
      "cell_type": "markdown",
      "metadata": {
        "id": "guMVk2lR60UH"
      },
      "source": [
        "![1.PNG](data:image/png;base64,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)"
      ]
    },
    {
      "cell_type": "code",
      "execution_count": 1,
      "metadata": {
        "id": "9CcMqm2r6pmJ"
      },
      "outputs": [],
      "source": [
        "import regex as re"
      ]
    },
    {
      "cell_type": "code",
      "execution_count": 3,
      "metadata": {
        "id": "1xepSmfT7QTA"
      },
      "outputs": [],
      "source": []
    },
    {
      "cell_type": "code",
      "execution_count": 10,
      "metadata": {
        "colab": {
          "base_uri": "https://localhost:8080/"
        },
        "id": "U6eopQgU7QYv",
        "outputId": "b2ab7b30-b8bf-4563-ff1a-9a5992be03f0"
      },
      "outputs": [
        {
          "name": "stdout",
          "output_type": "stream",
          "text": [
            "['2', '3', '3', '5']\n"
          ]
        }
      ],
      "source": [
        "text = \"My name is Sam, my age is 23, and my gpa is 3.5\"\n",
        "\n",
        "x = re.findall(\"\\d\", text)\n",
        "print(x)"
      ]
    },
    {
      "cell_type": "code",
      "execution_count": 11,
      "metadata": {
        "colab": {
          "base_uri": "https://localhost:8080/"
        },
        "id": "mEJz85Er7Qbn",
        "outputId": "7fb71cdb-f289-47fc-aaf9-7717d58f679e"
      },
      "outputs": [
        {
          "name": "stdout",
          "output_type": "stream",
          "text": [
            "['M', 'y', ' ', 'n', 'a', 'm', 'e', ' ', 'i', 's', ' ', 'S', 'a', 'm', ',', ' ', 'm', 'y', ' ', 'a', 'g', 'e', ' ', 'i', 's', ' ', ',', ' ', 'a', 'n', 'd', ' ', 'm', 'y', ' ', 'g', 'p', 'a', ' ', 'i', 's', ' ', '.']\n"
          ]
        }
      ],
      "source": [
        "text = \"My name is Sam, my age is 23, and my gpa is 3.5\"\n",
        "\n",
        "x = re.findall(\"\\D\", text)\n",
        "print(x)"
      ]
    },
    {
      "cell_type": "code",
      "execution_count": 13,
      "metadata": {
        "colab": {
          "base_uri": "https://localhost:8080/"
        },
        "id": "gndFlosZ7Qen",
        "outputId": "6c418ceb-fe1f-425c-9d84-cd5fc112dce4"
      },
      "outputs": [
        {
          "name": "stdout",
          "output_type": "stream",
          "text": [
            "12\n"
          ]
        }
      ],
      "source": [
        "text = \"Hello, this     is      Sam\"\n",
        "\n",
        "x = re.findall(\"\\s\", text)\n",
        "print(len(x))"
      ]
    },
    {
      "cell_type": "code",
      "execution_count": 15,
      "metadata": {
        "colab": {
          "base_uri": "https://localhost:8080/"
        },
        "id": "ub2BmthZ8pAn",
        "outputId": "41a810bc-f0de-4d8b-e003-fb542690796c"
      },
      "outputs": [
        {
          "name": "stdout",
          "output_type": "stream",
          "text": [
            "['H', 'e', 'l', 'l', 'o', ',', 't', 'h', 'i', 's', 'i', 's', 'S', 'a', 'm']\n"
          ]
        }
      ],
      "source": [
        "text = \"Hello, this     is      Sam\"\n",
        "\n",
        "x = re.findall(\"\\S\", text)\n",
        "print(x)"
      ]
    },
    {
      "cell_type": "code",
      "execution_count": 17,
      "metadata": {
        "colab": {
          "base_uri": "https://localhost:8080/"
        },
        "id": "eh-yJ41A8pDN",
        "outputId": "b9fca08a-7539-437e-db73-ec2211285ae0"
      },
      "outputs": [
        {
          "name": "stdout",
          "output_type": "stream",
          "text": [
            "['H', '3', 'l', 'l', 't', 'h', 's', 's', '_', '5', 'a', 'm']\n"
          ]
        }
      ],
      "source": [
        "text = \"H3ll@, th!s     |s   _   5am\"\n",
        "\n",
        "x = re.findall(\"\\w\", text)\n",
        "print(x)"
      ]
    },
    {
      "cell_type": "code",
      "execution_count": 18,
      "metadata": {
        "colab": {
          "base_uri": "https://localhost:8080/"
        },
        "id": "GQg0umBL8pGn",
        "outputId": "544ccadd-1a8e-4e3a-a38f-3bf93d780a4f"
      },
      "outputs": [
        {
          "name": "stdout",
          "output_type": "stream",
          "text": [
            "['@', ',', ' ', '!', ' ', ' ', ' ', ' ', ' ', '|', ' ', ' ', ' ', ' ', ' ', ' ']\n"
          ]
        }
      ],
      "source": [
        "text = \"H3ll@, th!s     |s   _   5am\"\n",
        "\n",
        "x = re.findall(\"\\W\", text)\n",
        "print(x)"
      ]
    },
    {
      "cell_type": "code",
      "execution_count": null,
      "metadata": {
        "id": "0aKbu8Qt9gQo"
      },
      "outputs": [],
      "source": [
        "'''\n",
        "\\b - word boundary\n",
        "\\B - Not a word boundary\n",
        "\\A - at the start of the string\n",
        "\\Z - at the end of the string\n",
        "'''"
      ]
    },
    {
      "cell_type": "code",
      "execution_count": 46,
      "metadata": {
        "colab": {
          "base_uri": "https://localhost:8080/"
        },
        "id": "FIOTML4A_DaX",
        "outputId": "62a982ec-52e4-4b3c-babf-860833897265"
      },
      "outputs": [
        {
          "name": "stdout",
          "output_type": "stream",
          "text": [
            "['Expressions']\n"
          ]
        }
      ],
      "source": [
        "text = \"Hello, I am learning Regex Expressions\"\n",
        "\n",
        "x = re.findall(r\"\\bExpressions\\b\", text)\n",
        "print(x)"
      ]
    },
    {
      "cell_type": "code",
      "execution_count": 52,
      "metadata": {
        "colab": {
          "base_uri": "https://localhost:8080/"
        },
        "id": "85xXOUZw_Dde",
        "outputId": "25f181a8-3833-4652-c43f-8e04b84b4275"
      },
      "outputs": [
        {
          "name": "stdout",
          "output_type": "stream",
          "text": [
            "['earn', 'earn']\n"
          ]
        }
      ],
      "source": [
        "text = \"Hello, I am learning Regex Expressions. Learning is fun\"\n",
        "\n",
        "x = re.findall(r\"\\Bearn\\B\", text)\n",
        "print(x)"
      ]
    },
    {
      "cell_type": "code",
      "execution_count": 56,
      "metadata": {
        "colab": {
          "base_uri": "https://localhost:8080/"
        },
        "id": "XNqpvY7L_Dgm",
        "outputId": "41585f78-bcea-4a3f-8a86-ff061ce860a0"
      },
      "outputs": [
        {
          "name": "stdout",
          "output_type": "stream",
          "text": [
            "['He']\n"
          ]
        }
      ],
      "source": [
        "text = \"Hello, I am learning Regex Expressions.\"\n",
        "\n",
        "x = re.findall(r\"\\AHe\", text)\n",
        "print(x)"
      ]
    },
    {
      "cell_type": "code",
      "execution_count": 59,
      "metadata": {
        "colab": {
          "base_uri": "https://localhost:8080/"
        },
        "id": "KGBWcfyv9kVG",
        "outputId": "03f97864-fc7a-4e4b-8f06-2999abd432b3"
      },
      "outputs": [
        {
          "name": "stdout",
          "output_type": "stream",
          "text": [
            "['Expressions.']\n"
          ]
        }
      ],
      "source": [
        "text = \"Hello, I am learning Regex Expressions.\"\n",
        "\n",
        "x = re.findall(r\"Expressions.\\Z\", text)\n",
        "print(x)"
      ]
    },
    {
      "cell_type": "code",
      "execution_count": null,
      "metadata": {
        "id": "_TWUyxmnA6Mf"
      },
      "outputs": [],
      "source": []
    },
    {
      "cell_type": "markdown",
      "metadata": {
        "id": "CFxVZFfW6nVg"
      },
      "source": [
        "![1.PNG](data:image/png;base64,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)"
      ]
    },
    {
      "cell_type": "code",
      "execution_count": 60,
      "metadata": {
        "colab": {
          "base_uri": "https://localhost:8080/"
        },
        "id": "T8UmVBCyA6Pu",
        "outputId": "4ed06720-a7be-4989-837d-4b8897083ac8"
      },
      "outputs": [
        {
          "name": "stdout",
          "output_type": "stream",
          "text": [
            "['a', 'e', 'i', 'a', 'a', 'e', 'i', 'a', 'a', 'i']\n"
          ]
        }
      ],
      "source": [
        "text = \"My name is Sam, my age is 23, and my gpa is 3.5\"\n",
        "\n",
        "x = re.findall(\"[aeiou]\", text)     #[] -> set of one or more values;\n",
        "print(x)\n"
      ]
    },
    {
      "cell_type": "code",
      "execution_count": 61,
      "metadata": {
        "colab": {
          "base_uri": "https://localhost:8080/"
        },
        "id": "Eqs6nJrs9kX_",
        "outputId": "54025d8b-a41b-4e18-e2e4-2fc1ba4ade7d"
      },
      "outputs": [
        {
          "name": "stdout",
          "output_type": "stream",
          "text": [
            "['a', 'm', 'e', 'i', 'a', 'm', 'm', 'a', 'g', 'e', 'i', 'a', 'd', 'm', 'g', 'a', 'i']\n"
          ]
        }
      ],
      "source": [
        "text = \"My name is Sam, my age is 23, and my gpa is 3.5\"\n",
        "\n",
        "x = re.findall(\"[a-m]\", text)   \n",
        "print(x)\n"
      ]
    },
    {
      "cell_type": "code",
      "execution_count": 63,
      "metadata": {
        "colab": {
          "base_uri": "https://localhost:8080/"
        },
        "id": "7IYEQOIiBmc-",
        "outputId": "34120a43-8be2-4908-e705-f87bc95d609a"
      },
      "outputs": [
        {
          "name": "stdout",
          "output_type": "stream",
          "text": [
            "['2', '3', '3', '5']\n"
          ]
        }
      ],
      "source": [
        "text = \"My name is Sam, my age is 23, and my gpa is 3.5\"\n",
        "\n",
        "x = re.findall(\"[0-9]\", text)   \n",
        "#x = re.findall(\"\\d\", text)   \n",
        "\n",
        "print(x)\n"
      ]
    },
    {
      "cell_type": "code",
      "execution_count": 67,
      "metadata": {
        "colab": {
          "base_uri": "https://localhost:8080/"
        },
        "id": "2PM0K-obBmfu",
        "outputId": "8e3ae2ea-93be-430c-85d6-fa63136a2c4e"
      },
      "outputs": [
        {
          "name": "stdout",
          "output_type": "stream",
          "text": [
            "['M', 'y', 'n', 'a', 'm', 'e', 'i', 's', 'S', 'a', 'm', 'm', 'y', 'a', 'g', 'e', 'i', 's', '2', '3', 'a', 'n', 'd', 'm', 'y', 'g', 'p', 'a', 'i', 's', '3', '5']\n"
          ]
        }
      ],
      "source": [
        "text = \"My name is Sam, my age is 23, and my gpa is 3.5\"\n",
        "\n",
        "x = re.findall(\"[a-zA-Z0-9_]\", text)   \n",
        "#x = re.findall(\"\\w\", text)   \n",
        "\n",
        "print(x)\n"
      ]
    },
    {
      "cell_type": "code",
      "execution_count": 68,
      "metadata": {
        "colab": {
          "base_uri": "https://localhost:8080/"
        },
        "id": "UwxhanPMBmi9",
        "outputId": "b9bd037e-f81f-4713-a24b-67563be7969d"
      },
      "outputs": [
        {
          "name": "stdout",
          "output_type": "stream",
          "text": [
            "['ame', 'age']\n"
          ]
        }
      ],
      "source": [
        "text = \"My name is Sam, my age is 23, and my gpa is 3.5. my favorite fruit is apple \"\n",
        "x = re.findall(\"a.e\", text)\n",
        "print(x)"
      ]
    },
    {
      "cell_type": "code",
      "execution_count": 69,
      "metadata": {
        "colab": {
          "base_uri": "https://localhost:8080/"
        },
        "id": "WfZ1oDPKBmlu",
        "outputId": "1d4332ec-ba31-4d4f-844b-53aaf148aeaf"
      },
      "outputs": [
        {
          "name": "stdout",
          "output_type": "stream",
          "text": [
            "['apple']\n"
          ]
        }
      ],
      "source": [
        "text = \"My name is Sam, my age is 23, and my gpa is 3.5. my favorite fruit is apple \"\n",
        "x = re.findall(\"a...e\", text)\n",
        "print(x)"
      ]
    },
    {
      "cell_type": "code",
      "execution_count": 73,
      "metadata": {
        "colab": {
          "base_uri": "https://localhost:8080/"
        },
        "id": "Sp_rjyooBmre",
        "outputId": "c7167a49-96e5-4a8a-decb-d7c1fa40290f"
      },
      "outputs": [
        {
          "name": "stdout",
          "output_type": "stream",
          "text": [
            "['My']\n"
          ]
        }
      ],
      "source": [
        "text = \"My name is Sam, my age is 23, and my gpa is 3.5\"\n",
        "\n",
        "x = re.findall(\"^My\", text)   \n",
        "#x = re.findall(\"\\AMy\", text)   \n",
        "\n",
        "print(x)\n"
      ]
    },
    {
      "cell_type": "code",
      "execution_count": 77,
      "metadata": {
        "colab": {
          "base_uri": "https://localhost:8080/"
        },
        "id": "8XopRyy-DD1O",
        "outputId": "ad88e008-df56-4f6a-ef96-5ed6b4ebdf45"
      },
      "outputs": [
        {
          "name": "stdout",
          "output_type": "stream",
          "text": [
            "['Sam']\n"
          ]
        }
      ],
      "source": [
        "text = \"My name is Sam\"\n",
        "\n",
        "x = re.findall(\"Sam$\", text)   \n",
        "#x = re.findall(\"Sam\\Z\", text)   \n",
        "\n",
        "print(x)\n"
      ]
    },
    {
      "cell_type": "code",
      "execution_count": 83,
      "metadata": {
        "colab": {
          "base_uri": "https://localhost:8080/"
        },
        "id": "3jQ0QIEzDZhu",
        "outputId": "3d40595d-48c7-4230-ea59-745d05bda0c0"
      },
      "outputs": [
        {
          "name": "stdout",
          "output_type": "stream",
          "text": [
            "['favorite']\n"
          ]
        }
      ],
      "source": [
        "text = \"my favorite fruit is Mango\"\n",
        "x = re.findall(\"f.*e\", text)\n",
        "print(x)"
      ]
    },
    {
      "cell_type": "code",
      "execution_count": 84,
      "metadata": {
        "colab": {
          "base_uri": "https://localhost:8080/"
        },
        "id": "G1Iu1boODZkd",
        "outputId": "ea09ca86-21bf-438a-d894-940e8a2eaf11"
      },
      "outputs": [
        {
          "name": "stdout",
          "output_type": "stream",
          "text": [
            "['Hi']\n"
          ]
        }
      ],
      "source": [
        "text = \"Hi\"\n",
        "x = re.findall(\"H.*i\", text)\n",
        "print(x)"
      ]
    },
    {
      "cell_type": "code",
      "execution_count": 86,
      "metadata": {
        "colab": {
          "base_uri": "https://localhost:8080/"
        },
        "id": "V-DrAZncDZnm",
        "outputId": "ba1ff949-1ac0-4ac1-a363-0e2430b7594d"
      },
      "outputs": [
        {
          "name": "stdout",
          "output_type": "stream",
          "text": [
            "['Hii']\n"
          ]
        }
      ],
      "source": [
        "text = \"Hii\"\n",
        "x = re.findall(\"H.+i\", text)\n",
        "print(x)"
      ]
    },
    {
      "cell_type": "code",
      "execution_count": 91,
      "metadata": {
        "colab": {
          "base_uri": "https://localhost:8080/"
        },
        "id": "gTI5iefnDZql",
        "outputId": "530b656e-0df4-446c-d518-0f18f1b62e22"
      },
      "outputs": [
        {
          "name": "stdout",
          "output_type": "stream",
          "text": [
            "['Hai']\n"
          ]
        }
      ],
      "source": [
        "text = \"Hai\"\n",
        "x = re.findall(\"H.?i\", text)\n",
        "print(x)"
      ]
    },
    {
      "cell_type": "code",
      "execution_count": 96,
      "metadata": {
        "colab": {
          "base_uri": "https://localhost:8080/"
        },
        "id": "ujsE3sNbEy-O",
        "outputId": "50b1811e-5c70-4ecc-ae77-67cb64091a9e"
      },
      "outputs": [
        {
          "name": "stdout",
          "output_type": "stream",
          "text": [
            "['222-333-5555']\n"
          ]
        }
      ],
      "source": [
        "text = \"My name is Sam, and my phone number is 222-333-5555 \"\n",
        "x = re.findall(\"[0-9]{3}[-][0-9]{3}[-][0-9]{4}\", text)\n",
        "print(x)"
      ]
    },
    {
      "cell_type": "code",
      "execution_count": 97,
      "metadata": {
        "colab": {
          "base_uri": "https://localhost:8080/"
        },
        "id": "UBpA1rT9F85t",
        "outputId": "1d192f28-74e7-4b26-8ef4-9c4b45a08bc7"
      },
      "outputs": [
        {
          "name": "stdout",
          "output_type": "stream",
          "text": [
            "['222-333-5555']\n"
          ]
        }
      ],
      "source": [
        "text = \"My name is Sam, and my phone number is 222-333-5555 \"\n",
        "x = re.findall(\"\\d{3}[-]\\d{3}[-]\\d{4}\", text)\n",
        "print(x)"
      ]
    },
    {
      "cell_type": "code",
      "execution_count": 101,
      "metadata": {
        "colab": {
          "base_uri": "https://localhost:8080/"
        },
        "id": "MkSNgIctGJ4F",
        "outputId": "3006cd67-0e89-49d4-d62f-67da98a97580"
      },
      "outputs": [
        {
          "name": "stdout",
          "output_type": "stream",
          "text": [
            "['Helllo']\n"
          ]
        }
      ],
      "source": [
        "text = \"Helllo, my name is Sam\"\n",
        "x = re.findall(\"H.*o\", text)\n",
        "print(x)"
      ]
    },
    {
      "cell_type": "code",
      "execution_count": 109,
      "metadata": {
        "colab": {
          "base_uri": "https://localhost:8080/"
        },
        "id": "0B-DxYRTGcJN",
        "outputId": "c93e52fa-c6ec-4ee3-dba2-c2becd957802"
      },
      "outputs": [
        {
          "name": "stdout",
          "output_type": "stream",
          "text": [
            "['Hello']\n"
          ]
        }
      ],
      "source": [
        "text = \"Hello, my name is Sam\"\n",
        "x = re.findall(\"He.{2}o\", text)\n",
        "print(x)"
      ]
    },
    {
      "cell_type": "code",
      "execution_count": 113,
      "metadata": {
        "colab": {
          "base_uri": "https://localhost:8080/"
        },
        "id": "cdOjZx2RGzVk",
        "outputId": "40672945-890d-460a-cdd9-791815d9290d"
      },
      "outputs": [
        {
          "name": "stdout",
          "output_type": "stream",
          "text": [
            "['Hello', 'Bye']\n"
          ]
        }
      ],
      "source": [
        "text = \"Hello, my name is Sam. Bye \"\n",
        "x = re.findall(\"He.*o|B.?e\", text)\n",
        "print(x)"
      ]
    },
    {
      "cell_type": "code",
      "execution_count": null,
      "metadata": {
        "id": "18KPWZRwXTgD"
      },
      "outputs": [],
      "source": []
    },
    {
      "cell_type": "code",
      "execution_count": 118,
      "metadata": {
        "colab": {
          "base_uri": "https://localhost:8080/"
        },
        "id": "zX5EHGEAXTi4",
        "outputId": "c12876a1-995a-40b8-f54a-bbfb52dddde2"
      },
      "outputs": [
        {
          "name": "stdout",
          "output_type": "stream",
          "text": [
            "[('222', '-333-5555')]\n",
            "('222', '-333-5555')\n"
          ]
        }
      ],
      "source": [
        "text = \"My name is Sam, and my phone number is 222-333-5555 \"\n",
        "x = re.findall(\"(\\d{3})([-]\\d{3}[-]\\d{4})\", text)\n",
        "print(x)\n",
        "print(x[0])"
      ]
    },
    {
      "cell_type": "code",
      "execution_count": 117,
      "metadata": {
        "colab": {
          "base_uri": "https://localhost:8080/"
        },
        "id": "lSiyMFjxXTl4",
        "outputId": "5ae738ea-de6f-4a2b-efac-c47ac0ce8cbe"
      },
      "outputs": [
        {
          "name": "stdout",
          "output_type": "stream",
          "text": [
            "['222-333-5555']\n"
          ]
        }
      ],
      "source": [
        "text = \"My name is Sam, and my phone number is 222-333-5555 \"\n",
        "x = re.findall(\"\\d{3}[-]\\d{3}[-]\\d{4}\", text)\n",
        "print(x)"
      ]
    },
    {
      "cell_type": "code",
      "execution_count": null,
      "metadata": {
        "id": "SDWAe72AXTo5"
      },
      "outputs": [],
      "source": []
    },
    {
      "cell_type": "code",
      "execution_count": 121,
      "metadata": {
        "colab": {
          "base_uri": "https://localhost:8080/"
        },
        "id": "oQUYHppnXTyJ",
        "outputId": "9b3b54e7-6fb9-469a-842a-c237b7e42d17"
      },
      "outputs": [
        {
          "name": "stdout",
          "output_type": "stream",
          "text": [
            "['Helllo']\n"
          ]
        }
      ],
      "source": [
        "text = \"Helllo, my name is Sam\"\n",
        "x = re.findall(\"H.*o\", text)\n",
        "print(x)"
      ]
    },
    {
      "cell_type": "code",
      "execution_count": 123,
      "metadata": {
        "colab": {
          "base_uri": "https://localhost:8080/"
        },
        "id": "HB2_GZ0QesW3",
        "outputId": "5cf2a77c-a274-4c79-bb83-e6e80ff4e011"
      },
      "outputs": [
        {
          "name": "stdout",
          "output_type": "stream",
          "text": [
            "['Helllo']\n"
          ]
        }
      ],
      "source": [
        "text = \"Helllo, my name is Sam\"\n",
        "\n",
        "pattern = re.compile(\"H.*o\")\n",
        "\n",
        "x = pattern.findall(text)\n",
        "\n",
        "print(x)"
      ]
    },
    {
      "cell_type": "code",
      "execution_count": 129,
      "metadata": {
        "colab": {
          "base_uri": "https://localhost:8080/"
        },
        "id": "H4OLhIKaesZ-",
        "outputId": "4c4adcd4-0d19-4404-ba33-4dcd7a78776a"
      },
      "outputs": [
        {
          "name": "stdout",
          "output_type": "stream",
          "text": [
            "[' ', ' ', '       ', ' ']\n"
          ]
        }
      ],
      "source": [
        "text = \"Helllo, my name       is Sam\"\n",
        "\n",
        "pattern = re.compile(\"\\s+\")\n",
        "\n",
        "x = pattern.findall(text)\n",
        "\n",
        "print(x)"
      ]
    },
    {
      "cell_type": "code",
      "execution_count": 130,
      "metadata": {
        "colab": {
          "base_uri": "https://localhost:8080/"
        },
        "id": "kAZadKb-esdG",
        "outputId": "467fc761-65de-408e-cd9c-e919b20b1f77"
      },
      "outputs": [
        {
          "name": "stdout",
          "output_type": "stream",
          "text": [
            "['Helllo,', 'my', 'name', 'is', 'Sam']\n"
          ]
        }
      ],
      "source": [
        "text = \"Helllo, my name       is Sam\"\n",
        "\n",
        "pattern = re.compile(\"\\s+\")\n",
        "\n",
        "x = pattern.split(text)\n",
        "\n",
        "print(x)"
      ]
    },
    {
      "cell_type": "code",
      "execution_count": null,
      "metadata": {
        "id": "fEII8nV3esge"
      },
      "outputs": [],
      "source": []
    },
    {
      "cell_type": "code",
      "execution_count": 131,
      "metadata": {
        "colab": {
          "base_uri": "https://localhost:8080/"
        },
        "id": "VqYXXfIagcMX",
        "outputId": "9ff9aac8-b816-4db7-e903-03a04172dba2"
      },
      "outputs": [
        {
          "name": "stdout",
          "output_type": "stream",
          "text": [
            "['dave@google.com', 'steve@gmail.com', 'rob@gmail.com', 'ryan@yahoo.com']\n"
          ]
        }
      ],
      "source": [
        "text = \"\"\"Dave dave@google.com  at Apple\n",
        "Steve steve@gmail.com at Walmart\n",
        "Rob rob@gmail.com  at Cisco\n",
        "Ryan ryan@yahoo.com  at Facebook\n",
        "\"\"\"\n",
        "\n",
        "expression = r'[a-zA-Z0-9]+@[a-zA-Z]+\\.[a-zA-Z]{2,4}'\n",
        "\n",
        "pattern = re.compile(expression)\n",
        "\n",
        "x = pattern.findall(text)\n",
        "\n",
        "print(x)\n"
      ]
    },
    {
      "cell_type": "code",
      "execution_count": 132,
      "metadata": {
        "colab": {
          "base_uri": "https://localhost:8080/"
        },
        "id": "IyDxRW32gcPe",
        "outputId": "bfd98114-940c-4e60-d8d3-b58d78141c2a"
      },
      "outputs": [
        {
          "name": "stdout",
          "output_type": "stream",
          "text": [
            "<regex.Match object; span=(5, 20), match='dave@google.com'>\n"
          ]
        }
      ],
      "source": [
        "text = \"\"\"Dave dave@google.com  at Apple\n",
        "Steve steve@gmail.com at Walmart\n",
        "Rob rob@gmail.com  at Cisco\n",
        "Ryan ryan@yahoo.com  at Facebook\n",
        "\"\"\"\n",
        "\n",
        "expression = r'[a-zA-Z0-9]+@[a-zA-Z]+\\.[a-zA-Z]{2,4}'\n",
        "\n",
        "pattern = re.compile(expression)\n",
        "\n",
        "x = pattern.search(text)\n",
        "\n",
        "print(x)\n"
      ]
    },
    {
      "cell_type": "code",
      "execution_count": 133,
      "metadata": {
        "colab": {
          "base_uri": "https://localhost:8080/"
        },
        "id": "HZGSvmA9gcSu",
        "outputId": "4c42a550-3a2e-4b4b-909b-614ead9a1c9e"
      },
      "outputs": [
        {
          "name": "stdout",
          "output_type": "stream",
          "text": [
            "dave@google.com\n"
          ]
        }
      ],
      "source": [
        "email = text[x.start() : x.end()]\n",
        "print(email)"
      ]
    },
    {
      "cell_type": "code",
      "execution_count": 135,
      "metadata": {
        "colab": {
          "base_uri": "https://localhost:8080/"
        },
        "id": "R19uXg9IgcWH",
        "outputId": "0440b5f3-67c9-4a1f-cd0b-4b1a9e2222be"
      },
      "outputs": [
        {
          "name": "stdout",
          "output_type": "stream",
          "text": [
            "Dave ***@**.**  at Apple\n",
            "Steve ***@**.** at Walmart\n",
            "Rob ***@**.**  at Cisco\n",
            "Ryan ***@**.**  at Facebook\n",
            "\n"
          ]
        }
      ],
      "source": [
        "y = pattern.sub('***@**.**', text)\n",
        "print(y)"
      ]
    },
    {
      "cell_type": "code",
      "execution_count": 137,
      "metadata": {
        "colab": {
          "base_uri": "https://localhost:8080/"
        },
        "id": "3_zpKGChgcZm",
        "outputId": "756e3f18-ab68-4cd9-b62b-ab926a40848d"
      },
      "outputs": [
        {
          "name": "stdout",
          "output_type": "stream",
          "text": [
            "<regex.Match object; span=(0, 15), match='dave@google.com'>\n"
          ]
        }
      ],
      "source": [
        "text = \"\"\"dave@google.com  at Apple\n",
        "Steve steve@gmail.com at Walmart\n",
        "Rob rob@gmail.com  at Cisco\n",
        "Ryan ryan@yahoo.com  at Facebook\n",
        "\"\"\"\n",
        "\n",
        "z = pattern.match(text)\n",
        "print(z)"
      ]
    },
    {
      "cell_type": "code",
      "execution_count": 139,
      "metadata": {
        "colab": {
          "base_uri": "https://localhost:8080/"
        },
        "id": "PldWwk4wesj2",
        "outputId": "ab3bf323-163c-44c7-ad8c-87b90d88eb83"
      },
      "outputs": [
        {
          "name": "stdout",
          "output_type": "stream",
          "text": [
            "[('dave', 'google', 'com'), ('steve', 'gmail', 'com'), ('rob', 'gmail', 'com'), ('ryan', 'yahoo', 'com')]\n"
          ]
        }
      ],
      "source": [
        "text = \"\"\"Dave dave@google.com  at Apple\n",
        "Steve steve@gmail.com at Walmart\n",
        "Rob rob@gmail.com  at Cisco\n",
        "Ryan ryan@yahoo.com  at Facebook\n",
        "\"\"\"\n",
        "\n",
        "expression = r'([a-zA-Z0-9]+)@([a-zA-Z]+)\\.([a-zA-Z]{2,4})'\n",
        "\n",
        "pattern = re.compile(expression)\n",
        "\n",
        "x = pattern.findall(text)\n",
        "\n",
        "print(x)"
      ]
    },
    {
      "cell_type": "code",
      "execution_count": 144,
      "metadata": {
        "colab": {
          "base_uri": "https://localhost:8080/"
        },
        "id": "1vNiKxcMjqLO",
        "outputId": "b1327a66-a5d3-4050-9c86-3d02f97927a0"
      },
      "outputs": [
        {
          "name": "stdout",
          "output_type": "stream",
          "text": [
            "email-id: dave@google.com\n",
            "user-name: dave \t domain-name: google \t domain-suffix: com\n",
            "email-id: steve@gmail.com\n",
            "user-name: steve \t domain-name: gmail \t domain-suffix: com\n",
            "email-id: rob@gmail.com\n",
            "user-name: rob \t domain-name: gmail \t domain-suffix: com\n",
            "email-id: ryan@yahoo.com\n",
            "user-name: ryan \t domain-name: yahoo \t domain-suffix: com\n"
          ]
        }
      ],
      "source": [
        "for email in x:\n",
        "  print('email-id:', email[0]+'@'+email[1]+'.' + email[2])\n",
        "  print('user-name:',email[0], '\\t domain-name:',email[1], '\\t domain-suffix:',email[2])"
      ]
    },
    {
      "cell_type": "code",
      "execution_count": null,
      "metadata": {
        "id": "Gna6aLkXkdaV"
      },
      "outputs": [],
      "source": []
    },
    {
      "cell_type": "code",
      "execution_count": 149,
      "metadata": {
        "colab": {
          "base_uri": "https://localhost:8080/"
        },
        "id": "r14AeuV_kddU",
        "outputId": "70ced5c5-1c95-454e-f3fd-66e2b52ea867"
      },
      "outputs": [
        {
          "name": "stdout",
          "output_type": "stream",
          "text": [
            "<regex.Match object; span=(0, 13), match='sam@gmail.com'>\n",
            "('sam', 'gmail', 'com')\n",
            "sam\n",
            "gmail\n",
            "com\n"
          ]
        }
      ],
      "source": [
        "emailid = 'sam@gmail.com'\n",
        "\n",
        "expression = r'([a-zA-Z0-9]+)@([a-zA-Z]+)\\.([a-zA-Z]{2,4})'\n",
        "\n",
        "pattern = re.compile(expression)\n",
        "\n",
        "m = pattern.match(emailid)\n",
        "\n",
        "print(m)\n",
        "\n",
        "print(m.groups())\n",
        "print(m.groups()[0])\n",
        "print(m.groups()[1])\n",
        "print(m.groups()[2])"
      ]
    },
    {
      "cell_type": "code",
      "execution_count": 151,
      "metadata": {
        "colab": {
          "base_uri": "https://localhost:8080/"
        },
        "id": "52IWXfpUlCft",
        "outputId": "a0075807-e306-4752-ccdc-e1d55241acb8"
      },
      "outputs": [
        {
          "name": "stdout",
          "output_type": "stream",
          "text": [
            "Dave Username:dave Domain:google suffix:com  at Apple\n",
            "Steve Username:steve Domain:gmail suffix:com at Walmart\n",
            "Rob Username:rob Domain:gmail suffix:com  at Cisco\n",
            "Ryan Username:ryan Domain:yahoo suffix:com  at Facebook\n",
            "\n"
          ]
        }
      ],
      "source": [
        "text = \"\"\"Dave dave@google.com  at Apple\n",
        "Steve steve@gmail.com at Walmart\n",
        "Rob rob@gmail.com  at Cisco\n",
        "Ryan ryan@yahoo.com  at Facebook\n",
        "\"\"\"\n",
        "\n",
        "expression = r'([a-zA-Z0-9]+)@([a-zA-Z]+)\\.([a-zA-Z]{2,4})'\n",
        "\n",
        "pattern = re.compile(expression)\n",
        "\n",
        "x = pattern.sub(r'Username:\\1 Domain:\\2 suffix:\\3', text)\n",
        "\n",
        "print(x)"
      ]
    },
    {
      "cell_type": "code",
      "execution_count": null,
      "metadata": {
        "id": "vCSvqqgSlCil"
      },
      "outputs": [],
      "source": []
    }
  ],
  "metadata": {
    "colab": {
      "collapsed_sections": [],
      "name": "CIS660 - L#13 (regex).ipynb",
      "provenance": []
    },
    "kernelspec": {
      "display_name": "Python 3",
      "name": "python3"
    },
    "language_info": {
      "name": "python"
    }
  },
  "nbformat": 4,
  "nbformat_minor": 0
}
