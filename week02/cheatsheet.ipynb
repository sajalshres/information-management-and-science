{
 "cells": [
  {
   "cell_type": "markdown",
   "id": "ae4ea724-2ca0-4cce-a0d6-a0f793a20ce7",
   "metadata": {},
   "source": [
    "Topics:\n",
    "\n",
    "- Purpose\n",
    "- Inventor and Name\n",
    "- Data Types ( Mutable and Immutable)\n",
    "- Strings\n",
    "- List, Tuple, Set and Dictionary\n",
    "- Looping\n",
    "- Functions\n",
    "- Classes\n",
    "- Scope\n",
    "- Comprehensions(List, Set, Dict)\n",
    "- File Handling\n",
    "- Decorators\n",
    "- Iterators\n",
    "- Context Manager Protocol\n",
    "- Requests"
   ]
  },
  {
   "cell_type": "code",
   "execution_count": null,
   "id": "004e4cfd-ea40-4122-86f0-4c3cad0d8406",
   "metadata": {},
   "outputs": [],
   "source": [
    "numbers = [1,2,6,3,8,4,5]\n",
    "\n",
    "numbers.sort()\n",
    "\n",
    "numbers.append(7)\n",
    "\n",
    "numbers\n",
    "\n",
    "result = numbers.sort()\n",
    "\n",
    "print(result)\n",
    "\n",
    "number = numbers.pop()\n",
    "\n",
    "print(number)"
   ]
  },
  {
   "cell_type": "code",
   "execution_count": 76,
   "id": "329682db-49d7-45dc-b083-71c9157529ed",
   "metadata": {},
   "outputs": [
    {
     "name": "stdout",
     "output_type": "stream",
     "text": [
      "[7, 6, 5, 4, 3, 2, 1]\n"
     ]
    }
   ],
   "source": [
    "numbers.reverse()\n",
    "print(numbers)"
   ]
  },
  {
   "cell_type": "code",
   "execution_count": 101,
   "id": "5960d803-a63e-42b0-aae4-ea546c65d9a9",
   "metadata": {},
   "outputs": [
    {
     "data": {
      "text/plain": [
       "'Samar'"
      ]
     },
     "execution_count": 101,
     "metadata": {},
     "output_type": "execute_result"
    }
   ],
   "source": [
    "contacts = { \"name\": \"Samar\", \"sex\": \"M\", \"address\": \"Michigan\" }\n",
    "contacts[\"name\"]"
   ]
  },
  {
   "cell_type": "code",
   "execution_count": 100,
   "id": "d53bf01a-9b85-417c-954d-3cee8c498db8",
   "metadata": {},
   "outputs": [
    {
     "name": "stdout",
     "output_type": "stream",
     "text": [
      "name Samar\n",
      "sex M\n",
      "address Michigan\n",
      "name Samar\n",
      "sex M\n",
      "address Michigan\n"
     ]
    }
   ],
   "source": [
    "contacts = { \"name\": \"Samar\", \"sex\": \"M\", \"address\": \"Michigan\" }\n",
    "\n",
    "for key, value in contacts.items():\n",
    "    print(key, value)   \n",
    "    \n",
    "for key in contacts.keys():\n",
    "    print(key, contacts[key])"
   ]
  },
  {
   "cell_type": "code",
   "execution_count": 105,
   "id": "5abfa4a0-072e-4a02-b0c7-598d60a94b76",
   "metadata": {},
   "outputs": [
    {
     "name": "stdout",
     "output_type": "stream",
     "text": [
      "a = 20 b = 10\n"
     ]
    }
   ],
   "source": [
    "a = 10\n",
    "b = 20\n",
    "\n",
    "# a, b = b, a\n",
    "\n",
    "temp = a\n",
    "a = b\n",
    "b = temp\n",
    "\n",
    "print(\"a =\", a, \"b =\",b)"
   ]
  },
  {
   "cell_type": "code",
   "execution_count": 107,
   "id": "be634f50-fd06-4f1a-b911-fcc67b0c308c",
   "metadata": {},
   "outputs": [
    {
     "name": "stdout",
     "output_type": "stream",
     "text": [
      "called\n"
     ]
    }
   ],
   "source": [
    "def func_name():\n",
    "    print(\"called\")\n",
    "    \n",
    "func_name()"
   ]
  },
  {
   "cell_type": "code",
   "execution_count": 123,
   "id": "10ee9e97-ff6a-48e4-b59a-33cafc5416ba",
   "metadata": {},
   "outputs": [
    {
     "name": "stdout",
     "output_type": "stream",
     "text": [
      "{'num1': 1, 'num2': 2}\n"
     ]
    },
    {
     "data": {
      "text/plain": [
       "3"
      ]
     },
     "execution_count": 123,
     "metadata": {},
     "output_type": "execute_result"
    }
   ],
   "source": [
    "def sum(**kwargs):\n",
    "    print(kwargs)\n",
    "    res = 0\n",
    "    for value in kwargs.values():\n",
    "        res += value\n",
    "    return res\n",
    "        \n",
    "\n",
    "sum(num1=1, num2=2)"
   ]
  },
  {
   "cell_type": "code",
   "execution_count": 141,
   "id": "716bdf64-07fa-4530-a73d-2f0bedd7a070",
   "metadata": {},
   "outputs": [
    {
     "name": "stdout",
     "output_type": "stream",
     "text": [
      "10 (1, 2, 3) {'num1': 10, 'num2': 20}\n"
     ]
    }
   ],
   "source": [
    "def sum(start, *args, **kwargs):\n",
    "    print(start, args, kwargs)\n",
    "    \n",
    "sum(10, 1,2,3, num1=10, num2=20)\n"
   ]
  },
  {
   "cell_type": "code",
   "execution_count": 146,
   "id": "d2090fee-291c-4005-b382-0a632026641f",
   "metadata": {},
   "outputs": [
    {
     "name": "stdout",
     "output_type": "stream",
     "text": [
      "1 2 3\n"
     ]
    }
   ],
   "source": [
    "def func(n1,n2,n3):\n",
    "    print(n1,n2,n3)\n",
    "    \n",
    "func(1,2,n3=3)\n",
    "\n",
    "function_name"
   ]
  },
  {
   "cell_type": "code",
   "execution_count": 5,
   "id": "89b8cf50-37a6-418d-9a80-34de6aa89bdc",
   "metadata": {},
   "outputs": [
    {
     "data": {
      "text/plain": [
       "100"
      ]
     },
     "execution_count": 5,
     "metadata": {},
     "output_type": "execute_result"
    }
   ],
   "source": [
    "class Rectangle:\n",
    "    def __init__(self, length, breadth):\n",
    "        self.length = length\n",
    "        self.breadth = breadth\n",
    "    \n",
    "    def area(self):\n",
    "        return self.length * self.breadth\n",
    "    \n",
    "\n",
    "class Square(Rectangle):\n",
    "    def __init__(self, length):\n",
    "        super().__init__(length, length)\n",
    "\n",
    "\n",
    "s = Square(10)\n",
    "s.area()\n",
    "        "
   ]
  },
  {
   "cell_type": "code",
   "execution_count": 12,
   "id": "138419a6-5013-4b97-885e-a8fc6d7a446b",
   "metadata": {},
   "outputs": [
    {
     "name": "stdout",
     "output_type": "stream",
     "text": [
      "hello from B\n",
      "[<class '__main__.D'>, <class '__main__.B'>, <class '__main__.C'>, <class '__main__.A'>, <class 'object'>]\n"
     ]
    }
   ],
   "source": [
    "class A:\n",
    "    def hello(self):\n",
    "        print(\"Hello World\")\n",
    "\n",
    "class B(A):\n",
    "    def hello(self):\n",
    "        print(\"hello from B\")\n",
    "\n",
    "class C(A):\n",
    "    def hello(self):\n",
    "        print(\"hello from C\")\n",
    "\n",
    "class D(B,C):\n",
    "    pass\n",
    "\n",
    "        \n",
    "d = D()\n",
    "d.hello()\n",
    "\n",
    "# method resolution order\n",
    "D.__mro__\n",
    "\n",
    "print(D.mro())\n",
    "\n"
   ]
  },
  {
   "cell_type": "code",
   "execution_count": 18,
   "id": "a71456c0-23b1-42dd-a022-13900e9abcb9",
   "metadata": {},
   "outputs": [
    {
     "name": "stdout",
     "output_type": "stream",
     "text": [
      "[2, 4, 6, 8, 10] [2, 4, 6, 8, 10]\n"
     ]
    }
   ],
   "source": [
    "numbers = []\n",
    "\n",
    "for i in range(1, 11):\n",
    "    if i % 2 == 0:\n",
    "        numbers.append(i)\n",
    "    \n",
    "numbers1 = [ i for i in range(1, 11) if i % 2 == 0 ]\n",
    "    \n",
    "print(numbers, numbers1)"
   ]
  },
  {
   "cell_type": "code",
   "execution_count": 37,
   "id": "b6678e63-d42f-4eb4-9da3-8aa5879e50fb",
   "metadata": {},
   "outputs": [
    {
     "ename": "SyntaxError",
     "evalue": "cannot assign to literal here. Maybe you meant '==' instead of '='? (2491768974.py, line 3)",
     "output_type": "error",
     "traceback": [
      "\u001b[0;36m  Input \u001b[0;32mIn [37]\u001b[0;36m\u001b[0m\n\u001b[0;31m    \"1\"=1, \"2\u001b[0m\n\u001b[0m    ^\u001b[0m\n\u001b[0;31mSyntaxError\u001b[0m\u001b[0;31m:\u001b[0m cannot assign to literal here. Maybe you meant '==' instead of '='?\n"
     ]
    }
   ],
   "source": [
    "square_of_num = {\"1\": 1, \"2\": 4, \"3\": 9}\n",
    "\n",
    "\"1\"=1, \"2\"=4\n",
    "def sum(**nums):\n",
    "    res = 0\n",
    "    for i in nums.values():\n",
    "        res += i\n",
    "    return res\n",
    "\n",
    "sum(**square_of_num)\n",
    "        "
   ]
  },
  {
   "cell_type": "code",
   "execution_count": 44,
   "id": "19734885-3f82-4130-b3d0-793f02626659",
   "metadata": {},
   "outputs": [
    {
     "name": "stdout",
     "output_type": "stream",
     "text": [
      "[{'id': 1, 'first_name': 'Samar', 'last_name': 'Shrestha', 'sex': 'Male', 'address': 'California, USA'}, {'id': 2, 'first_name': 'Sajal', 'last_name': 'Shrestha', 'sex': 'Male', 'address': 'Michigan, USA'}, {'id': 3, 'first_name': 'Sugam', 'last_name': 'Shrestha', 'sex': 'Female', 'address': 'Denver, USA'}, {'id': 4, 'first_name': 'Ishwar', 'last_name': 'Chapagain', 'sex': 'Male', 'address': 'Denver, USA'}, {'id': 5, 'first_name': 'Pabitra', 'last_name': 'Shrestha', 'sex': 'Female', 'address': 'Kathmandu, Nepal'}, {'id': 6, 'first_name': 'Jeevan', 'last_name': 'Shrestha', 'sex': 'Male', 'address': 'Kathmandu, Nepal'}, {'id': 7, 'first_name': 'Angila', 'last_name': 'Rajbhandari', 'sex': 'Female', 'address': 'Kathmandu, Nepal'}, {'id': 8, 'first_name': 'Rama', 'last_name': 'Shrestha', 'sex': 'Female', 'address': 'Kathmandu, Nepal'}] <class 'list'>\n"
     ]
    }
   ],
   "source": [
    "import json\n",
    "\n",
    "with open(\"contacts.json\", mode=\"rw\") as file:\n",
    "    data = json.load(file)\n",
    "    print(data, type(data))"
   ]
  },
  {
   "cell_type": "code",
   "execution_count": 65,
   "id": "524609e8-767a-4161-88ed-cc97be54adc9",
   "metadata": {},
   "outputs": [
    {
     "name": "stdout",
     "output_type": "stream",
     "text": [
      "404 Client Error: Not Found for url: https://api.github.com/users/sajal11111shres\n",
      "Run finally\n"
     ]
    }
   ],
   "source": [
    "import requests\n",
    "from requests.exceptions import HTTPError\n",
    "\n",
    "url = \"https://api.github.com/users/sajal11111shres\"\n",
    "\n",
    "try: \n",
    "    response = requests.get(url)\n",
    "    response.raise_for_status()\n",
    "except HTTPError as err:\n",
    "    print(err)\n",
    "finally:\n",
    "    print(\"Run finally\")"
   ]
  },
  {
   "cell_type": "code",
   "execution_count": 57,
   "id": "01d64375-4c4d-410f-8091-bc9140de0aae",
   "metadata": {},
   "outputs": [
    {
     "ename": "HTTPError",
     "evalue": "404 Client Error: Not Found for url: https://api.github.com/users/0101021212",
     "output_type": "error",
     "traceback": [
      "\u001b[0;31m---------------------------------------------------------------------------\u001b[0m",
      "\u001b[0;31mHTTPError\u001b[0m                                 Traceback (most recent call last)",
      "Input \u001b[0;32mIn [57]\u001b[0m, in \u001b[0;36m<module>\u001b[0;34m\u001b[0m\n\u001b[0;32m----> 1\u001b[0m \u001b[43mresponse\u001b[49m\u001b[38;5;241;43m.\u001b[39;49m\u001b[43mraise_for_status\u001b[49m\u001b[43m(\u001b[49m\u001b[43m)\u001b[49m\n",
      "File \u001b[0;32m/opt/homebrew/lib/python3.10/site-packages/requests/models.py:960\u001b[0m, in \u001b[0;36mResponse.raise_for_status\u001b[0;34m(self)\u001b[0m\n\u001b[1;32m    957\u001b[0m     http_error_msg \u001b[38;5;241m=\u001b[39m \u001b[38;5;124mu\u001b[39m\u001b[38;5;124m'\u001b[39m\u001b[38;5;132;01m%s\u001b[39;00m\u001b[38;5;124m Server Error: \u001b[39m\u001b[38;5;132;01m%s\u001b[39;00m\u001b[38;5;124m for url: \u001b[39m\u001b[38;5;132;01m%s\u001b[39;00m\u001b[38;5;124m'\u001b[39m \u001b[38;5;241m%\u001b[39m (\u001b[38;5;28mself\u001b[39m\u001b[38;5;241m.\u001b[39mstatus_code, reason, \u001b[38;5;28mself\u001b[39m\u001b[38;5;241m.\u001b[39murl)\n\u001b[1;32m    959\u001b[0m \u001b[38;5;28;01mif\u001b[39;00m http_error_msg:\n\u001b[0;32m--> 960\u001b[0m     \u001b[38;5;28;01mraise\u001b[39;00m HTTPError(http_error_msg, response\u001b[38;5;241m=\u001b[39m\u001b[38;5;28mself\u001b[39m)\n",
      "\u001b[0;31mHTTPError\u001b[0m: 404 Client Error: Not Found for url: https://api.github.com/users/0101021212"
     ]
    }
   ],
   "source": []
  },
  {
   "cell_type": "code",
   "execution_count": 58,
   "id": "dad045b6-695d-49fd-b2db-4c47b0ad3aaf",
   "metadata": {},
   "outputs": [
    {
     "data": {
      "text/plain": [
       "404"
      ]
     },
     "execution_count": 58,
     "metadata": {},
     "output_type": "execute_result"
    }
   ],
   "source": [
    "response.status_code"
   ]
  },
  {
   "cell_type": "code",
   "execution_count": null,
   "id": "4d57545e-560b-4a6c-b247-912cccfdc4c0",
   "metadata": {},
   "outputs": [],
   "source": [
    "Exception:\n",
    "    AttributeError\n",
    "    IndexError\n",
    "    \n",
    "    "
   ]
  },
  {
   "cell_type": "code",
   "execution_count": 63,
   "id": "67623793-c3b1-4b5d-a900-df900ad0a93c",
   "metadata": {},
   "outputs": [
    {
     "name": "stdout",
     "output_type": "stream",
     "text": [
      "Index error has occured list index out of range\n"
     ]
    }
   ],
   "source": [
    "nums = [1,2,3]\n",
    "\n",
    "try:\n",
    "    num = nums[4]\n",
    "except IndexError as error:\n",
    "    print(\"Index error has occured\", error)\n",
    "except Exception as error:\n",
    "    print(\"Unknown error occured\", error)\n",
    "    exit(1)"
   ]
  },
  {
   "cell_type": "code",
   "execution_count": 66,
   "id": "50905fb7-e702-4dc3-8417-36e3dbf4bc47",
   "metadata": {},
   "outputs": [
    {
     "ename": "CustomException",
     "evalue": "Cannot Proceed",
     "output_type": "error",
     "traceback": [
      "\u001b[0;31m---------------------------------------------------------------------------\u001b[0m",
      "\u001b[0;31mCustomException\u001b[0m                           Traceback (most recent call last)",
      "Input \u001b[0;32mIn [66]\u001b[0m, in \u001b[0;36m<module>\u001b[0;34m\u001b[0m\n\u001b[1;32m      1\u001b[0m \u001b[38;5;28;01mclass\u001b[39;00m \u001b[38;5;21;01mCustomException\u001b[39;00m(\u001b[38;5;167;01mException\u001b[39;00m):\n\u001b[1;32m      2\u001b[0m     \u001b[38;5;28;01mpass\u001b[39;00m\n\u001b[0;32m----> 6\u001b[0m \u001b[38;5;28;01mraise\u001b[39;00m CustomException(\u001b[38;5;124m\"\u001b[39m\u001b[38;5;124mCannot Proceed\u001b[39m\u001b[38;5;124m\"\u001b[39m)\n",
      "\u001b[0;31mCustomException\u001b[0m: Cannot Proceed"
     ]
    }
   ],
   "source": [
    "class CustomException(Exception):\n",
    "    pass\n",
    "\n",
    "\n",
    "raise CustomException(\"Cannot Proceed\")"
   ]
  }
 ],
 "metadata": {
  "kernelspec": {
   "display_name": "Python 3 (ipykernel)",
   "language": "python",
   "name": "python3"
  },
  "language_info": {
   "codemirror_mode": {
    "name": "ipython",
    "version": 3
   },
   "file_extension": ".py",
   "mimetype": "text/x-python",
   "name": "python",
   "nbconvert_exporter": "python",
   "pygments_lexer": "ipython3",
   "version": "3.10.1"
  }
 },
 "nbformat": 4,
 "nbformat_minor": 5
}
