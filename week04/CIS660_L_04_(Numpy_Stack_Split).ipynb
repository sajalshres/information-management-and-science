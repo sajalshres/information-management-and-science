{
  "nbformat": 4,
  "nbformat_minor": 0,
  "metadata": {
    "colab": {
      "name": "CIS660 - L#04 (Numpy-Stack Split).ipynb",
      "provenance": [],
      "collapsed_sections": []
    },
    "kernelspec": {
      "name": "python3",
      "display_name": "Python 3"
    },
    "language_info": {
      "name": "python"
    }
  },
  "cells": [
    {
      "cell_type": "code",
      "execution_count": 1,
      "metadata": {
        "id": "XiRPWRg2hEz6"
      },
      "outputs": [],
      "source": [
        "import pandas as pd\n",
        "import numpy as np"
      ]
    },
    {
      "cell_type": "code",
      "source": [
        "#stacking - adding data vertically, horizontally"
      ],
      "metadata": {
        "id": "wWIPx4ZKhKp7"
      },
      "execution_count": null,
      "outputs": []
    },
    {
      "cell_type": "code",
      "source": [
        "#vertical stacking : stack the rows (vstack, row_stack)\n",
        "\n",
        "n1 = np.arange(0,10, 2)\n",
        "\n",
        "n2 = np.arange(5)\n",
        "\n",
        "print(n1)\n",
        "print(n2)\n",
        "\n",
        "\n",
        "print()\n",
        "#n3 = np.vstack( (n1, n2) )\n",
        "n3 = np.row_stack( (n1, n2) )\n",
        "print(n3)"
      ],
      "metadata": {
        "id": "_RJDizMJhKsl",
        "colab": {
          "base_uri": "https://localhost:8080/",
          "height": 0
        },
        "outputId": "7c736290-0a7f-41d2-b355-622dca5f29e5"
      },
      "execution_count": 7,
      "outputs": [
        {
          "output_type": "stream",
          "name": "stdout",
          "text": [
            "[0 2 4 6 8]\n",
            "[0 1 2 3 4]\n",
            "\n",
            "[[0 2 4 6 8]\n",
            " [0 1 2 3 4]]\n"
          ]
        }
      ]
    },
    {
      "cell_type": "code",
      "source": [
        "n1 = np.array([ [1,2,3], [4,5,6] ])  #2D\n",
        "\n",
        "row1 = [7, 8, 9]             #1D\n",
        "row2 = [10,11,12]          #1D \n",
        "\n",
        "n2 = np.vstack( (n1, row1, row2) )\n",
        "print(n2)\n"
      ],
      "metadata": {
        "id": "VzBJfAKxhKvD",
        "colab": {
          "base_uri": "https://localhost:8080/",
          "height": 0
        },
        "outputId": "bf00fb64-b274-43a0-93a4-5fcd9f850b05"
      },
      "execution_count": 14,
      "outputs": [
        {
          "output_type": "stream",
          "name": "stdout",
          "text": [
            "[[ 1  2  3]\n",
            " [ 4  5  6]\n",
            " [ 7  8  9]\n",
            " [10 11 12]]\n"
          ]
        }
      ]
    },
    {
      "cell_type": "code",
      "source": [
        "n1 = np.array([ [1,2,3], [4,5,6] ])  #2D\n",
        "n2 = np.array([ [11,12,13], [14,15,16] ])  #2D\n",
        "n3 = np.array([ 10, 20, 30])  #1D\n",
        "\n",
        "n4 = np.vstack( (n1, n2, n3) )\n",
        "\n",
        "print(n4)\n",
        "\n"
      ],
      "metadata": {
        "id": "bNmd6fr9hK0J",
        "colab": {
          "base_uri": "https://localhost:8080/",
          "height": 0
        },
        "outputId": "45f0f1d9-5e7b-4b7d-b2a2-4aceb85bdad4"
      },
      "execution_count": 15,
      "outputs": [
        {
          "output_type": "stream",
          "name": "stdout",
          "text": [
            "[[ 1  2  3]\n",
            " [ 4  5  6]\n",
            " [11 12 13]\n",
            " [14 15 16]\n",
            " [10 20 30]]\n"
          ]
        }
      ]
    },
    {
      "cell_type": "code",
      "source": [
        "#horizontal stacking : stack the columns (hstack, column_stack)\n",
        "\n",
        "n1 = np.array([ [1,2,3], [4,5,6] ])  #2D\n",
        "n2 = np.array([ [7] ,[8] ])\n",
        "\n",
        "n3 = np.hstack( (n1, n2))\n",
        "print(n3)"
      ],
      "metadata": {
        "id": "9cmXJ8VGhK2x",
        "colab": {
          "base_uri": "https://localhost:8080/",
          "height": 0
        },
        "outputId": "9e3ad7fc-82f1-411d-d555-2fee3a45f9c4"
      },
      "execution_count": 21,
      "outputs": [
        {
          "output_type": "stream",
          "name": "stdout",
          "text": [
            "[[1 2 3 7]\n",
            " [4 5 6 8]]\n"
          ]
        }
      ]
    },
    {
      "cell_type": "code",
      "source": [
        "n1 = np.array([ [1,2,3], [4,5,6] ])  #2D\n",
        "n2 = np.array([ [7, 9] ,[8, 10] ])   #2D\n",
        "\n",
        "n3 = np.hstack( (n1, n2))\n",
        "#n3 = np.column_stack( (n1, n2))\n",
        "print(n3)"
      ],
      "metadata": {
        "id": "7TxWpBVnhK5Z",
        "colab": {
          "base_uri": "https://localhost:8080/",
          "height": 0
        },
        "outputId": "8634d9c7-51c6-4c6f-d1d7-f65f1f10009d"
      },
      "execution_count": 24,
      "outputs": [
        {
          "output_type": "stream",
          "name": "stdout",
          "text": [
            "[[ 1  2  3  7  9]\n",
            " [ 4  5  6  8 10]]\n"
          ]
        }
      ]
    },
    {
      "cell_type": "code",
      "source": [
        "n1 = np.array([ [1,2,3], [4,5,6], [4,5,6], [4,5,6] ])  #2D\n",
        "n2 = np.array([ [7] ,[8], [9],[10] ])   #2D\n",
        "\n",
        "n3 = np.hstack( (n1, n2))\n",
        "#n3 = np.column_stack( (n1, n2))\n",
        "print(n3)"
      ],
      "metadata": {
        "colab": {
          "base_uri": "https://localhost:8080/",
          "height": 0
        },
        "id": "ZnvIn74SIctO",
        "outputId": "e7d9bfbf-b0c7-46e9-bff2-a1996d401417"
      },
      "execution_count": 25,
      "outputs": [
        {
          "output_type": "stream",
          "name": "stdout",
          "text": [
            "[[ 1  2  3  7]\n",
            " [ 4  5  6  8]\n",
            " [ 4  5  6  9]\n",
            " [ 4  5  6 10]]\n"
          ]
        }
      ]
    },
    {
      "cell_type": "code",
      "source": [
        "#insert  (axis=0, axis=1)\n",
        "\n",
        "n1 = np.array([ [1,2,3], [4,5,6] ])\n",
        "n2 = np.array([ 7,8,9] )\n",
        "\n",
        "n3 = np.insert(n1, 1, n2, axis=0)\n",
        "print(n3)"
      ],
      "metadata": {
        "colab": {
          "base_uri": "https://localhost:8080/",
          "height": 0
        },
        "id": "j-_hacBAIyzl",
        "outputId": "6747f340-cbb5-4242-d7ff-8cf55f2aa10d"
      },
      "execution_count": 27,
      "outputs": [
        {
          "output_type": "stream",
          "name": "stdout",
          "text": [
            "[[1 2 3]\n",
            " [7 8 9]\n",
            " [4 5 6]]\n"
          ]
        }
      ]
    },
    {
      "cell_type": "code",
      "source": [
        "n1 = np.array([ [1,2,3], [4,5,6] ])\n",
        "n2 = np.array( [7, 8] )\n",
        "\n",
        "n3 = np.insert(n1, 1, n2, axis=1)\n",
        "print(n3)"
      ],
      "metadata": {
        "colab": {
          "base_uri": "https://localhost:8080/",
          "height": 0
        },
        "id": "gZ4MB5OfJZuV",
        "outputId": "3aac5f8b-693e-4181-f095-47c35e8f21b7"
      },
      "execution_count": 33,
      "outputs": [
        {
          "output_type": "stream",
          "name": "stdout",
          "text": [
            "[[1 7 2 3]\n",
            " [4 8 5 6]]\n"
          ]
        }
      ]
    },
    {
      "cell_type": "code",
      "source": [
        "#insert, append, concatenate\n",
        "n1 = np.array([ [1,2,3], [4,5,6] ])\n",
        "n2 = np.array([[7,8,9]])\n",
        "\n",
        "n3 = np.append(n1, n2, axis=0)\n",
        "print(n3)\n"
      ],
      "metadata": {
        "colab": {
          "base_uri": "https://localhost:8080/",
          "height": 0
        },
        "id": "hapl06nlXBx8",
        "outputId": "b35a3fc2-7714-4b03-bc9b-3fe574d68a27"
      },
      "execution_count": 38,
      "outputs": [
        {
          "output_type": "stream",
          "name": "stdout",
          "text": [
            "[[1 2 3]\n",
            " [4 5 6]\n",
            " [7 8 9]]\n"
          ]
        }
      ]
    },
    {
      "cell_type": "code",
      "source": [
        "n1 = np.array([ [1,2,3], [4,5,6] ])\n",
        "n2 = np.array([[7],[8]])\n",
        "\n",
        "n3 = np.append(n1, n2, axis=1)\n",
        "print(n3)"
      ],
      "metadata": {
        "colab": {
          "base_uri": "https://localhost:8080/",
          "height": 0
        },
        "id": "0bVtKhIYXB3D",
        "outputId": "4dde54f1-3816-4289-9acb-64266bd534ca"
      },
      "execution_count": 40,
      "outputs": [
        {
          "output_type": "stream",
          "name": "stdout",
          "text": [
            "[[1 2 3 7]\n",
            " [4 5 6 8]]\n"
          ]
        }
      ]
    },
    {
      "cell_type": "code",
      "source": [
        "n1 = np.array([ [1,2,3], [4,5,6] ])\n",
        "n2 = np.array([[7,8,9]])\n",
        "\n",
        "n3 = np.concatenate( (n1, n2) , axis=0)\n",
        "print(n3)"
      ],
      "metadata": {
        "colab": {
          "base_uri": "https://localhost:8080/",
          "height": 0
        },
        "id": "kl44cmLFXvY8",
        "outputId": "f6c44c34-2e25-4e12-d418-47289e763983"
      },
      "execution_count": 42,
      "outputs": [
        {
          "output_type": "stream",
          "name": "stdout",
          "text": [
            "[[1 2 3]\n",
            " [4 5 6]\n",
            " [7 8 9]]\n"
          ]
        }
      ]
    },
    {
      "cell_type": "code",
      "source": [
        "n1 = np.array([ [1,2,3], [4,5,6] ])\n",
        "n2 = np.array([[7],[8]])\n",
        "\n",
        "n3 = np.concatenate( (n1, n2) , axis=1)\n",
        "print(n3)"
      ],
      "metadata": {
        "colab": {
          "base_uri": "https://localhost:8080/",
          "height": 0
        },
        "id": "ew15-_RDX3vE",
        "outputId": "ee5710b8-4d4f-49bd-c8c0-154ce6bd317d"
      },
      "execution_count": 43,
      "outputs": [
        {
          "output_type": "stream",
          "name": "stdout",
          "text": [
            "[[1 2 3 7]\n",
            " [4 5 6 8]]\n"
          ]
        }
      ]
    },
    {
      "cell_type": "code",
      "source": [
        "#split\n",
        "\n",
        "x = np.arange(12)\n",
        "print(x)\n",
        "\n",
        "n = np.split(x, 2)  \n",
        "print(type(n), len(n))\n",
        "\n",
        "print(n[0])\n",
        "print(n[1])\n",
        "#print(n[2])\n",
        "#print(n[3])"
      ],
      "metadata": {
        "colab": {
          "base_uri": "https://localhost:8080/",
          "height": 0
        },
        "id": "mn6gJ9irYAvb",
        "outputId": "6bcf937c-9342-4f61-cc7f-71797ad68f77"
      },
      "execution_count": 51,
      "outputs": [
        {
          "output_type": "stream",
          "name": "stdout",
          "text": [
            "[ 0  1  2  3  4  5  6  7  8  9 10 11]\n",
            "<class 'list'> 2\n",
            "[0 1 2 3 4 5]\n",
            "[ 6  7  8  9 10 11]\n"
          ]
        }
      ]
    },
    {
      "cell_type": "code",
      "source": [
        "x = np.arange(12)\n",
        "n = np.split(x, [1, 3, 9] )\n",
        "print(type(n), len(n))\n",
        "\n",
        "print(n[0])\n",
        "print(n[1])\n",
        "print(n[2])\n",
        "print(n[3])"
      ],
      "metadata": {
        "colab": {
          "base_uri": "https://localhost:8080/",
          "height": 0
        },
        "id": "XvEEJbRYYAyb",
        "outputId": "ad207f13-455b-4f8c-8e3a-f1eb9da39a86"
      },
      "execution_count": 53,
      "outputs": [
        {
          "output_type": "stream",
          "name": "stdout",
          "text": [
            "<class 'list'> 4\n",
            "[0]\n",
            "[1 2]\n",
            "[3 4 5 6 7 8]\n",
            "[ 9 10 11]\n"
          ]
        }
      ]
    },
    {
      "cell_type": "code",
      "source": [
        "x = np.arange(16).reshape(4,4)\n",
        "print(x)\n",
        "\n",
        "a = np.hsplit(x, 4)\n",
        "print()\n",
        "print(a[0])\n",
        "print(a[1])\n",
        "print(a[2])\n",
        "print(a[3])"
      ],
      "metadata": {
        "colab": {
          "base_uri": "https://localhost:8080/",
          "height": 0
        },
        "id": "xvXSi-ciYA1s",
        "outputId": "7bd6c727-d9f3-4fe5-e2f0-9dcee5046e95"
      },
      "execution_count": 61,
      "outputs": [
        {
          "output_type": "stream",
          "name": "stdout",
          "text": [
            "[[ 0  1  2  3]\n",
            " [ 4  5  6  7]\n",
            " [ 8  9 10 11]\n",
            " [12 13 14 15]]\n",
            "\n",
            "[[ 0]\n",
            " [ 4]\n",
            " [ 8]\n",
            " [12]]\n",
            "[[ 1]\n",
            " [ 5]\n",
            " [ 9]\n",
            " [13]]\n",
            "[[ 2]\n",
            " [ 6]\n",
            " [10]\n",
            " [14]]\n",
            "[[ 3]\n",
            " [ 7]\n",
            " [11]\n",
            " [15]]\n"
          ]
        }
      ]
    },
    {
      "cell_type": "code",
      "source": [
        "x = np.arange(16).reshape(4,4)\n",
        "print(x)\n",
        "print()\n",
        "a = np.vsplit(x, 4)\n",
        "print(a[0])\n",
        "print(a[1])\n",
        "print(a[2])\n",
        "print(a[3])"
      ],
      "metadata": {
        "colab": {
          "base_uri": "https://localhost:8080/",
          "height": 0
        },
        "id": "Xv1mYttcYA4s",
        "outputId": "81b7b203-2bcc-40e4-b101-8f45978ca689"
      },
      "execution_count": 66,
      "outputs": [
        {
          "output_type": "stream",
          "name": "stdout",
          "text": [
            "[[ 0  1  2  3]\n",
            " [ 4  5  6  7]\n",
            " [ 8  9 10 11]\n",
            " [12 13 14 15]]\n",
            "\n",
            "[[0 1 2 3]]\n",
            "[[4 5 6 7]]\n",
            "[[ 8  9 10 11]]\n",
            "[[12 13 14 15]]\n"
          ]
        }
      ]
    }
  ]
}