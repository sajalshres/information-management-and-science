{
 "cells": [
  {
   "cell_type": "code",
   "execution_count": 12,
   "metadata": {},
   "outputs": [],
   "source": [
    "# imports\n",
    "import numpy as np\n"
   ]
  },
  {
   "cell_type": "code",
   "execution_count": 13,
   "metadata": {},
   "outputs": [
    {
     "data": {
      "text/plain": [
       "array([[ 1,  2,  3],\n",
       "       [ 4,  5,  6],\n",
       "       [ 7,  8,  9],\n",
       "       [10, 11, 12],\n",
       "       [13, 14, 15]])"
      ]
     },
     "execution_count": 13,
     "metadata": {},
     "output_type": "execute_result"
    }
   ],
   "source": [
    "# Vstack: vertical stack\n",
    "n1 = np.array([[1, 2, 3], [4, 5, 6]])\n",
    "n2 = np.array([[7, 8, 9], [10, 11, 12]])\n",
    "n3 = np.array([13, 14, 15])\n",
    "\n",
    "np.vstack((n1, n2, n3))\n"
   ]
  },
  {
   "cell_type": "code",
   "execution_count": 14,
   "metadata": {},
   "outputs": [
    {
     "data": {
      "text/plain": [
       "array([[1, 2, 3, 4],\n",
       "       [5, 6, 7, 8]])"
      ]
     },
     "execution_count": 14,
     "metadata": {},
     "output_type": "execute_result"
    }
   ],
   "source": [
    "# Horizontal Stacking: hstack\n",
    "\n",
    "n1 = np.array([[1, 2, 3], [5, 6, 7]])\n",
    "n2 = np.array([[4], [8]])\n",
    "\n",
    "np.hstack((n1, n2))\n"
   ]
  },
  {
   "cell_type": "code",
   "execution_count": 15,
   "metadata": {},
   "outputs": [
    {
     "name": "stdout",
     "output_type": "stream",
     "text": [
      "[[1 2 3 4 5]\n",
      " [6 7 8 8 9]]\n",
      "\n",
      "[[1 2 3 4 5]\n",
      " [6 7 8 8 9]]\n"
     ]
    }
   ],
   "source": [
    "# Horizontal Stacking: column stack\n",
    "\n",
    "n1 = np.array([[1, 2, 3], [6, 7, 8]])\n",
    "n2 = np.array([[4, 5], [8, 9]])\n",
    "\n",
    "print(np.hstack((n1, n2)))\n",
    "\n",
    "print()\n",
    "\n",
    "print(np.column_stack((n1, n2)))\n"
   ]
  },
  {
   "cell_type": "code",
   "execution_count": 16,
   "metadata": {},
   "outputs": [
    {
     "name": "stdout",
     "output_type": "stream",
     "text": [
      "[[1 2 3]\n",
      " [7 8 9]\n",
      " [4 5 6]]\n",
      "[[1 7 2 3]\n",
      " [4 8 5 6]]\n"
     ]
    }
   ],
   "source": [
    "# Stacking as insertion\n",
    "\n",
    "n1 = np.array([[1, 2, 3], [4, 5, 6]])\n",
    "\n",
    "# vertical stack\n",
    "print(np.insert(n1, 1, np.array([7, 8, 9]), axis=0))\n",
    "\n",
    "# horizontal stack\n",
    "print(np.insert(n1, 1, np.array([[7, 8]]), axis=1))\n"
   ]
  },
  {
   "cell_type": "code",
   "execution_count": 21,
   "metadata": {},
   "outputs": [
    {
     "name": "stdout",
     "output_type": "stream",
     "text": [
      "[[1 2 3]\n",
      " [4 5 6]\n",
      " [7 8 9]]\n",
      "[[1 2 3 7]\n",
      " [4 5 6 8]]\n"
     ]
    }
   ],
   "source": [
    "# append\n",
    "n1 = np.array([[1, 2, 3], [4, 5, 6]])\n",
    "n2 = np.array([[7, 8, 9]])\n",
    "n3 = np.array([[7], [8]])\n",
    "\n",
    "print(np.append(n1, n2, axis=0))\n",
    "\n",
    "print(np.append(n1, n3, axis=1))\n"
   ]
  },
  {
   "cell_type": "code",
   "execution_count": 24,
   "metadata": {},
   "outputs": [
    {
     "name": "stdout",
     "output_type": "stream",
     "text": [
      "[[1 2 3]\n",
      " [4 5 6]\n",
      " [7 8 9]]\n",
      "\n",
      "[[1 2 3 7]\n",
      " [4 5 6 8]]\n",
      "None\n"
     ]
    }
   ],
   "source": [
    "# concatenate\n",
    "n1 = np.array([[1, 2, 3], [4, 5, 6]])\n",
    "n2 = np.array([[7, 8, 9]])\n",
    "n3 = np.array([[7], [8]])\n",
    "\n",
    "print(np.concatenate((n1, n2), axis=0))\n",
    "\n",
    "print()\n",
    "print(print(np.concatenate((n1, n3), axis=1)))"
   ]
  },
  {
   "cell_type": "code",
   "execution_count": 32,
   "metadata": {},
   "outputs": [
    {
     "name": "stdout",
     "output_type": "stream",
     "text": [
      "[array([0, 1, 2]), array([3, 4, 5]), array([6, 7, 8]), array([ 9, 10, 11])]\n",
      "[array([0, 1, 2, 3]), array([4, 5, 6, 7]), array([ 8,  9, 10, 11])]\n",
      "[array([0]), array([1, 2]), array([3, 4, 5, 6, 7, 8]), array([ 9, 10, 11])]\n",
      "[[ 0  1  2  3]\n",
      " [ 4  5  6  7]\n",
      " [ 8  9 10 11]]\n",
      "[array([[0, 1],\n",
      "       [4, 5],\n",
      "       [8, 9]]), array([[ 2,  3],\n",
      "       [ 6,  7],\n",
      "       [10, 11]])]\n",
      "[array([[0, 1, 2, 3]]), array([[4, 5, 6, 7]]), array([[ 8,  9, 10, 11]])]\n"
     ]
    }
   ],
   "source": [
    "# split\n",
    "\n",
    "arr = np.arange(12)\n",
    "\n",
    "print(np.split(arr, 4))\n",
    "\n",
    "print(np.split(arr, 3))\n",
    "\n",
    "print(np.split(arr, [1,3,9]))\n",
    "\n",
    "\n",
    "arr2 = arr.reshape(3,4)\n",
    "print(arr2)\n",
    "\n",
    "print(np.hsplit(arr2, 2))\n",
    "\n",
    "print(np.vsplit(arr2, 3))"
   ]
  },
  {
   "cell_type": "code",
   "execution_count": null,
   "metadata": {},
   "outputs": [],
   "source": []
  }
 ],
 "metadata": {
  "interpreter": {
   "hash": "7e1998ff7f8aa20ada591c520b972326324e5ea05489af9e422744c7c09f6dad"
  },
  "kernelspec": {
   "display_name": "Python 3.10.1 64-bit",
   "language": "python",
   "name": "python3"
  },
  "language_info": {
   "codemirror_mode": {
    "name": "ipython",
    "version": 3
   },
   "file_extension": ".py",
   "mimetype": "text/x-python",
   "name": "python",
   "nbconvert_exporter": "python",
   "pygments_lexer": "ipython3",
   "version": "3.10.1"
  },
  "orig_nbformat": 4
 },
 "nbformat": 4,
 "nbformat_minor": 2
}
