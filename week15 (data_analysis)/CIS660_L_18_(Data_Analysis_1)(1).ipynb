{
  "nbformat": 4,
  "nbformat_minor": 0,
  "metadata": {
    "colab": {
      "name": "CIS660 - L#18 (Data Analysis-1).ipynb",
      "provenance": [],
      "collapsed_sections": []
    },
    "kernelspec": {
      "name": "python3",
      "display_name": "Python 3"
    },
    "language_info": {
      "name": "python"
    }
  },
  "cells": [
    {
      "cell_type": "code",
      "execution_count": 1,
      "metadata": {
        "id": "VuJ6_zeJIuEO"
      },
      "outputs": [],
      "source": [
        "import pandas as pd\n",
        "import numpy as np\n",
        "import sqlite3\n",
        "from datetime import datetime\n",
        "import matplotlib.pyplot as plt"
      ]
    },
    {
      "cell_type": "code",
      "source": [
        "def main():\n",
        "\n",
        "  input_file = 'Employees.csv'\n",
        "\n",
        "  log('Extract Phase Started')  \n",
        "  df_1 = extract(input_file)\n",
        "  log('Extract Phase Ended')\n",
        "\n",
        "  log('Transform Phase Started')  \n",
        "  df_2 = transform(df_1)\n",
        "  log('Transform Phase Ended')\n",
        "\n",
        "  log('Load Phase Started')  \n",
        "  load(df_2)\n",
        "  log('Load Phase Ended')\n",
        "\n",
        "  analysis()\n",
        "\n"
      ],
      "metadata": {
        "id": "kpGEcpq_I58B"
      },
      "execution_count": 2,
      "outputs": []
    },
    {
      "cell_type": "code",
      "source": [
        "def extract(raw_file):\n",
        "\n",
        "  df = pd.read_csv(raw_file)\n",
        "  return df"
      ],
      "metadata": {
        "id": "bEfVHBhnI5-q"
      },
      "execution_count": 3,
      "outputs": []
    },
    {
      "cell_type": "code",
      "source": [
        "def transform(df_inp):\n",
        "\n",
        "  #print(df_inp.head())\n",
        "  \n",
        "  #(1) retain employees with name, and drop the rest\n",
        "\n",
        "  df_inp = df_inp[df_inp['First Name'].notna()]\n",
        "\n",
        "  #(2) provide default-values to gender, and team \n",
        "\n",
        "  df_inp['Gender'] = df_inp['Gender'].fillna('Unknown')\n",
        "\n",
        "  df_inp['Team'] = df_inp['Team'].fillna('Intern')\n",
        "\n",
        "  #print(df_inp.isna().sum())\n",
        "\n",
        "  #print(df_inp['Gender'].value_counts())\n",
        "  #print(df_inp['Team'].value_counts())\n",
        "  \n",
        "\n",
        "  #(3) remove spaces from column-headers\n",
        "\n",
        "  relabel = {'First Name':'First_Name',\n",
        "             'Start Date':'Start_Date',\n",
        "             'Last Login Time':'Last_Login_Time',\n",
        "             'Senior Management':'Senior_Management'}\n",
        "\n",
        "  for col in df_inp.columns:\n",
        "    if col in relabel.keys():\n",
        "      df_inp = df_inp.rename( columns = {col : relabel[col] })\n",
        "\n",
        "  #print(df_inp.head())\n",
        "\n",
        "  return df_inp"
      ],
      "metadata": {
        "id": "34JPTSpeUE48"
      },
      "execution_count": 4,
      "outputs": []
    },
    {
      "cell_type": "code",
      "source": [
        "def load(df_inp):\n",
        "\n",
        "  db_name = \"Organization.db\"\n",
        "  tbl_name = \"Employees\"\n",
        "\n",
        "  cn = sqlite3.connect(db_name)\n",
        "  df_inp.to_sql(tbl_name, con= cn, index=False, if_exists=\"replace\")\n",
        "\n"
      ],
      "metadata": {
        "id": "_xpgGB3fZ-J0"
      },
      "execution_count": 5,
      "outputs": []
    },
    {
      "cell_type": "code",
      "source": [
        "def log(message):\n",
        "\n",
        "  timestamp_format = '%H:%M:%S-%h-%d-%Y'\n",
        "\n",
        "  current_time = datetime.now()\n",
        "\n",
        "  timestamp = current_time.strftime(timestamp_format)\n",
        "\n",
        "  with open(\"logfile.txt\", \"a\") as f:\n",
        "    f.write(timestamp + ':' + message +\"\\n\")\n"
      ],
      "metadata": {
        "id": "_y-NuUBrdL8F"
      },
      "execution_count": 6,
      "outputs": []
    },
    {
      "cell_type": "code",
      "source": [
        "def analysis():\n",
        "  db_name = \"Organization.db\"\n",
        "  tbl_name = \"Employees\"\n",
        "\n",
        "  cn = sqlite3.connect(db_name)\n",
        "  cr = cn.cursor()\n",
        "\n",
        "  #(Q1) find employees gender wise\n",
        "  cr.execute(\"select Gender, count(*) from \"+ tbl_name +\" group by Gender\")\n",
        "  content1 = cr.fetchall()\n",
        "  #plot(content1)  \n",
        "\n",
        "\n",
        "  \n",
        "  #(Q2) find how many employees work in each team\n",
        "  cr.execute(\"select Team, count(*) from \"+ tbl_name +\" group by Team\")\n",
        "  content2 = cr.fetchall()\n",
        "  #plot(content2)  \n",
        "\n",
        "  sub_plots(content1, content2)"
      ],
      "metadata": {
        "id": "JmH5O9xkeT9u"
      },
      "execution_count": 7,
      "outputs": []
    },
    {
      "cell_type": "code",
      "source": [
        "def plot(data):\n",
        "  x_values = []\n",
        "  y_values = []\n",
        "\n",
        "  for pair in data:\n",
        "    x_values.append(pair[0])\n",
        "    y_values.append(pair[1])\n",
        "\n",
        "  plt.bar(x_values, y_values, width=0.8)\n",
        "  plt.xticks(rotation = 90)"
      ],
      "metadata": {
        "id": "Ty9DoLBEfwiu"
      },
      "execution_count": 8,
      "outputs": []
    },
    {
      "cell_type": "code",
      "source": [
        "def sub_plots(data1, data2):\n",
        "  fig , axes = plt.subplots(2, 1, figsize=(10, 10))         #(width, height)\n",
        "\n",
        "  ax1, ax2 = axes[0], axes[1]\n",
        "\n",
        "  ax1.set_title('Gender-wise Employee distribution')\n",
        "  ax2.set_title('Team-wise Employee distribution')\n",
        "\n",
        "  x_values = []\n",
        "  y_values = []\n",
        "\n",
        "  for pair in data1:\n",
        "    x_values.append(pair[0])\n",
        "    y_values.append(pair[1])\n",
        "  ax1.bar(x_values, y_values)\n",
        "\n",
        "  x_values = []\n",
        "  y_values = []\n",
        "\n",
        "  for pair in data2:\n",
        "    x_values.append(pair[0])\n",
        "    y_values.append(pair[1])\n",
        "  ax2.bar(x_values, y_values)\n",
        "\n",
        "\n",
        "  plt.xticks(rotation = 90)"
      ],
      "metadata": {
        "id": "kc0BVhm1gx9l"
      },
      "execution_count": 9,
      "outputs": []
    },
    {
      "cell_type": "code",
      "source": [
        "main()"
      ],
      "metadata": {
        "colab": {
          "base_uri": "https://localhost:8080/",
          "height": 975
        },
        "id": "J64nbNiQI6Bq",
        "outputId": "d88bcca4-c28a-4170-92db-99c976c69ddc"
      },
      "execution_count": 11,
      "outputs": [
        {
          "output_type": "stream",
          "name": "stderr",
          "text": [
            "/usr/local/lib/python3.7/dist-packages/ipykernel_launcher.py:11: SettingWithCopyWarning: \n",
            "A value is trying to be set on a copy of a slice from a DataFrame.\n",
            "Try using .loc[row_indexer,col_indexer] = value instead\n",
            "\n",
            "See the caveats in the documentation: https://pandas.pydata.org/pandas-docs/stable/user_guide/indexing.html#returning-a-view-versus-a-copy\n",
            "  # This is added back by InteractiveShellApp.init_path()\n",
            "/usr/local/lib/python3.7/dist-packages/ipykernel_launcher.py:13: SettingWithCopyWarning: \n",
            "A value is trying to be set on a copy of a slice from a DataFrame.\n",
            "Try using .loc[row_indexer,col_indexer] = value instead\n",
            "\n",
            "See the caveats in the documentation: https://pandas.pydata.org/pandas-docs/stable/user_guide/indexing.html#returning-a-view-versus-a-copy\n",
            "  del sys.path[0]\n",
            "/usr/local/lib/python3.7/dist-packages/pandas/core/generic.py:2882: UserWarning: The spaces in these column names will not be changed. In pandas versions < 0.14, spaces were converted to underscores.\n",
            "  method=method,\n"
          ]
        },
        {
          "output_type": "display_data",
          "data": {
            "text/plain": [
              "<Figure size 720x720 with 2 Axes>"
            ],
            "image/png": "[encoded data removed]"
          },
          "metadata": {
            "needs_background": "light"
          }
        }
      ]
    },
    {
      "cell_type": "code",
      "source": [
        "def check():\n",
        "  cn = sqlite3.connect(\"Organization.db\")\n",
        "  cr = cn.cursor()\n",
        "\n",
        "  cr.execute(\"select * from Employees\")\n",
        "\n",
        "  content = cr.fetchall()\n",
        "\n",
        "  print(len(content))\n",
        "\n",
        "verify()"
      ],
      "metadata": {
        "colab": {
          "base_uri": "https://localhost:8080/"
        },
        "id": "HqYD5ukdcrLd",
        "outputId": "b3e65543-2151-453e-84f2-067f4098e505"
      },
      "execution_count": null,
      "outputs": [
        {
          "output_type": "stream",
          "name": "stdout",
          "text": [
            "933\n"
          ]
        }
      ]
    }
  ]
}