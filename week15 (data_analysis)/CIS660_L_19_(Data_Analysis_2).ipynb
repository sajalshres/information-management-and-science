{
  "nbformat": 4,
  "nbformat_minor": 0,
  "metadata": {
    "colab": {
      "name": "CIS660 - L#19 (Data Analysis-2).ipynb",
      "provenance": [],
      "collapsed_sections": []
    },
    "kernelspec": {
      "name": "python3",
      "display_name": "Python 3"
    },
    "language_info": {
      "name": "python"
    }
  },
  "cells": [
    {
      "cell_type": "code",
      "execution_count": 27,
      "metadata": {
        "id": "0a_VHcNHI0C3"
      },
      "outputs": [],
      "source": [
        "import pandas as pd\n",
        "import numpy as np\n",
        "import sqlite3\n",
        "from datetime import datetime\n",
        "import matplotlib.pyplot as plt\n",
        "\n",
        "import glob     #select particular type (extension) of files from a folder\n",
        "\n",
        "import xml.etree.ElementTree as ET"
      ]
    },
    {
      "cell_type": "code",
      "source": [
        "def main():\n",
        "  pass"
      ],
      "metadata": {
        "id": "MH71QrN1qYVQ"
      },
      "execution_count": null,
      "outputs": []
    },
    {
      "cell_type": "code",
      "source": [
        "def extract_csv(filename):\n",
        "  data = pd.read_csv(filename)\n",
        "  return data\n",
        "\n",
        "def extract_json(filename):\n",
        "  data = pd.read_json(filename, lines=True)\n",
        "  return data\n",
        "\n",
        "def extract_xml(filename):\n",
        "  data = pd.DataFrame(columns=[\"name\", \"height\", \"weight\"])\n",
        "\n",
        "  tree = ET.parse(filename)\n",
        "\n",
        "  root = tree.getroot()\n",
        "\n",
        "  for person in root:\n",
        "    name = person.find(\"name\").text\n",
        "    height = float(person.find(\"height\").text)\n",
        "    weight = float(person.find(\"weight\").text)\n",
        "\n",
        "    data = data.append({\"name\":name, \"height\":height, \"weight\":weight}, ignore_index=True)\n",
        "\n",
        "  return data"
      ],
      "metadata": {
        "id": "VNod0_0NtN-_"
      },
      "execution_count": 39,
      "outputs": []
    },
    {
      "cell_type": "code",
      "source": [
        "def extract():\n",
        "\n",
        "  df = pd.DataFrame(columns=[\"name\", \"height\", \"weight\"])\n",
        "\n",
        "  #(1) process csv file\n",
        "\n",
        "  for csvfile in glob.glob(\"./HeightWeightData/*.csv\"):\n",
        "    df = df.append(extract_csv(csvfile), ignore_index=True)\n",
        "\n",
        "  for jsonfile in glob.glob(\"./HeightWeightData/*.json\"):\n",
        "    df = df.append(extract_json(jsonfile), ignore_index=True)\n",
        "\n",
        "  for xmlfile in glob.glob(\"./HeightWeightData/*.xml\"):\n",
        "    df = df.append(extract_xml(xmlfile), ignore_index=True)\n",
        "\n",
        "  print(df.shape)"
      ],
      "metadata": {
        "id": "Xx_HHKhKqYY3"
      },
      "execution_count": 40,
      "outputs": []
    },
    {
      "cell_type": "code",
      "source": [
        "extract()"
      ],
      "metadata": {
        "colab": {
          "base_uri": "https://localhost:8080/"
        },
        "id": "O8I1b2dkqYcG",
        "outputId": "b807c8e3-b07f-48c4-c9b0-25935aeb0afa"
      },
      "execution_count": 41,
      "outputs": [
        {
          "output_type": "stream",
          "name": "stdout",
          "text": [
            "(39, 3)\n"
          ]
        }
      ]
    },
    {
      "cell_type": "code",
      "source": [
        ""
      ],
      "metadata": {
        "id": "P3Gn-U-Zvd1y"
      },
      "execution_count": null,
      "outputs": []
    },
    {
      "cell_type": "code",
      "source": [
        ""
      ],
      "metadata": {
        "id": "3wIy99NPvd4w"
      },
      "execution_count": null,
      "outputs": []
    },
    {
      "cell_type": "code",
      "source": [
        ""
      ],
      "metadata": {
        "id": "zH2yVc34vd73"
      },
      "execution_count": null,
      "outputs": []
    },
    {
      "cell_type": "code",
      "source": [
        ""
      ],
      "metadata": {
        "id": "X0UWvk-Zvd_J"
      },
      "execution_count": null,
      "outputs": []
    }
  ]
}