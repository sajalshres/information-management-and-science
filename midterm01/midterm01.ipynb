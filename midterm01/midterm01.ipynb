{
 "cells": [
  {
   "cell_type": "code",
   "execution_count": 21,
   "metadata": {},
   "outputs": [],
   "source": [
    "# imports\n",
    "import pandas as pd\n",
    "import numpy as np\n",
    "import matplotlib.pyplot as plt\n"
   ]
  },
  {
   "cell_type": "markdown",
   "metadata": {},
   "source": [
    "## NBA Data\n",
    "\n",
    "1. Find number of unique values in College, and Position Columns.\n",
    "2. Count and display the number of teams under each college.\n",
    "3. For each distinct value of Age, compute the following statistics :\n",
    "   1. For Height column – minimum, and maximum value\n",
    "   2. For Weight column – minimum, and maximum value\n",
    "   3. For Salary column – sum (total), mean, and count.\n",
    "      (Hint – use ‘agg’ function )\n",
    "4. For Texas College, find minimum Salary for every Position.\n",
    "5. Count number of players under every age ctegory, who play for ‘Boston Celtics’ Team.\n"
   ]
  },
  {
   "cell_type": "code",
   "execution_count": 22,
   "metadata": {},
   "outputs": [],
   "source": [
    "# load data\n",
    "nba = pd.read_csv(\"nba.csv\")"
   ]
  },
  {
   "cell_type": "code",
   "execution_count": 37,
   "metadata": {},
   "outputs": [
    {
     "name": "stdout",
     "output_type": "stream",
     "text": [
      "Unique values in College:  118\n",
      "Unique values in Position:  5\n"
     ]
    }
   ],
   "source": [
    "# find number of unique values in College, and Position Columns\n",
    "\n",
    "\n",
    "def get_unique_column(ds, name):\n",
    "    idx_nan = ds[name].isnull()\n",
    "    return ds[name][~idx_nan].unique()\n",
    "\n",
    "\n",
    "unique_colleges = get_unique_column(nba, name=\"College\")\n",
    "unique_position = get_unique_column(nba, name=\"Position\")\n",
    "\n",
    "print(\"Unique values in College: \", len(unique_colleges))\n",
    "print(\"Unique values in Position: \", len(unique_position))\n"
   ]
  },
  {
   "cell_type": "code",
   "execution_count": 58,
   "metadata": {},
   "outputs": [
    {
     "data": {
      "text/plain": [
       "3"
      ]
     },
     "execution_count": 58,
     "metadata": {},
     "output_type": "execute_result"
    }
   ],
   "source": [
    "# Counnt and display the number of teams under each college\n",
    "count_teams_by_college = {\n",
    "    college: len(nba[nba[\"College\"] == college][\"Team\"])\n",
    "    for college in unique_colleges\n",
    "}\n",
    "count_teams_by_college[\"Alabama\"]\n"
   ]
  },
  {
   "cell_type": "code",
   "execution_count": 59,
   "metadata": {},
   "outputs": [
    {
     "name": "stdout",
     "output_type": "stream",
     "text": [
      "                  Team\n",
      "College               \n",
      "Alabama              3\n",
      "Arizona             13\n",
      "Arizona State        2\n",
      "Arkansas             3\n",
      "Baylor               1\n",
      "...                ...\n",
      "Western Michigan     1\n",
      "Wichita State        1\n",
      "Wisconsin            5\n",
      "Wyoming              1\n",
      "Xavier               1\n",
      "\n",
      "[118 rows x 1 columns]\n"
     ]
    }
   ],
   "source": [
    "# number of teams under each college\n",
    "count_teams_by_college = nba[[\"College\", \"Team\"]].groupby(\"College\").count()\n",
    "print(count_teams_by_college)\n"
   ]
  },
  {
   "cell_type": "code",
   "execution_count": 68,
   "metadata": {},
   "outputs": [
    {
     "name": "stdout",
     "output_type": "stream",
     "text": [
      "     Height\n",
      "Age        \n",
      "19.0    6-6\n",
      "20.0   6-10\n",
      "21.0   6-10\n",
      "22.0    6-1\n",
      "23.0   5-11\n",
      "24.0    6-1\n",
      "25.0   5-11\n",
      "26.0    6-1\n",
      "27.0    5-9\n",
      "28.0   5-11\n",
      "29.0    6-1\n",
      "30.0    6-0\n",
      "31.0    6-0\n",
      "32.0   6-10\n",
      "33.0    6-1\n",
      "34.0    6-0\n",
      "35.0   6-10\n",
      "36.0   6-10\n",
      "37.0   6-10\n",
      "38.0   6-10\n",
      "39.0    6-3\n",
      "40.0   6-11\n",
      "     Height\n",
      "Age        \n",
      "19.0    6-6\n",
      "20.0    7-3\n",
      "21.0    7-0\n",
      "22.0    7-1\n",
      "23.0    7-1\n",
      "24.0    7-3\n",
      "25.0    7-0\n",
      "26.0    7-3\n",
      "27.0    7-3\n",
      "28.0    7-2\n",
      "29.0    7-2\n",
      "30.0    7-0\n",
      "31.0    7-1\n",
      "32.0    6-9\n",
      "33.0    7-1\n",
      "34.0    7-0\n",
      "35.0    7-0\n",
      "36.0    6-9\n",
      "37.0    7-0\n",
      "38.0    6-7\n",
      "39.0    6-6\n",
      "40.0    6-3\n",
      "     Height     \n",
      "        min  max\n",
      "Age             \n",
      "19.0    6-6  6-6\n",
      "20.0   6-10  7-3\n",
      "21.0   6-10  7-0\n",
      "22.0    6-1  7-1\n",
      "23.0   5-11  7-1\n",
      "24.0    6-1  7-3\n",
      "25.0   5-11  7-0\n",
      "26.0    6-1  7-3\n",
      "27.0    5-9  7-3\n",
      "28.0   5-11  7-2\n",
      "29.0    6-1  7-2\n",
      "30.0    6-0  7-0\n",
      "31.0    6-0  7-1\n",
      "32.0   6-10  6-9\n",
      "33.0    6-1  7-1\n",
      "34.0    6-0  7-0\n",
      "35.0   6-10  7-0\n",
      "36.0   6-10  6-9\n",
      "37.0   6-10  7-0\n",
      "38.0   6-10  6-7\n",
      "39.0    6-3  6-6\n",
      "40.0   6-11  6-3\n"
     ]
    }
   ],
   "source": [
    "# for distinct value of Age, for Height column, minimum and maximum value\n",
    "age_min_height = nba[[\"Age\", \"Height\"]].groupby(\"Age\").min()\n",
    "print(age_min_height)\n",
    "\n",
    "age_max_height = nba[[\"Age\", \"Height\"]].groupby(\"Age\").max()\n",
    "print(age_max_height)\n",
    "\n",
    "res= nba[[\"Age\", \"Height\"]].groupby(\"Age\").agg({\"Height\": [\"min\", \"max\"]})\n",
    "print(res)"
   ]
  },
  {
   "cell_type": "code",
   "execution_count": 67,
   "metadata": {},
   "outputs": [
    {
     "name": "stdout",
     "output_type": "stream",
     "text": [
      "      Weight\n",
      "Age         \n",
      "19.0   202.0\n",
      "20.0   190.0\n",
      "21.0   185.0\n",
      "22.0   172.0\n",
      "23.0   165.0\n",
      "24.0   175.0\n",
      "25.0   170.0\n",
      "26.0   169.0\n",
      "27.0   175.0\n",
      "28.0   175.0\n",
      "29.0   175.0\n",
      "30.0   173.0\n",
      "31.0   161.0\n",
      "32.0   175.0\n",
      "33.0   185.0\n",
      "34.0   185.0\n",
      "35.0   190.0\n",
      "36.0   172.0\n",
      "37.0   212.0\n",
      "38.0   185.0\n",
      "39.0   185.0\n",
      "40.0   200.0\n"
     ]
    },
    {
     "data": {
      "text/html": [
       "<div>\n",
       "<style scoped>\n",
       "    .dataframe tbody tr th:only-of-type {\n",
       "        vertical-align: middle;\n",
       "    }\n",
       "\n",
       "    .dataframe tbody tr th {\n",
       "        vertical-align: top;\n",
       "    }\n",
       "\n",
       "    .dataframe thead tr th {\n",
       "        text-align: left;\n",
       "    }\n",
       "\n",
       "    .dataframe thead tr:last-of-type th {\n",
       "        text-align: right;\n",
       "    }\n",
       "</style>\n",
       "<table border=\"1\" class=\"dataframe\">\n",
       "  <thead>\n",
       "    <tr>\n",
       "      <th></th>\n",
       "      <th colspan=\"2\" halign=\"left\">Weight</th>\n",
       "    </tr>\n",
       "    <tr>\n",
       "      <th></th>\n",
       "      <th>min</th>\n",
       "      <th>max</th>\n",
       "    </tr>\n",
       "    <tr>\n",
       "      <th>Age</th>\n",
       "      <th></th>\n",
       "      <th></th>\n",
       "    </tr>\n",
       "  </thead>\n",
       "  <tbody>\n",
       "    <tr>\n",
       "      <th>19.0</th>\n",
       "      <td>202.0</td>\n",
       "      <td>206.0</td>\n",
       "    </tr>\n",
       "    <tr>\n",
       "      <th>20.0</th>\n",
       "      <td>190.0</td>\n",
       "      <td>275.0</td>\n",
       "    </tr>\n",
       "    <tr>\n",
       "      <th>21.0</th>\n",
       "      <td>185.0</td>\n",
       "      <td>280.0</td>\n",
       "    </tr>\n",
       "    <tr>\n",
       "      <th>22.0</th>\n",
       "      <td>172.0</td>\n",
       "      <td>279.0</td>\n",
       "    </tr>\n",
       "    <tr>\n",
       "      <th>23.0</th>\n",
       "      <td>165.0</td>\n",
       "      <td>275.0</td>\n",
       "    </tr>\n",
       "    <tr>\n",
       "      <th>24.0</th>\n",
       "      <td>175.0</td>\n",
       "      <td>265.0</td>\n",
       "    </tr>\n",
       "    <tr>\n",
       "      <th>25.0</th>\n",
       "      <td>170.0</td>\n",
       "      <td>270.0</td>\n",
       "    </tr>\n",
       "    <tr>\n",
       "      <th>26.0</th>\n",
       "      <td>169.0</td>\n",
       "      <td>278.0</td>\n",
       "    </tr>\n",
       "    <tr>\n",
       "      <th>27.0</th>\n",
       "      <td>175.0</td>\n",
       "      <td>290.0</td>\n",
       "    </tr>\n",
       "    <tr>\n",
       "      <th>28.0</th>\n",
       "      <td>175.0</td>\n",
       "      <td>275.0</td>\n",
       "    </tr>\n",
       "    <tr>\n",
       "      <th>29.0</th>\n",
       "      <td>175.0</td>\n",
       "      <td>275.0</td>\n",
       "    </tr>\n",
       "    <tr>\n",
       "      <th>30.0</th>\n",
       "      <td>173.0</td>\n",
       "      <td>307.0</td>\n",
       "    </tr>\n",
       "    <tr>\n",
       "      <th>31.0</th>\n",
       "      <td>161.0</td>\n",
       "      <td>289.0</td>\n",
       "    </tr>\n",
       "    <tr>\n",
       "      <th>32.0</th>\n",
       "      <td>175.0</td>\n",
       "      <td>275.0</td>\n",
       "    </tr>\n",
       "    <tr>\n",
       "      <th>33.0</th>\n",
       "      <td>185.0</td>\n",
       "      <td>273.0</td>\n",
       "    </tr>\n",
       "    <tr>\n",
       "      <th>34.0</th>\n",
       "      <td>185.0</td>\n",
       "      <td>265.0</td>\n",
       "    </tr>\n",
       "    <tr>\n",
       "      <th>35.0</th>\n",
       "      <td>190.0</td>\n",
       "      <td>255.0</td>\n",
       "    </tr>\n",
       "    <tr>\n",
       "      <th>36.0</th>\n",
       "      <td>172.0</td>\n",
       "      <td>260.0</td>\n",
       "    </tr>\n",
       "    <tr>\n",
       "      <th>37.0</th>\n",
       "      <td>212.0</td>\n",
       "      <td>254.0</td>\n",
       "    </tr>\n",
       "    <tr>\n",
       "      <th>38.0</th>\n",
       "      <td>185.0</td>\n",
       "      <td>250.0</td>\n",
       "    </tr>\n",
       "    <tr>\n",
       "      <th>39.0</th>\n",
       "      <td>185.0</td>\n",
       "      <td>220.0</td>\n",
       "    </tr>\n",
       "    <tr>\n",
       "      <th>40.0</th>\n",
       "      <td>200.0</td>\n",
       "      <td>250.0</td>\n",
       "    </tr>\n",
       "  </tbody>\n",
       "</table>\n",
       "</div>"
      ],
      "text/plain": [
       "     Weight       \n",
       "        min    max\n",
       "Age               \n",
       "19.0  202.0  206.0\n",
       "20.0  190.0  275.0\n",
       "21.0  185.0  280.0\n",
       "22.0  172.0  279.0\n",
       "23.0  165.0  275.0\n",
       "24.0  175.0  265.0\n",
       "25.0  170.0  270.0\n",
       "26.0  169.0  278.0\n",
       "27.0  175.0  290.0\n",
       "28.0  175.0  275.0\n",
       "29.0  175.0  275.0\n",
       "30.0  173.0  307.0\n",
       "31.0  161.0  289.0\n",
       "32.0  175.0  275.0\n",
       "33.0  185.0  273.0\n",
       "34.0  185.0  265.0\n",
       "35.0  190.0  255.0\n",
       "36.0  172.0  260.0\n",
       "37.0  212.0  254.0\n",
       "38.0  185.0  250.0\n",
       "39.0  185.0  220.0\n",
       "40.0  200.0  250.0"
      ]
     },
     "execution_count": 67,
     "metadata": {},
     "output_type": "execute_result"
    }
   ],
   "source": [
    "# for distinct value of Age, for Weight column, minimum and maximum column\n",
    "age_min_weight = nba[[\"Age\", \"Weight\"]].groupby(\"Age\").min()\n",
    "age_max_weight = nba[[\"Age\", \"Weight\"]].groupby(\"Age\").max()\n",
    "\n",
    "print(age_min_weight)\n",
    "res= nba[[\"Age\", \"Weight\"]].groupby(\"Age\").agg({\"Weight\": [\"min\", \"max\"]})\n",
    "print(res)"
   ]
  },
  {
   "cell_type": "code",
   "execution_count": 41,
   "metadata": {},
   "outputs": [
    {
     "name": "stdout",
     "output_type": "stream",
     "text": [
      "           Salary                    \n",
      "              sum          mean count\n",
      "Age                                  \n",
      "19.0    3860880.0  1.930440e+06     2\n",
      "20.0   51790026.0  2.725791e+06    19\n",
      "21.0   39280213.0  2.067380e+06    19\n",
      "22.0   61307050.0  2.357963e+06    26\n",
      "23.0   79355103.0  2.034746e+06    39\n",
      "24.0  170338514.0  3.785300e+06    45\n",
      "25.0  172958166.0  3.930867e+06    44\n",
      "26.0  247196385.0  6.866566e+06    36\n",
      "27.0  267069647.0  6.676741e+06    40\n",
      "28.0  153305658.0  5.110189e+06    30\n",
      "29.0  168052779.0  6.224177e+06    27\n",
      "30.0  211855757.0  7.061859e+06    30\n",
      "31.0  187250724.0  8.511397e+06    22\n",
      "32.0  100320456.0  7.716958e+06    13\n",
      "33.0   55030346.0  3.930739e+06    14\n",
      "34.0   76060300.0  7.606030e+06    10\n",
      "35.0   27693918.0  3.461740e+06     8\n",
      "36.0   22381196.0  2.238120e+06    10\n",
      "37.0   38333334.0  1.277778e+07     3\n",
      "38.0    7360164.0  1.840041e+06     4\n",
      "39.0    5035745.0  2.517872e+06     2\n",
      "40.0   14000750.0  4.666917e+06     3\n"
     ]
    }
   ],
   "source": [
    "# for each distinct Age, for Salary column, sum(total), mean and count\n",
    "res = nba[[\"Age\", \"Salary\"]].groupby(\"Age\").agg({\"Salary\": [\"sum\", \"mean\", \"count\"]})\n",
    "print(res)"
   ]
  },
  {
   "cell_type": "code",
   "execution_count": 27,
   "metadata": {},
   "outputs": [
    {
     "data": {
      "text/html": [
       "<div>\n",
       "<style scoped>\n",
       "    .dataframe tbody tr th:only-of-type {\n",
       "        vertical-align: middle;\n",
       "    }\n",
       "\n",
       "    .dataframe tbody tr th {\n",
       "        vertical-align: top;\n",
       "    }\n",
       "\n",
       "    .dataframe thead th {\n",
       "        text-align: right;\n",
       "    }\n",
       "</style>\n",
       "<table border=\"1\" class=\"dataframe\">\n",
       "  <thead>\n",
       "    <tr style=\"text-align: right;\">\n",
       "      <th></th>\n",
       "      <th>Salary</th>\n",
       "    </tr>\n",
       "    <tr>\n",
       "      <th>Position</th>\n",
       "      <th></th>\n",
       "    </tr>\n",
       "  </thead>\n",
       "  <tbody>\n",
       "    <tr>\n",
       "      <th>C</th>\n",
       "      <td>14260870.0</td>\n",
       "    </tr>\n",
       "    <tr>\n",
       "      <th>PF</th>\n",
       "      <td>2357760.0</td>\n",
       "    </tr>\n",
       "    <tr>\n",
       "      <th>PG</th>\n",
       "      <td>3000000.0</td>\n",
       "    </tr>\n",
       "    <tr>\n",
       "      <th>SF</th>\n",
       "      <td>5500000.0</td>\n",
       "    </tr>\n",
       "    <tr>\n",
       "      <th>SG</th>\n",
       "      <td>1015421.0</td>\n",
       "    </tr>\n",
       "  </tbody>\n",
       "</table>\n",
       "</div>"
      ],
      "text/plain": [
       "              Salary\n",
       "Position            \n",
       "C         14260870.0\n",
       "PF         2357760.0\n",
       "PG         3000000.0\n",
       "SF         5500000.0\n",
       "SG         1015421.0"
      ]
     },
     "execution_count": 27,
     "metadata": {},
     "output_type": "execute_result"
    }
   ],
   "source": [
    "# For Texas College, find min Salary for every Position\n",
    "nba_texas_college = nba[nba[\"College\"] == \"Texas\"]\n",
    "res = nba_texas_college[[\"Position\", \"Salary\"]].groupby(\"Position\").min()\n",
    "print(res)\n"
   ]
  },
  {
   "cell_type": "code",
   "execution_count": 23,
   "metadata": {},
   "outputs": [
    {
     "data": {
      "text/html": [
       "<div>\n",
       "<style scoped>\n",
       "    .dataframe tbody tr th:only-of-type {\n",
       "        vertical-align: middle;\n",
       "    }\n",
       "\n",
       "    .dataframe tbody tr th {\n",
       "        vertical-align: top;\n",
       "    }\n",
       "\n",
       "    .dataframe thead th {\n",
       "        text-align: right;\n",
       "    }\n",
       "</style>\n",
       "<table border=\"1\" class=\"dataframe\">\n",
       "  <thead>\n",
       "    <tr style=\"text-align: right;\">\n",
       "      <th></th>\n",
       "      <th>Players</th>\n",
       "    </tr>\n",
       "    <tr>\n",
       "      <th>Age</th>\n",
       "      <th></th>\n",
       "    </tr>\n",
       "  </thead>\n",
       "  <tbody>\n",
       "    <tr>\n",
       "      <th>20.0</th>\n",
       "      <td>1</td>\n",
       "    </tr>\n",
       "    <tr>\n",
       "      <th>21.0</th>\n",
       "      <td>1</td>\n",
       "    </tr>\n",
       "    <tr>\n",
       "      <th>22.0</th>\n",
       "      <td>3</td>\n",
       "    </tr>\n",
       "    <tr>\n",
       "      <th>24.0</th>\n",
       "      <td>1</td>\n",
       "    </tr>\n",
       "    <tr>\n",
       "      <th>25.0</th>\n",
       "      <td>3</td>\n",
       "    </tr>\n",
       "    <tr>\n",
       "      <th>26.0</th>\n",
       "      <td>1</td>\n",
       "    </tr>\n",
       "    <tr>\n",
       "      <th>27.0</th>\n",
       "      <td>3</td>\n",
       "    </tr>\n",
       "    <tr>\n",
       "      <th>29.0</th>\n",
       "      <td>2</td>\n",
       "    </tr>\n",
       "  </tbody>\n",
       "</table>\n",
       "</div>"
      ],
      "text/plain": [
       "      Players\n",
       "Age          \n",
       "20.0        1\n",
       "21.0        1\n",
       "22.0        3\n",
       "24.0        1\n",
       "25.0        3\n",
       "26.0        1\n",
       "27.0        3\n",
       "29.0        2"
      ]
     },
     "execution_count": 23,
     "metadata": {},
     "output_type": "execute_result"
    }
   ],
   "source": [
    "# Count number of players under every age ctegory, who play for ‘Boston Celtics’\n",
    "# Team.\n",
    "\n",
    "boston_celtics = nba[nba[\"Team\"] == \"Boston Celtics\"]\n",
    "\n",
    "players_by_age = boston_celtics[[\"Age\", \"Name\"]].groupby(\"Age\").count()\n",
    "players_by_age.columns = [\"Players\"]\n",
    "\n",
    "players_by_age\n"
   ]
  },
  {
   "cell_type": "markdown",
   "metadata": {},
   "source": [
    "## Tips Data\n"
   ]
  },
  {
   "cell_type": "code",
   "execution_count": 18,
   "metadata": {},
   "outputs": [],
   "source": [
    "# load data\n",
    "tips = pd.read_csv(\"tips.csv\")\n"
   ]
  },
  {
   "cell_type": "code",
   "execution_count": 30,
   "metadata": {},
   "outputs": [
    {
     "name": "stdout",
     "output_type": "stream",
     "text": [
      "        smoker\n",
      "gender        \n",
      "Female      33\n",
      "Male        60\n"
     ]
    }
   ],
   "source": [
    "# Find how many female, and male customers smoke\n",
    "smokers = tips[tips.smoker == \"Yes\"]\n",
    "\n",
    "smokers_gender = smokers[[\"gender\", \"smoker\"]].groupby(\"gender\").count()\n",
    "print(smokers_gender)\n"
   ]
  },
  {
   "cell_type": "code",
   "execution_count": 34,
   "metadata": {},
   "outputs": [
    {
     "name": "stdout",
     "output_type": "stream",
     "text": [
      "     total_bill    tip gender smoker  day    time  size\n",
      "19        20.65   3.35   Male     No  Sat  Dinner     3\n",
      "20        17.92   4.08   Male     No  Sat  Dinner     2\n",
      "23        39.42   7.58   Male     No  Sat  Dinner     4\n",
      "24        19.82   3.18   Male     No  Sat  Dinner     2\n",
      "25        17.81   2.34   Male     No  Sat  Dinner     4\n",
      "26        13.37   2.00   Male     No  Sat  Dinner     2\n",
      "27        12.69   2.00   Male     No  Sat  Dinner     2\n",
      "28        21.70   4.30   Male     No  Sat  Dinner     2\n",
      "30         9.55   1.45   Male     No  Sat  Dinner     2\n",
      "31        18.35   2.50   Male     No  Sat  Dinner     4\n",
      "34        17.78   3.27   Male     No  Sat  Dinner     2\n",
      "35        24.06   3.60   Male     No  Sat  Dinner     3\n",
      "36        16.31   2.00   Male     No  Sat  Dinner     3\n",
      "38        18.69   2.31   Male     No  Sat  Dinner     3\n",
      "39        31.27   5.00   Male     No  Sat  Dinner     3\n",
      "40        16.04   2.24   Male     No  Sat  Dinner     3\n",
      "56        38.01   3.00   Male    Yes  Sat  Dinner     4\n",
      "58        11.24   1.76   Male    Yes  Sat  Dinner     2\n",
      "59        48.27   6.73   Male     No  Sat  Dinner     4\n",
      "60        20.29   3.21   Male    Yes  Sat  Dinner     2\n",
      "61        13.81   2.00   Male    Yes  Sat  Dinner     2\n",
      "62        11.02   1.98   Male    Yes  Sat  Dinner     2\n",
      "63        18.29   3.76   Male    Yes  Sat  Dinner     4\n",
      "64        17.59   2.64   Male     No  Sat  Dinner     3\n",
      "65        20.08   3.15   Male     No  Sat  Dinner     3\n",
      "68        20.23   2.01   Male     No  Sat  Dinner     2\n",
      "69        15.01   2.09   Male    Yes  Sat  Dinner     2\n",
      "70        12.02   1.97   Male     No  Sat  Dinner     2\n",
      "75        10.51   1.25   Male     No  Sat  Dinner     2\n",
      "76        17.92   3.08   Male    Yes  Sat  Dinner     2\n",
      "105       15.36   1.64   Male    Yes  Sat  Dinner     2\n",
      "106       20.49   4.06   Male    Yes  Sat  Dinner     2\n",
      "107       25.21   4.29   Male    Yes  Sat  Dinner     2\n",
      "108       18.24   3.76   Male     No  Sat  Dinner     2\n",
      "110       14.00   3.00   Male     No  Sat  Dinner     2\n",
      "170       50.81  10.00   Male    Yes  Sat  Dinner     3\n",
      "171       15.81   3.16   Male    Yes  Sat  Dinner     2\n",
      "206       26.59   3.41   Male    Yes  Sat  Dinner     3\n",
      "207       38.73   3.00   Male    Yes  Sat  Dinner     4\n",
      "208       24.27   2.03   Male    Yes  Sat  Dinner     2\n",
      "210       30.06   2.00   Male    Yes  Sat  Dinner     3\n",
      "211       25.89   5.16   Male    Yes  Sat  Dinner     4\n",
      "212       48.33   9.00   Male     No  Sat  Dinner     4\n",
      "216       28.15   3.00   Male    Yes  Sat  Dinner     5\n",
      "217       11.59   1.50   Male    Yes  Sat  Dinner     2\n",
      "218        7.74   1.44   Male    Yes  Sat  Dinner     2\n",
      "227       20.45   3.00   Male     No  Sat  Dinner     4\n",
      "228       13.28   2.72   Male     No  Sat  Dinner     2\n",
      "230       24.01   2.00   Male    Yes  Sat  Dinner     4\n",
      "231       15.69   3.00   Male    Yes  Sat  Dinner     3\n",
      "232       11.61   3.39   Male     No  Sat  Dinner     2\n",
      "233       10.77   1.47   Male     No  Sat  Dinner     2\n",
      "234       15.53   3.00   Male    Yes  Sat  Dinner     2\n",
      "235       10.07   1.25   Male     No  Sat  Dinner     2\n",
      "236       12.60   1.00   Male    Yes  Sat  Dinner     2\n",
      "237       32.83   1.17   Male    Yes  Sat  Dinner     2\n",
      "239       29.03   5.92   Male     No  Sat  Dinner     3\n",
      "241       22.67   2.00   Male    Yes  Sat  Dinner     2\n",
      "242       17.82   1.75   Male     No  Sat  Dinner     2\n"
     ]
    }
   ],
   "source": [
    "# Disply the records of male customers who had dinner on Saturday\n",
    "\n",
    "res = tips[(tips.gender == \"Male\") & (tips.time == \"Dinner\") & (tips.day == \"Sat\")]\n",
    "print(res)\n"
   ]
  },
  {
   "cell_type": "code",
   "execution_count": 36,
   "metadata": {},
   "outputs": [
    {
     "name": "stdout",
     "output_type": "stream",
     "text": [
      "     total_bill   tip  gender smoker  day    time  size\n",
      "0         16.99  1.01  Female     No  Sun  Dinner     2\n",
      "1         10.34  1.66    Male     No  Sun  Dinner     3\n",
      "2         21.01  3.50    Male     No  Sun  Dinner     3\n",
      "3         23.68  3.31    Male     No  Sun  Dinner     2\n",
      "4         24.59  3.61  Female     No  Sun  Dinner     4\n",
      "..          ...   ...     ...    ...  ...     ...   ...\n",
      "215       12.90  1.10  Female    Yes  Sat  Dinner     2\n",
      "219       30.14  3.09  Female    Yes  Sat  Dinner     4\n",
      "229       22.12  2.88  Female    Yes  Sat  Dinner     2\n",
      "238       35.83  4.67  Female     No  Sat  Dinner     3\n",
      "240       27.18  2.00  Female    Yes  Sat  Dinner     2\n",
      "\n",
      "[104 rows x 7 columns]\n"
     ]
    }
   ],
   "source": [
    "# Display the records of female customers who had meal either on\n",
    "# Saturdays, or Sundays.\n",
    "\n",
    "res =tips[(tips.gender == \"Female\") & (tips.day == \"Sat\") | (tips.day == \"Sun\")]\n",
    "print(res)"
   ]
  },
  {
   "cell_type": "code",
   "execution_count": 149,
   "metadata": {},
   "outputs": [
    {
     "name": "stdout",
     "output_type": "stream",
     "text": [
      "Day:  Fri\n",
      "90     28.97\n",
      "91     22.49\n",
      "92      5.75\n",
      "93     16.32\n",
      "94     22.75\n",
      "95     40.17\n",
      "96     27.28\n",
      "97     12.03\n",
      "98     21.01\n",
      "99     12.46\n",
      "100    11.35\n",
      "101    15.38\n",
      "220    12.16\n",
      "221    13.42\n",
      "222     8.58\n",
      "223    15.98\n",
      "224    13.42\n",
      "225    16.27\n",
      "226    10.09\n",
      "Name: total_bill, dtype: float64 90     3.00\n",
      "91     3.50\n",
      "92     1.00\n",
      "93     4.30\n",
      "94     3.25\n",
      "95     4.73\n",
      "96     4.00\n",
      "97     1.50\n",
      "98     3.00\n",
      "99     1.50\n",
      "100    2.50\n",
      "101    3.00\n",
      "220    2.20\n",
      "221    3.48\n",
      "222    1.92\n",
      "223    3.00\n",
      "224    1.58\n",
      "225    2.50\n",
      "226    2.00\n",
      "Name: tip, dtype: float64\n",
      "Day:  Sat\n",
      "19     20.65\n",
      "20     17.92\n",
      "21     20.29\n",
      "22     15.77\n",
      "23     39.42\n",
      "       ...  \n",
      "238    35.83\n",
      "239    29.03\n",
      "240    27.18\n",
      "241    22.67\n",
      "242    17.82\n",
      "Name: total_bill, Length: 87, dtype: float64 19     3.35\n",
      "20     4.08\n",
      "21     2.75\n",
      "22     2.23\n",
      "23     7.58\n",
      "       ... \n",
      "238    4.67\n",
      "239    5.92\n",
      "240    2.00\n",
      "241    2.00\n",
      "242    1.75\n",
      "Name: tip, Length: 87, dtype: float64\n",
      "Day:  Sun\n",
      "0      16.99\n",
      "1      10.34\n",
      "2      21.01\n",
      "3      23.68\n",
      "4      24.59\n",
      "       ...  \n",
      "186    20.90\n",
      "187    30.46\n",
      "188    18.15\n",
      "189    23.10\n",
      "190    15.69\n",
      "Name: total_bill, Length: 76, dtype: float64 0      1.01\n",
      "1      1.66\n",
      "2      3.50\n",
      "3      3.31\n",
      "4      3.61\n",
      "       ... \n",
      "186    3.50\n",
      "187    2.00\n",
      "188    3.50\n",
      "189    4.00\n",
      "190    1.50\n",
      "Name: tip, Length: 76, dtype: float64\n",
      "Day:  Thur\n",
      "77     27.20\n",
      "78     22.76\n",
      "79     17.29\n",
      "80     19.44\n",
      "81     16.66\n",
      "       ...  \n",
      "202    13.00\n",
      "203    16.40\n",
      "204    20.53\n",
      "205    16.47\n",
      "243    18.78\n",
      "Name: total_bill, Length: 62, dtype: float64 77     4.00\n",
      "78     3.00\n",
      "79     2.71\n",
      "80     3.00\n",
      "81     3.40\n",
      "       ... \n",
      "202    2.00\n",
      "203    2.50\n",
      "204    4.00\n",
      "205    3.23\n",
      "243    3.00\n",
      "Name: tip, Length: 62, dtype: float64\n"
     ]
    }
   ],
   "source": [
    "# For each day, print only the total_bill, and tip information\n",
    "# (use for loop if necessary, to iterate through different keys/groups).\n",
    "\n",
    "for day, data in tips.groupby(\"day\"):\n",
    "    print(\"Day: \", day)\n",
    "    print(data.total_bill, data.tip)\n"
   ]
  },
  {
   "cell_type": "code",
   "execution_count": 130,
   "metadata": {},
   "outputs": [
    {
     "data": {
      "text/html": [
       "<div>\n",
       "<style scoped>\n",
       "    .dataframe tbody tr th:only-of-type {\n",
       "        vertical-align: middle;\n",
       "    }\n",
       "\n",
       "    .dataframe tbody tr th {\n",
       "        vertical-align: top;\n",
       "    }\n",
       "\n",
       "    .dataframe thead th {\n",
       "        text-align: right;\n",
       "    }\n",
       "</style>\n",
       "<table border=\"1\" class=\"dataframe\">\n",
       "  <thead>\n",
       "    <tr style=\"text-align: right;\">\n",
       "      <th></th>\n",
       "      <th>total_bill</th>\n",
       "      <th>tip</th>\n",
       "    </tr>\n",
       "    <tr>\n",
       "      <th>day</th>\n",
       "      <th></th>\n",
       "      <th></th>\n",
       "    </tr>\n",
       "  </thead>\n",
       "  <tbody>\n",
       "    <tr>\n",
       "      <th>Fri</th>\n",
       "      <td>325.88</td>\n",
       "      <td>51.96</td>\n",
       "    </tr>\n",
       "    <tr>\n",
       "      <th>Sat</th>\n",
       "      <td>1778.40</td>\n",
       "      <td>260.40</td>\n",
       "    </tr>\n",
       "    <tr>\n",
       "      <th>Sun</th>\n",
       "      <td>1627.16</td>\n",
       "      <td>247.39</td>\n",
       "    </tr>\n",
       "    <tr>\n",
       "      <th>Thur</th>\n",
       "      <td>1096.33</td>\n",
       "      <td>171.83</td>\n",
       "    </tr>\n",
       "  </tbody>\n",
       "</table>\n",
       "</div>"
      ],
      "text/plain": [
       "      total_bill     tip\n",
       "day                     \n",
       "Fri       325.88   51.96\n",
       "Sat      1778.40  260.40\n",
       "Sun      1627.16  247.39\n",
       "Thur     1096.33  171.83"
      ]
     },
     "execution_count": 130,
     "metadata": {},
     "output_type": "execute_result"
    }
   ],
   "source": [
    "tips[[\"day\", \"total_bill\", \"tip\"]].groupby(\"day\").sum()\n"
   ]
  },
  {
   "cell_type": "code",
   "execution_count": 164,
   "metadata": {},
   "outputs": [
    {
     "name": "stdout",
     "output_type": "stream",
     "text": [
      "Day:  Fri\n",
      "        smoker  non smokers\n",
      "gender                     \n",
      "Female       7            2\n",
      "Male         8            2\n",
      "\n",
      "Day:  Sat\n",
      "        smoker  non smokers\n",
      "gender                     \n",
      "Female      15           13\n",
      "Male        27           32\n",
      "\n",
      "Day:  Sun\n",
      "        smoker  non smokers\n",
      "gender                     \n",
      "Female       4           14\n",
      "Male        15           43\n",
      "\n",
      "Day:  Thur\n",
      "        smoker  non smokers\n",
      "gender                     \n",
      "Female       7           25\n",
      "Male        10           20\n",
      "\n"
     ]
    }
   ],
   "source": [
    "# For evey day, display number of males and females under smoking, nonsmoking\n",
    "# categories.\n",
    "\n",
    "for day, data in tips.groupby(\"day\"):\n",
    "    smokers = data[data.smoker == \"Yes\"]\n",
    "    non_smokers = data[data.smoker == \"No\"]\n",
    "    res = smokers[[\"gender\", \"smoker\"]].groupby(\"gender\").count()\n",
    "    res[\"non smokers\"] = (\n",
    "        non_smokers[[\"gender\", \"smoker\"]].groupby(\"gender\").count()\n",
    "    )\n",
    "    print(\"Day: \", day)\n",
    "    print(res)\n",
    "    print(\"\")\n"
   ]
  },
  {
   "cell_type": "code",
   "execution_count": 20,
   "metadata": {},
   "outputs": [
    {
     "name": "stdout",
     "output_type": "stream",
     "text": [
      "Fri Dinner\n",
      "      total_bill    tip\n",
      "min     5.750000   1.00\n",
      "max    40.170000   4.73\n",
      "mean   19.663333   2.94\n",
      "sum   235.960000  35.28\n",
      "Fri Lunch\n",
      "      total_bill        tip\n",
      "min     8.580000   1.580000\n",
      "max    16.270000   3.480000\n",
      "mean   12.845714   2.382857\n",
      "sum    89.920000  16.680000\n",
      "Sat Dinner\n",
      "       total_bill         tip\n",
      "min      3.070000    1.000000\n",
      "max     50.810000   10.000000\n",
      "mean    20.441379    2.993103\n",
      "sum   1778.400000  260.400000\n",
      "Sun Dinner\n",
      "      total_bill         tip\n",
      "min         7.25    1.010000\n",
      "max        48.17    6.500000\n",
      "mean       21.41    3.255132\n",
      "sum      1627.16  247.390000\n",
      "Thur Dinner\n",
      "      total_bill  tip\n",
      "min        18.78  3.0\n",
      "max        18.78  3.0\n",
      "mean       18.78  3.0\n",
      "sum        18.78  3.0\n",
      "Thur Lunch\n",
      "       total_bill         tip\n",
      "min      7.510000    1.250000\n",
      "max     43.110000    6.700000\n",
      "mean    17.664754    2.767705\n",
      "sum   1077.550000  168.830000\n"
     ]
    }
   ],
   "source": [
    "# for each day and time, For total_bill column – minimum, maximum, mean, and sum. find total\n",
    "\n",
    "for (day, time), data in tips.groupby([\"day\", \"time\"]):\n",
    "    res = data.agg(\n",
    "        {\n",
    "            \"total_bill\": [\"min\", \"max\", \"mean\", \"sum\"],\n",
    "            \"tip\": [\"min\", \"max\", \"mean\", \"sum\"],\n",
    "        },\n",
    "    )\n",
    "    print(day, time)\n",
    "    print(res)\n"
   ]
  },
  {
   "cell_type": "code",
   "execution_count": 37,
   "metadata": {},
   "outputs": [
    {
     "name": "stdout",
     "output_type": "stream",
     "text": [
      "        non-smoker\n",
      "gender            \n",
      "Female          54\n",
      "Male            97\n"
     ]
    }
   ],
   "source": [
    "# Find total number of non-smoker males and females.\n",
    "\n",
    "non_smokers = tips[tips.smoker == \"No\"]\n",
    "\n",
    "count_non_smokers = non_smokers[[\"gender\", \"smoker\"]].groupby(\"gender\").count()\n",
    "count_non_smokers.columns = [\"non-smoker\"]\n",
    "print(count_non_smokers)"
   ]
  },
  {
   "cell_type": "code",
   "execution_count": 39,
   "metadata": {},
   "outputs": [
    {
     "data": {
      "text/html": [
       "<div>\n",
       "<style scoped>\n",
       "    .dataframe tbody tr th:only-of-type {\n",
       "        vertical-align: middle;\n",
       "    }\n",
       "\n",
       "    .dataframe tbody tr th {\n",
       "        vertical-align: top;\n",
       "    }\n",
       "\n",
       "    .dataframe thead th {\n",
       "        text-align: right;\n",
       "    }\n",
       "</style>\n",
       "<table border=\"1\" class=\"dataframe\">\n",
       "  <thead>\n",
       "    <tr style=\"text-align: right;\">\n",
       "      <th></th>\n",
       "      <th>smoker</th>\n",
       "    </tr>\n",
       "    <tr>\n",
       "      <th>gender</th>\n",
       "      <th></th>\n",
       "    </tr>\n",
       "  </thead>\n",
       "  <tbody>\n",
       "    <tr>\n",
       "      <th>Female</th>\n",
       "      <td>4</td>\n",
       "    </tr>\n",
       "    <tr>\n",
       "      <th>Male</th>\n",
       "      <td>5</td>\n",
       "    </tr>\n",
       "  </tbody>\n",
       "</table>\n",
       "</div>"
      ],
      "text/plain": [
       "        smoker\n",
       "gender        \n",
       "Female       4\n",
       "Male         5"
      ]
     },
     "execution_count": 39,
     "metadata": {},
     "output_type": "execute_result"
    }
   ],
   "source": [
    "# Find how many male and female customers who smoke had dinner on Friday.\n",
    "\n",
    "smokers = tips[(tips.smoker == \"Yes\") & (tips.day == \"Fri\") & (tips.time == \"Dinner\")]\n",
    "\n",
    "res = smokers[[\"gender\", \"smoker\"]].groupby(\"gender\").count()\n",
    "print(res)"
   ]
  },
  {
   "cell_type": "code",
   "execution_count": 40,
   "metadata": {},
   "outputs": [
    {
     "data": {
      "text/html": [
       "<div>\n",
       "<style scoped>\n",
       "    .dataframe tbody tr th:only-of-type {\n",
       "        vertical-align: middle;\n",
       "    }\n",
       "\n",
       "    .dataframe tbody tr th {\n",
       "        vertical-align: top;\n",
       "    }\n",
       "\n",
       "    .dataframe thead th {\n",
       "        text-align: right;\n",
       "    }\n",
       "</style>\n",
       "<table border=\"1\" class=\"dataframe\">\n",
       "  <thead>\n",
       "    <tr style=\"text-align: right;\">\n",
       "      <th></th>\n",
       "      <th>tip</th>\n",
       "    </tr>\n",
       "    <tr>\n",
       "      <th>gender</th>\n",
       "      <th></th>\n",
       "    </tr>\n",
       "  </thead>\n",
       "  <tbody>\n",
       "    <tr>\n",
       "      <th>Female</th>\n",
       "      <td>2.833448</td>\n",
       "    </tr>\n",
       "    <tr>\n",
       "      <th>Male</th>\n",
       "      <td>3.089618</td>\n",
       "    </tr>\n",
       "  </tbody>\n",
       "</table>\n",
       "</div>"
      ],
      "text/plain": [
       "             tip\n",
       "gender          \n",
       "Female  2.833448\n",
       "Male    3.089618"
      ]
     },
     "execution_count": 40,
     "metadata": {},
     "output_type": "execute_result"
    }
   ],
   "source": [
    "tips[[\"gender\", \"tip\"]].groupby(\"gender\").mean()"
   ]
  },
  {
   "cell_type": "code",
   "execution_count": 38,
   "metadata": {},
   "outputs": [
    {
     "name": "stdout",
     "output_type": "stream",
     "text": [
      "18\n"
     ]
    }
   ],
   "source": [
    "# Find the count/number of tips above amount $5. \n",
    "\n",
    "count_tips_above_5 = len(tips[tips.tip > 5.0])\n",
    "print(count_tips_above_5)"
   ]
  },
  {
   "cell_type": "markdown",
   "metadata": {},
   "source": [
    "## States Data"
   ]
  },
  {
   "cell_type": "code",
   "execution_count": 42,
   "metadata": {},
   "outputs": [
    {
     "name": "stdout",
     "output_type": "stream",
     "text": [
      "  state/region     ages  year  population\n",
      "0           AL  under18  2012   1117489.0\n",
      "1           AL    total  2012   4817528.0\n",
      "2           AL  under18  2010   1130966.0\n",
      "3           AL    total  2010   4785570.0\n",
      "4           AL  under18  2011   1125763.0\n",
      "2544\n",
      "        state abbreviation\n",
      "0     Alabama           AL\n",
      "1      Alaska           AK\n",
      "2     Arizona           AZ\n",
      "3    Arkansas           AR\n",
      "4  California           CA\n",
      "51\n",
      "        state  area (sq. mi)\n",
      "0     Alabama          52423\n",
      "1      Alaska         656425\n",
      "2     Arizona         114006\n",
      "3    Arkansas          53182\n",
      "4  California         163707\n",
      "52\n"
     ]
    }
   ],
   "source": [
    "# load data\n",
    "populations = pd.read_csv(\"state-population.csv\")\n",
    "print(populations.head())\n",
    "print(len(populations))\n",
    "\n",
    "abbreviations = pd.read_csv(\"state-abbreviations.csv\")\n",
    "print(abbreviations.head())\n",
    "print(len(abbreviations))\n",
    "\n",
    "area = pd.read_csv(\"state-areas.csv\")\n",
    "print(area.head())\n",
    "print(len(area))\n"
   ]
  },
  {
   "cell_type": "code",
   "execution_count": 56,
   "metadata": {},
   "outputs": [
    {
     "name": "stdout",
     "output_type": "stream",
     "text": [
      "2544\n",
      "     state/region     ages  year   population    state abbreviation\n",
      "0              AL  under18  2012    1117489.0  Alabama           AL\n",
      "1              AL    total  2012    4817528.0  Alabama           AL\n",
      "2              AL  under18  2010    1130966.0  Alabama           AL\n",
      "3              AL    total  2010    4785570.0  Alabama           AL\n",
      "4              AL  under18  2011    1125763.0  Alabama           AL\n",
      "...           ...      ...   ...          ...      ...          ...\n",
      "2539          USA    total  2010  309326295.0      NaN          NaN\n",
      "2540          USA  under18  2011   73902222.0      NaN          NaN\n",
      "2541          USA    total  2011  311582564.0      NaN          NaN\n",
      "2542          USA  under18  2012   73708179.0      NaN          NaN\n",
      "2543          USA    total  2012  313873685.0      NaN          NaN\n",
      "\n",
      "[2544 rows x 6 columns]\n"
     ]
    }
   ],
   "source": [
    "# Perform left join between population and abbreviation data.\n",
    "left = pd.merge(populations, abbreviations, how=\"left\", left_on=\"state/region\", right_on=\"abbreviation\")\n",
    "print(len(left))\n",
    "#  What type of cardinality is involved between these datasets ?\n",
    "# Many to one\n",
    "print(left)"
   ]
  },
  {
   "cell_type": "code",
   "execution_count": 60,
   "metadata": {},
   "outputs": [
    {
     "name": "stdout",
     "output_type": "stream",
     "text": [
      "2448\n",
      "     state/region     ages  year  population    state abbreviation\n",
      "0              AL  under18  2012   1117489.0  Alabama           AL\n",
      "1              AL    total  2012   4817528.0  Alabama           AL\n",
      "2              AL  under18  2010   1130966.0  Alabama           AL\n",
      "3              AL    total  2010   4785570.0  Alabama           AL\n",
      "4              AL  under18  2011   1125763.0  Alabama           AL\n",
      "...           ...      ...   ...         ...      ...          ...\n",
      "2443           WY  under18  1993    137458.0  Wyoming           WY\n",
      "2444           WY    total  1991    459260.0  Wyoming           WY\n",
      "2445           WY  under18  1991    136720.0  Wyoming           WY\n",
      "2446           WY  under18  1990    136078.0  Wyoming           WY\n",
      "2447           WY    total  1990    453690.0  Wyoming           WY\n",
      "\n",
      "[2448 rows x 6 columns]\n"
     ]
    }
   ],
   "source": [
    "# Perform right join between population and abbreviation data.\n",
    "right = pd.merge(populations, abbreviations, how=\"right\", left_on=\"state/region\", right_on=\"abbreviation\")\n",
    "print(len(right))"
   ]
  },
  {
   "cell_type": "code",
   "execution_count": null,
   "metadata": {},
   "outputs": [],
   "source": []
  },
  {
   "cell_type": "code",
   "execution_count": null,
   "metadata": {},
   "outputs": [],
   "source": [
    "ht = pd.merge(populations, abbreviations, how=\"right\", left_on=\"state/region\", right_on=\"abbreviation\")\n",
    "print(len(right))\n",
    "print(right)"
   ]
  },
  {
   "cell_type": "markdown",
   "metadata": {},
   "source": [
    "#### What type of cardinality is involved between the above two datasets ? Also, explain why the number of rows returned in the above two queries (1,2) are different.\n",
    "\n",
    "Ans"
   ]
  },
  {
   "cell_type": "code",
   "execution_count": 62,
   "metadata": {},
   "outputs": [
    {
     "name": "stdout",
     "output_type": "stream",
     "text": [
      "        state  area (sq. mi) abbreviation\n",
      "0     Alabama          52423           AL\n",
      "1      Alaska         656425           AK\n",
      "2     Arizona         114006           AZ\n",
      "3    Arkansas          53182           AR\n",
      "4  California         163707           CA\n",
      "51\n"
     ]
    }
   ],
   "source": [
    "# Perform inner join between area and abbreviation data. \n",
    "area_abbreviation_inner = pd.merge(area, abbreviations, how=\"inner\")\n",
    "\n",
    "print(area_abbreviation_inner.head())\n",
    "print(len(area_abbreviation_inner))\n"
   ]
  },
  {
   "cell_type": "code",
   "execution_count": 63,
   "metadata": {},
   "outputs": [
    {
     "name": "stdout",
     "output_type": "stream",
     "text": [
      "        state  area (sq. mi) abbreviation\n",
      "0     Alabama          52423           AL\n",
      "1      Alaska         656425           AK\n",
      "2     Arizona         114006           AZ\n",
      "3    Arkansas          53182           AR\n",
      "4  California         163707           CA\n",
      "52\n"
     ]
    }
   ],
   "source": [
    "# Perform outer join between area and abbreviation data.\n",
    "area_abbreviation_outer = pd.merge(area, abbreviations, how=\"outer\")\n",
    "\n",
    "print(area_abbreviation_outer.head())\n",
    "print(len(area_abbreviation_outer))"
   ]
  },
  {
   "cell_type": "markdown",
   "metadata": {},
   "source": [
    "#### What type of cardinality is involved between the above two datasets ? Also, explain why the number of rows returned in the above two queries (4, 5) are different\n",
    "\n",
    "Ans"
   ]
  },
  {
   "cell_type": "markdown",
   "metadata": {},
   "source": [
    "#### What type of cardinality is involved between the above two datasets ? Also, explain why the number of rows returned in the above two queries (4, 5) are different\n",
    "\n",
    "Ans\n"
   ]
  },
  {
   "cell_type": "code",
   "execution_count": 47,
   "metadata": {},
   "outputs": [
    {
     "name": "stdout",
     "output_type": "stream",
     "text": [
      "                   state  area (sq. mi) abbreviation\n",
      "50  District of Columbia             68           DC\n"
     ]
    }
   ],
   "source": [
    "# Find the state, and it’s abbrevation having minimum area (in square miles).\n",
    "\n",
    "area_abbreviation = pd.merge(area, abbreviations, how=\"left\", on=\"state\")\n",
    "min_area = area_abbreviation[\"area (sq. mi)\"].min()\n",
    "state_min_area = area_abbreviation[area_abbreviation[\"area (sq. mi)\"] == min_area]\n",
    "print(state_min_area)"
   ]
  },
  {
   "cell_type": "code",
   "execution_count": 52,
   "metadata": {},
   "outputs": [
    {
     "name": "stdout",
     "output_type": "stream",
     "text": [
      "               population\n",
      "state/region             \n",
      "AK               901770.0\n",
      "AL              5916536.0\n",
      "AR              3634227.0\n",
      "AZ              8037353.0\n",
      "CA             46617695.0\n",
      "CO              6274815.0\n",
      "CT              4393397.0\n",
      "DC               706434.0\n",
      "DE              1105189.0\n",
      "FL             22845586.0\n",
      "GA             12204132.0\n",
      "HI              1667543.0\n",
      "IA              3778031.0\n",
      "ID              1999679.0\n",
      "IL             15961787.0\n",
      "IN              8095848.0\n",
      "KS              3586639.0\n",
      "KY              5371377.0\n",
      "LA              5663968.0\n",
      "MA              7979225.0\n",
      "MD              7139176.0\n",
      "ME              1600427.0\n",
      "MI             12209270.0\n",
      "MN              6593030.0\n",
      "MO              7420105.0\n",
      "MS              3724158.0\n",
      "MT              1213819.0\n",
      "NC             11841821.0\n",
      "ND               824523.0\n",
      "NE              2289459.0\n",
      "NH              1602316.0\n",
      "NJ             10864720.0\n",
      "NM              2583745.0\n",
      "NV              3366410.0\n",
      "NY             23716261.0\n",
      "OH             14268024.0\n",
      "OK              4690746.0\n",
      "OR              4702337.0\n",
      "PA             15495788.0\n",
      "PR              4618153.0\n",
      "RI              1275757.0\n",
      "SC              5716339.0\n",
      "SD              1019356.0\n",
      "TN              7851773.0\n",
      "TX             32124192.0\n",
      "USA           383445851.0\n",
      "UT              3647443.0\n",
      "VA              9879442.0\n",
      "VT               754394.0\n",
      "WA              8323692.0\n",
      "WI              7025154.0\n",
      "WV              2241370.0\n",
      "WY               699573.0\n",
      "771509855.0\n"
     ]
    }
   ],
   "source": [
    "# Count total number of population in 2010 across all states.\n",
    "populations_2010 = populations[populations.year == 2010]\n",
    "poplulation_state = populations_2010[[\"state/region\", \"population\"]].groupby(\"state/region\").sum()\n",
    "print(poplulation_state)\n",
    "print(poplulation_state[\"population\"].sum())"
   ]
  }
 ],
 "metadata": {
  "interpreter": {
   "hash": "7e1998ff7f8aa20ada591c520b972326324e5ea05489af9e422744c7c09f6dad"
  },
  "kernelspec": {
   "display_name": "Python 3.10.2 64-bit",
   "language": "python",
   "name": "python3"
  },
  "language_info": {
   "codemirror_mode": {
    "name": "ipython",
    "version": 3
   },
   "file_extension": ".py",
   "mimetype": "text/x-python",
   "name": "python",
   "nbconvert_exporter": "python",
   "pygments_lexer": "ipython3",
   "version": "3.10.2"
  },
  "orig_nbformat": 4
 },
 "nbformat": 4,
 "nbformat_minor": 2
}
