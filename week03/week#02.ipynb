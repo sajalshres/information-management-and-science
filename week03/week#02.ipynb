{
 "cells": [
  {
   "cell_type": "code",
   "execution_count": 2,
   "id": "5d502334-f422-4c3a-bfd9-89a40472436f",
   "metadata": {},
   "outputs": [],
   "source": [
    "import numpy as np"
   ]
  },
  {
   "cell_type": "markdown",
   "id": "faca763a-8d28-4daa-ad9b-9d15266d6bc5",
   "metadata": {
    "tags": []
   },
   "source": [
    "## 1. Create a 2D numpy array, for each of the following:\n",
    "\n",
    "1. array\n",
    "2. arange\n",
    "3. randn"
   ]
  },
  {
   "cell_type": "code",
   "execution_count": 4,
   "id": "ecd7fd4b-ccdd-4f8f-b961-d8bcaef480f5",
   "metadata": {},
   "outputs": [
    {
     "name": "stdout",
     "output_type": "stream",
     "text": [
      "[1 2 3 4]\n"
     ]
    }
   ],
   "source": [
    "# Using array\n",
    "np_arr = np.array([*range(1, 5)])\n",
    "print(np_arr)"
   ]
  },
  {
   "cell_type": "code",
   "execution_count": 16,
   "id": "1ab2f8eb-d27d-4f34-b577-1c3e32c26ba3",
   "metadata": {},
   "outputs": [
    {
     "name": "stdout",
     "output_type": "stream",
     "text": [
      "[1 2 3 4]\n"
     ]
    }
   ],
   "source": [
    "# Using arange\n",
    "np_arr = np.arange(1, 5)\n",
    "print(np_arr)"
   ]
  },
  {
   "cell_type": "code",
   "execution_count": 18,
   "id": "aba37f1d-5405-4c22-963a-7b8ed4d90d5f",
   "metadata": {},
   "outputs": [
    {
     "name": "stdout",
     "output_type": "stream",
     "text": [
      "[[-0.46587348  0.12463593 -0.96983394  0.54144899]\n",
      " [ 1.13436859  0.99851646  0.94148497  0.0647182 ]]\n"
     ]
    }
   ],
   "source": [
    "# Using randn\n",
    "np_arr = np.random.randn(2, 4)\n",
    "print(np_arr)"
   ]
  },
  {
   "cell_type": "markdown",
   "id": "74f03480-e5bd-4eb3-bee7-7a1160710ac9",
   "metadata": {},
   "source": [
    "## 2. Create a 3D numpy aray, for each of the following:\n",
    "\n",
    "1. zeros\n",
    "2. ones\n",
    "3. eye"
   ]
  },
  {
   "cell_type": "code",
   "execution_count": 55,
   "id": "af968c92-8593-4f45-9f7e-7e56c3c9b1c7",
   "metadata": {},
   "outputs": [
    {
     "data": {
      "text/plain": [
       "array([[[0, 0, 0],\n",
       "        [0, 0, 0],\n",
       "        [0, 0, 0]],\n",
       "\n",
       "       [[0, 0, 0],\n",
       "        [0, 0, 0],\n",
       "        [0, 0, 0]],\n",
       "\n",
       "       [[0, 0, 0],\n",
       "        [0, 0, 0],\n",
       "        [0, 0, 0]]])"
      ]
     },
     "execution_count": 56,
     "metadata": {},
     "output_type": "execute_result"
    }
   ],
   "source": [
    "# Using zeros\n",
    "np.zeros(shape=[3] * 3, dtype=int)"
   ]
  },
  {
   "cell_type": "code",
   "execution_count": 53,
   "id": "679950db-c99d-423d-aca3-b15c9d3baf19",
   "metadata": {},
   "outputs": [
    {
     "data": {
      "text/plain": [
       "array([[[1, 1, 1],\n",
       "        [1, 1, 1],\n",
       "        [1, 1, 1]],\n",
       "\n",
       "       [[1, 1, 1],\n",
       "        [1, 1, 1],\n",
       "        [1, 1, 1]],\n",
       "\n",
       "       [[1, 1, 1],\n",
       "        [1, 1, 1],\n",
       "        [1, 1, 1]]])"
      ]
     },
     "execution_count": 53,
     "metadata": {},
     "output_type": "execute_result"
    }
   ],
   "source": [
    "# Using ones\n",
    "np.zeros(shape=[3] * 3, dtype=int)"
   ]
  },
  {
   "cell_type": "code",
   "execution_count": 61,
   "id": "02667557-043e-4d20-8a7f-9c8a8439b21c",
   "metadata": {},
   "outputs": [
    {
     "data": {
      "text/plain": [
       "array([[1, 0, 0, 0],\n",
       "       [0, 1, 0, 0],\n",
       "       [0, 0, 1, 0],\n",
       "       [0, 0, 0, 1]])"
      ]
     },
     "execution_count": 61,
     "metadata": {},
     "output_type": "execute_result"
    }
   ],
   "source": [
    "# Using eye\n",
    "np.eye(4, dtype=int)"
   ]
  },
  {
   "cell_type": "markdown",
   "id": "aa8cd34e-a8f3-4d0e-ac2a-0bc29af0e7bb",
   "metadata": {},
   "source": [
    "## 3. Create two (3,2) numpy arrays and, using vectorization, perform element-wise addition, subtraction, division of these two arrays. "
   ]
  },
  {
   "cell_type": "code",
   "execution_count": 6,
   "id": "932167b5-7789-4415-950f-c4a4d51f3e9b",
   "metadata": {},
   "outputs": [
    {
     "name": "stdout",
     "output_type": "stream",
     "text": [
      "Addition:\n",
      " [[ 2  5]\n",
      " [ 8 11]\n",
      " [14 17]]\n",
      "\n",
      "Substraction:\n",
      " [[ 0 -1]\n",
      " [-2 -3]\n",
      " [-4 -5]]\n",
      "\n",
      "Division:\n",
      " [[1.         0.66666667]\n",
      " [0.6        0.57142857]\n",
      " [0.55555556 0.54545455]]\n"
     ]
    }
   ],
   "source": [
    "arr1 = np.array([*range(1,7)]).reshape(3,2)\n",
    "arr2 = np.array([*range(1, 12, 2)]).reshape(3,2)\n",
    "\n",
    "\n",
    "print(\"Addition:\\n\", arr1 + arr2)\n",
    "print(\"\")\n",
    "print(\"Substraction:\\n\",arr1 - arr2)\n",
    "print(\"\")\n",
    "print(\"Division:\\n\",arr1 / arr2)"
   ]
  },
  {
   "cell_type": "markdown",
   "id": "49e067a2-d4c2-4620-be2e-d76801e920ba",
   "metadata": {},
   "source": [
    "## 4. Create a (2, 6) numpy array and, using broadcasting, add, subtract, multiply each element using the scalar value of '5'."
   ]
  },
  {
   "cell_type": "code",
   "execution_count": 8,
   "id": "4de6d756-1dd9-4329-8897-e8a68c3a0dcb",
   "metadata": {},
   "outputs": [
    {
     "name": "stdout",
     "output_type": "stream",
     "text": [
      "Addition:\n",
      " [[ 6  7  8  9 10 11]\n",
      " [12 13 14 15 16 17]]\n",
      "Substract:\n",
      " [[-4 -3 -2 -1  0  1]\n",
      " [ 2  3  4  5  6  7]]\n",
      "Multiply:\n",
      " [[ 5 10 15 20 25 30]\n",
      " [35 40 45 50 55 60]]\n"
     ]
    }
   ],
   "source": [
    "arr = np.array(range(1, 13)).reshape(2, 6)\n",
    "\n",
    "print(\"Addition:\\n\", arr + 5)\n",
    "\n",
    "print(\"Substract:\\n\", arr - 5)\n",
    "\n",
    "print(\"Multiply:\\n\", arr * 5)"
   ]
  },
  {
   "cell_type": "markdown",
   "id": "03350b03-e067-43ea-86e4-84ca7eacb5d3",
   "metadata": {},
   "source": [
    "## 5. Create a 1D numpy array having string values, and create a new array by type casting these string-values to their equivalent float values. (for example : \"4.32\" → 4.32) "
   ]
  },
  {
   "cell_type": "code",
   "execution_count": 16,
   "id": "ae8ceb66-0665-457f-9107-c1bd61e96090",
   "metadata": {},
   "outputs": [
    {
     "name": "stdout",
     "output_type": "stream",
     "text": [
      "[0.14285714 0.57142857 1.28571429 2.28571429 3.57142857 5.14285714]\n"
     ]
    }
   ],
   "source": [
    "arr = np.array([ f\"{(num ** 2)/7}\" for num in range(1,7)])\n",
    "\n",
    "arrInt = arr.astype(np.float64)\n",
    "print(arrInt)"
   ]
  },
  {
   "cell_type": "markdown",
   "id": "abe4d7bd-c728-4da9-b87e-03044c27af7b",
   "metadata": {},
   "source": [
    "## 6. In the following array, replace the values '1, 2, 7, 8' with zeros, by writing one single line of expression :"
   ]
  },
  {
   "cell_type": "code",
   "execution_count": 17,
   "id": "2acf058b-e784-4b6e-b8d9-0f2fc2957e20",
   "metadata": {},
   "outputs": [
    {
     "name": "stdout",
     "output_type": "stream",
     "text": [
      "[[0 0 3]\n",
      " [4 5 6]\n",
      " [0 0 9]]\n"
     ]
    }
   ],
   "source": [
    "arr = np.array(range(1, 10)).reshape(3,3)\n",
    "\n",
    "# print(np.where(np.isin(arr, (1,2,7,8)), 0, arr))\n",
    "\n",
    "# arr[np.isin(arr, (1,2, 7, 8))] = 0\n",
    "\n",
    "arr[ (arr == 1) | (arr == 2) | (arr == 7) | (arr= ] = 0\n",
    "\n",
    "print(arr)"
   ]
  },
  {
   "cell_type": "markdown",
   "id": "a86816eb-a596-4a5e-a30e-4d78bd1680ce",
   "metadata": {},
   "source": [
    "## 7. Given the following array of (4,7), using Boolean Indexing, display only these four values ‘11, 14, 25, 28’."
   ]
  },
  {
   "cell_type": "code",
   "execution_count": 38,
   "id": "c72fdd6e-9623-4fea-a986-d1c3e49edc96",
   "metadata": {},
   "outputs": [
    {
     "name": "stdout",
     "output_type": "stream",
     "text": [
      "[[11 14]\n",
      " [25 28]]\n"
     ]
    }
   ],
   "source": [
    "arr = np.array(range(1, 29)).reshape(4,7)\n",
    "\n",
    "tmp_arr = arr[ :, [False, False, False, True, False, False, True]]\n",
    "arr = tmp_arr[ [False, True, False, True], :]\n",
    "\n",
    "print(arr)"
   ]
  },
  {
   "cell_type": "markdown",
   "id": "390c342d-f319-40d3-87cd-df112af7baaf",
   "metadata": {},
   "source": [
    "## 8. Given the following array of (4,7), using Fancy Indexing, display only these four values ‘11, 14, 25, 28’. "
   ]
  },
  {
   "cell_type": "code",
   "execution_count": 40,
   "id": "a8f6085d-2890-4cbb-a5cd-f3e6c9ea7243",
   "metadata": {},
   "outputs": [
    {
     "name": "stdout",
     "output_type": "stream",
     "text": [
      "[[11 14]\n",
      " [25 28]]\n"
     ]
    }
   ],
   "source": [
    "arr = np.array(range(1, 29)).reshape(4,7)\n",
    "\n",
    "tmp_arr = arr[(1,3), :]\n",
    "arr = tmp_arr[:, [3,6]]\n",
    "\n",
    "print(arr)"
   ]
  },
  {
   "cell_type": "markdown",
   "id": "cfd2dc23-a218-4575-b92c-bd3fabeba432",
   "metadata": {},
   "source": [
    "## 9. Create the following array, and write expressions to find the mean, sum, square, squareroot, min, and max values for the following 2D array, across both the axes (0, 1). "
   ]
  },
  {
   "cell_type": "code",
   "execution_count": 144,
   "id": "7b15ea3b-5415-48d2-8fc1-8a536aa149e6",
   "metadata": {},
   "outputs": [
    {
     "name": "stdout",
     "output_type": "stream",
     "text": [
      "[[ 10   4  11   2]\n",
      " [ 87  21  37  12]\n",
      " [ -6   3  92 111]]\n",
      "mean:  32.0\n",
      "sum:  384\n",
      "squareroot:  [[ 3.16227766  2.          3.31662479  1.41421356]\n",
      " [ 9.32737905  4.58257569  6.08276253  3.46410162]\n",
      " [ 2.44948974  1.73205081  9.59166305 10.53565375]]\n",
      "min(axis0):  [-6  3 11  2]\n",
      "min(axis1):  [ 2 12 -6]\n",
      "max(axis0):  [ 87  21  92 111]\n",
      "max(axis1):  [ 11  87 111]\n"
     ]
    }
   ],
   "source": [
    "arr = np.array([10, 4, 11, 2, 87, 21, 37, 12, -6, 3, 92, 111]).reshape(3,4)\n",
    "print(arr)\n",
    "\n",
    "print(\"mean: \", arr.mean())\n",
    "\n",
    "print(\"sum: \", arr.sum())\n",
    "\n",
    "print(\"squareroot: \", np.sqrt(abs(arr)))\n",
    "\n",
    "print(\"min(axis0): \", arr.min(axis=0))\n",
    "\n",
    "print(\"min(axis1): \", arr.min(axis=1))\n",
    "\n",
    "print(\"max(axis0): \", arr.max(axis=0))\n",
    "\n",
    "print(\"max(axis1): \", arr.max(axis=1))\n"
   ]
  },
  {
   "cell_type": "markdown",
   "id": "4e31618f-e260-4dbc-91ee-0244c9924607",
   "metadata": {},
   "source": [
    "## 10.  Create two arrays using random method, and find the maximum, minimum values between them by using vectorization’s element wise operations. "
   ]
  },
  {
   "cell_type": "code",
   "execution_count": 41,
   "id": "30eca3a6-b1bc-49b3-9f2b-efce0069fe0c",
   "metadata": {},
   "outputs": [
    {
     "name": "stdout",
     "output_type": "stream",
     "text": [
      "minimum:  [[7.46030551 9.7639684  1.29711437 1.49255412]\n",
      " [1.51438003 0.80618224 5.52787063 2.91875281]]\n",
      "max:  [[15.81077738 14.52468064 11.0459675  16.9272459 ]\n",
      " [12.24684768 15.62787255 19.97414017  9.32655722]]\n"
     ]
    }
   ],
   "source": [
    "arr1 =  abs(np.random.randn(2, 4) * 10)\n",
    "arr2 = abs(np.random.randn(2, 4) * 10)\n",
    "\n",
    "print(\"minimum: \", np.minimum(arr1, arr2))\n",
    "\n",
    "print(\"max: \", np.maximum(arr1, arr2))"
   ]
  },
  {
   "cell_type": "markdown",
   "id": "015d4d36-375f-488d-a1a6-3142acaa6985",
   "metadata": {},
   "source": [
    "## 11. Create two 1D arrays of length 10. Perform unique, intersection, union, set-difference operations on these arrays."
   ]
  },
  {
   "cell_type": "code",
   "execution_count": 47,
   "id": "22588e42-b867-4244-b01d-82bd6bcc86cf",
   "metadata": {},
   "outputs": [
    {
     "name": "stdout",
     "output_type": "stream",
     "text": [
      "Unique:  ['Apple' 'Mango' 'Orange' 'Pineapple']\n",
      "Intersection:  ['Mango' 'Pineapple']\n",
      "Union:  ['Apple' 'Banana' 'Mango' 'Orange' 'Pineapple' 'Strawberry' 'Tomato']\n",
      "Set-difference:  ['Apple' 'Orange']\n"
     ]
    }
   ],
   "source": [
    "arr1 = np.array([\"Orange\", \"Apple\", \"Pineapple\", \"Orange\", \"Mango\", \"Apple\"])\n",
    "\n",
    "arr2 = np.array([\"Tomato\", \"Mango\", \"Strawberry\", \"Banana\", \"Pineapple\"])\n",
    "\n",
    "print(\"Unique: \", np.unique(arr1))\n",
    "\n",
    "print(\"Intersection: \", np.intersect1d(arr1, arr2))\n",
    "\n",
    "print(\"Union: \", np.union1d(arr1, arr2))\n",
    "\n",
    "print(\"Set-difference: \", np.setdiff1d(arr1, arr2))\n"
   ]
  },
  {
   "cell_type": "code",
   "execution_count": null,
   "id": "5a93d56f-2178-46c8-9a54-e95693dccad4",
   "metadata": {},
   "outputs": [],
   "source": []
  }
 ],
 "metadata": {
  "kernelspec": {
   "display_name": "Python 3 (ipykernel)",
   "language": "python",
   "name": "python3"
  },
  "language_info": {
   "codemirror_mode": {
    "name": "ipython",
    "version": 3
   },
   "file_extension": ".py",
   "mimetype": "text/x-python",
   "name": "python",
   "nbconvert_exporter": "python",
   "pygments_lexer": "ipython3",
   "version": "3.10.1"
  }
 },
 "nbformat": 4,
 "nbformat_minor": 5
}
