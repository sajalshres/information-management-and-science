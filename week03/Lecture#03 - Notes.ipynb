{
  "nbformat": 4,
  "nbformat_minor": 0,
  "metadata": {
    "colab": {
      "name": "CIS660 - L#03.ipynb",
      "provenance": [],
      "collapsed_sections": []
    },
    "kernelspec": {
      "name": "python3",
      "display_name": "Python 3"
    },
    "language_info": {
      "name": "python"
    }
  },
  "cells": [
    {
      "cell_type": "code",
      "execution_count": null,
      "metadata": {
        "id": "vDA_7hR7cQ4d"
      },
      "outputs": [],
      "source": [
        "#PANDAS\n",
        "import pandas as pd     "
      ]
    },
    {
      "cell_type": "code",
      "source": [
        "# (1) dataseries - 1D (2) dataframe - 2D"
      ],
      "metadata": {
        "id": "1DioKNyZ-_2w"
      },
      "execution_count": null,
      "outputs": []
    },
    {
      "cell_type": "code",
      "source": [
        "ds = pd.Series([4, 7, -5, 3])\n",
        "\n",
        "print(type(ds))\n",
        "print(ds)               # default index (0 to N-1)\n"
      ],
      "metadata": {
        "colab": {
          "base_uri": "https://localhost:8080/"
        },
        "id": "OcmiBjGF_SqA",
        "outputId": "4b2b9c34-0683-441f-e441-02e605763152"
      },
      "execution_count": null,
      "outputs": [
        {
          "output_type": "stream",
          "name": "stdout",
          "text": [
            "<class 'pandas.core.series.Series'>\n",
            "0    4\n",
            "1    7\n",
            "2   -5\n",
            "3    3\n",
            "dtype: int64\n"
          ]
        }
      ]
    },
    {
      "cell_type": "code",
      "source": [
        "print(ds.values)\n",
        "print(ds.index)"
      ],
      "metadata": {
        "colab": {
          "base_uri": "https://localhost:8080/"
        },
        "id": "lF9Ol17V_pc3",
        "outputId": "07a9b690-afdc-41c2-c37f-f7b9451580b1"
      },
      "execution_count": null,
      "outputs": [
        {
          "output_type": "stream",
          "name": "stdout",
          "text": [
            "[ 4  7 -5  3]\n",
            "RangeIndex(start=0, stop=4, step=1)\n"
          ]
        }
      ]
    },
    {
      "cell_type": "code",
      "source": [
        "ds = pd.Series([4, 7, -5, 3], index=['b','c','a','d'])\n",
        "print(ds)"
      ],
      "metadata": {
        "colab": {
          "base_uri": "https://localhost:8080/"
        },
        "id": "6Tdrv6k__pfv",
        "outputId": "feedd974-d252-4770-f225-78c680b9f576"
      },
      "execution_count": null,
      "outputs": [
        {
          "output_type": "stream",
          "name": "stdout",
          "text": [
            "b    4\n",
            "c    7\n",
            "a   -5\n",
            "d    3\n",
            "dtype: int64\n"
          ]
        }
      ]
    },
    {
      "cell_type": "code",
      "source": [
        "print(ds['a'])  # returned back a scalar value"
      ],
      "metadata": {
        "colab": {
          "base_uri": "https://localhost:8080/"
        },
        "id": "UgMpi2PN_pjA",
        "outputId": "d23e39c6-c872-4ab2-8bcc-9017149f2c5f"
      },
      "execution_count": null,
      "outputs": [
        {
          "output_type": "stream",
          "name": "stdout",
          "text": [
            "-5\n"
          ]
        }
      ]
    },
    {
      "cell_type": "code",
      "source": [
        "ds['c'] = 10\n",
        "print(ds)"
      ],
      "metadata": {
        "colab": {
          "base_uri": "https://localhost:8080/"
        },
        "id": "SprCUbE9_pma",
        "outputId": "08d88c25-fe32-4b28-ed43-3ccc9b6f92d3"
      },
      "execution_count": null,
      "outputs": [
        {
          "output_type": "stream",
          "name": "stdout",
          "text": [
            "b     4\n",
            "c    10\n",
            "a    -5\n",
            "d     3\n",
            "dtype: int64\n"
          ]
        }
      ]
    },
    {
      "cell_type": "code",
      "source": [
        "x = ds[ ['b', 'd'] ]\n",
        "print(type(x))\n",
        "print(x)"
      ],
      "metadata": {
        "colab": {
          "base_uri": "https://localhost:8080/"
        },
        "id": "yogsX7fCAbDK",
        "outputId": "9ba34ab0-9337-4d60-f040-e054912f1281"
      },
      "execution_count": null,
      "outputs": [
        {
          "output_type": "stream",
          "name": "stdout",
          "text": [
            "<class 'pandas.core.series.Series'>\n",
            "b    4\n",
            "d    3\n",
            "dtype: int64\n"
          ]
        }
      ]
    },
    {
      "cell_type": "code",
      "source": [
        "#boolean index\n",
        "#print(ds)\n",
        "\n",
        "print(ds[[True, False, True, False]])"
      ],
      "metadata": {
        "colab": {
          "base_uri": "https://localhost:8080/"
        },
        "id": "l5S8iG_9Clky",
        "outputId": "02ef7131-9e17-485a-ced2-f7abbe0b6bf4"
      },
      "execution_count": null,
      "outputs": [
        {
          "output_type": "stream",
          "name": "stdout",
          "text": [
            "b    4\n",
            "a   -5\n",
            "dtype: int64\n"
          ]
        }
      ]
    },
    {
      "cell_type": "code",
      "source": [
        "#boolean index\n",
        "\n",
        "x = ds > 3\n",
        "print(x)"
      ],
      "metadata": {
        "colab": {
          "base_uri": "https://localhost:8080/"
        },
        "id": "2U-fQ1lLAbGX",
        "outputId": "e291dd12-526f-421c-9048-8f3789756626"
      },
      "execution_count": null,
      "outputs": [
        {
          "output_type": "stream",
          "name": "stdout",
          "text": [
            "b     True\n",
            "c     True\n",
            "a    False\n",
            "d    False\n",
            "dtype: bool\n"
          ]
        }
      ]
    },
    {
      "cell_type": "code",
      "source": [
        "x = ds[ (ds > 3) ]\n",
        "print(x)"
      ],
      "metadata": {
        "colab": {
          "base_uri": "https://localhost:8080/"
        },
        "id": "xD3D1Js6AtRw",
        "outputId": "8a1f64b2-3443-46f4-9aad-bdc9bdb4f696"
      },
      "execution_count": null,
      "outputs": [
        {
          "output_type": "stream",
          "name": "stdout",
          "text": [
            "b     4\n",
            "c    10\n",
            "dtype: int64\n"
          ]
        }
      ]
    },
    {
      "cell_type": "code",
      "source": [
        "#data series : using dictionaries\n",
        "\n",
        "dc = {'D' : 10, 'C' : -5, 'B' : 10, 'A' : 3}\n",
        "\n",
        "print(dc)\n",
        "\n",
        "ds = pd.Series(dc)\n",
        "print(ds)"
      ],
      "metadata": {
        "colab": {
          "base_uri": "https://localhost:8080/"
        },
        "id": "UEjQJmvKAtUn",
        "outputId": "8b671081-0091-4238-cefb-cec7caa178ee"
      },
      "execution_count": null,
      "outputs": [
        {
          "output_type": "stream",
          "name": "stdout",
          "text": [
            "{'D': 10, 'C': -5, 'B': 10, 'A': 3}\n",
            "D    10\n",
            "C    -5\n",
            "B    10\n",
            "A     3\n",
            "dtype: int64\n"
          ]
        }
      ]
    },
    {
      "cell_type": "code",
      "source": [
        "print(ds['C'])"
      ],
      "metadata": {
        "colab": {
          "base_uri": "https://localhost:8080/"
        },
        "id": "iFLjZSh_AtXf",
        "outputId": "d4c9e187-ebd4-4a6b-d531-c452f26b599a"
      },
      "execution_count": null,
      "outputs": [
        {
          "output_type": "stream",
          "name": "stdout",
          "text": [
            "-5\n"
          ]
        }
      ]
    },
    {
      "cell_type": "code",
      "source": [
        "#numeric-indexing"
      ],
      "metadata": {
        "id": "bYvW69xtBt54"
      },
      "execution_count": null,
      "outputs": []
    },
    {
      "cell_type": "code",
      "source": [
        "print(ds[1])     #returns scalar value"
      ],
      "metadata": {
        "colab": {
          "base_uri": "https://localhost:8080/"
        },
        "id": "1Piw6D2sBuAc",
        "outputId": "7eff7659-5a9a-49a9-9b36-aff48ffc1d3e"
      },
      "execution_count": null,
      "outputs": [
        {
          "output_type": "stream",
          "name": "stdout",
          "text": [
            "-5\n"
          ]
        }
      ]
    },
    {
      "cell_type": "code",
      "source": [
        "print(ds[1:3])   #returns data-series"
      ],
      "metadata": {
        "colab": {
          "base_uri": "https://localhost:8080/"
        },
        "id": "cdjEanwaCWRy",
        "outputId": "bd1a6252-8ed0-42a5-b875-b5b1e1cdb056"
      },
      "execution_count": null,
      "outputs": [
        {
          "output_type": "stream",
          "name": "stdout",
          "text": [
            "C    -5\n",
            "B    10\n",
            "dtype: int64\n"
          ]
        }
      ]
    },
    {
      "cell_type": "code",
      "source": [
        "# NaN = Not a Number\n",
        "import numpy as np\n"
      ],
      "metadata": {
        "id": "fijKgI3PCy7B"
      },
      "execution_count": null,
      "outputs": []
    },
    {
      "cell_type": "code",
      "source": [
        "ds = pd.Series([4, 3, np.nan, 10])\n",
        "print(ds)"
      ],
      "metadata": {
        "colab": {
          "base_uri": "https://localhost:8080/"
        },
        "id": "LzKxG0Y6Cy-Y",
        "outputId": "f68d8a33-4a3f-49d2-c852-cda91639fdf4"
      },
      "execution_count": null,
      "outputs": [
        {
          "output_type": "stream",
          "name": "stdout",
          "text": [
            "0     4.0\n",
            "1     3.0\n",
            "2     NaN\n",
            "3    10.0\n",
            "dtype: float64\n"
          ]
        }
      ]
    },
    {
      "cell_type": "code",
      "source": [
        "ds.isnull()"
      ],
      "metadata": {
        "colab": {
          "base_uri": "https://localhost:8080/"
        },
        "id": "6-V5CM--CzBg",
        "outputId": "eecca39c-9fb1-4ccc-b4cc-12f1633d8273"
      },
      "execution_count": null,
      "outputs": [
        {
          "output_type": "execute_result",
          "data": {
            "text/plain": [
              "0    False\n",
              "1    False\n",
              "2     True\n",
              "3    False\n",
              "dtype: bool"
            ]
          },
          "metadata": {},
          "execution_count": 28
        }
      ]
    },
    {
      "cell_type": "code",
      "source": [
        "ds.notnull()"
      ],
      "metadata": {
        "colab": {
          "base_uri": "https://localhost:8080/"
        },
        "id": "5S0UhWrECzEy",
        "outputId": "865abdca-cdc3-474d-bfda-026347b7a999"
      },
      "execution_count": null,
      "outputs": [
        {
          "output_type": "execute_result",
          "data": {
            "text/plain": [
              "0     True\n",
              "1     True\n",
              "2    False\n",
              "3     True\n",
              "dtype: bool"
            ]
          },
          "metadata": {},
          "execution_count": 29
        }
      ]
    },
    {
      "cell_type": "code",
      "source": [
        "#arithmetic operations between data-series\n",
        "\n",
        "ds1 = pd.Series([10, 20, 30], index=['b', 'a', 'd'])\n",
        "\n",
        "ds2 = pd.Series( {'a' : 100, 'b' : 50, 'd' : 30} )\n",
        "\n",
        "print(ds1)\n",
        "print(ds2)\n",
        "\n",
        "ds3 = ds1 + ds2 \n",
        "\n",
        "print('\\n')\n",
        "print(ds3)"
      ],
      "metadata": {
        "colab": {
          "base_uri": "https://localhost:8080/"
        },
        "id": "ahViRpkLDQ5r",
        "outputId": "86dd09ae-a043-4212-cfc8-f2ef3c6c9bad"
      },
      "execution_count": null,
      "outputs": [
        {
          "output_type": "stream",
          "name": "stdout",
          "text": [
            "b    10\n",
            "a    20\n",
            "d    30\n",
            "dtype: int64\n",
            "a    100\n",
            "b     50\n",
            "d     30\n",
            "dtype: int64\n",
            "\n",
            "\n",
            "a    120\n",
            "b     60\n",
            "d     60\n",
            "dtype: int64\n"
          ]
        }
      ]
    },
    {
      "cell_type": "code",
      "source": [
        "#data-alignments\n",
        "\n",
        "ds1 = pd.Series([10, 20, 30], index=['b', 'a', 'c'])\n",
        "\n",
        "ds2 = pd.Series( {'a' : 100, 'b' : 50, 'd' : 30} )\n",
        "\n",
        "ds3 = ds1 + ds2 \n",
        "print(ds3)"
      ],
      "metadata": {
        "colab": {
          "base_uri": "https://localhost:8080/"
        },
        "id": "VbEbEbtoDQ9d",
        "outputId": "ad709f75-a303-40fe-a90c-d5778a5c1bb8"
      },
      "execution_count": null,
      "outputs": [
        {
          "output_type": "stream",
          "name": "stdout",
          "text": [
            "a    120.0\n",
            "b     60.0\n",
            "c      NaN\n",
            "d      NaN\n",
            "dtype: float64\n"
          ]
        }
      ]
    },
    {
      "cell_type": "code",
      "source": [
        "print(ds1['a'])  #label -> label of row"
      ],
      "metadata": {
        "colab": {
          "base_uri": "https://localhost:8080/"
        },
        "id": "URBrAJGVDRAy",
        "outputId": "c54c3c67-2fec-4c07-eeea-b7b79cb4dabe"
      },
      "execution_count": null,
      "outputs": [
        {
          "output_type": "stream",
          "name": "stdout",
          "text": [
            "20\n"
          ]
        }
      ]
    },
    {
      "cell_type": "code",
      "source": [
        "print(ds1.a)"
      ],
      "metadata": {
        "colab": {
          "base_uri": "https://localhost:8080/"
        },
        "id": "N7dvWR_5EXYb",
        "outputId": "ab381596-771a-4c42-ca1f-574d99a2ba6a"
      },
      "execution_count": null,
      "outputs": [
        {
          "output_type": "stream",
          "name": "stdout",
          "text": [
            "20\n"
          ]
        }
      ]
    },
    {
      "cell_type": "code",
      "source": [
        "x = ds1.get('a')\n",
        "print(x)"
      ],
      "metadata": {
        "colab": {
          "base_uri": "https://localhost:8080/"
        },
        "id": "UQ-3XNCzFLLj",
        "outputId": "fc9db3a1-9679-4c79-89f1-748879cae320"
      },
      "execution_count": null,
      "outputs": [
        {
          "output_type": "stream",
          "name": "stdout",
          "text": [
            "20\n"
          ]
        }
      ]
    },
    {
      "cell_type": "code",
      "source": [
        "print(ds1)"
      ],
      "metadata": {
        "colab": {
          "base_uri": "https://localhost:8080/"
        },
        "id": "UrIMjIvbEZyq",
        "outputId": "5af6aa2b-0ebe-482e-8203-7fdaf4c5fdfc"
      },
      "execution_count": null,
      "outputs": [
        {
          "output_type": "stream",
          "name": "stdout",
          "text": [
            "b    10\n",
            "a    20\n",
            "c    30\n",
            "dtype: int64\n"
          ]
        }
      ]
    },
    {
      "cell_type": "code",
      "source": [
        "ds1['z'] = 99\n",
        "print(ds1)\n",
        "\n",
        "#ds1.z = 99 //error"
      ],
      "metadata": {
        "colab": {
          "base_uri": "https://localhost:8080/"
        },
        "id": "3i9KopYgEcMU",
        "outputId": "171e584a-409a-4109-e26c-81eba9d9641e"
      },
      "execution_count": null,
      "outputs": [
        {
          "output_type": "stream",
          "name": "stdout",
          "text": [
            "b    10\n",
            "a    20\n",
            "c    30\n",
            "z    99\n",
            "dtype: int64\n"
          ]
        }
      ]
    },
    {
      "cell_type": "code",
      "source": [
        "del ds1['z']\n",
        "print(ds1)\n",
        "\n",
        "#del ds1.z //error"
      ],
      "metadata": {
        "colab": {
          "base_uri": "https://localhost:8080/"
        },
        "id": "Qpoil-yyEcPd",
        "outputId": "1b462356-aa27-4829-be42-5234ed79540d"
      },
      "execution_count": null,
      "outputs": [
        {
          "output_type": "stream",
          "name": "stdout",
          "text": [
            "b    10\n",
            "a    20\n",
            "c    30\n",
            "dtype: int64\n"
          ]
        }
      ]
    },
    {
      "cell_type": "code",
      "source": [
        "x = np.arange(1, 8)\n",
        "print(x)\n",
        "\n",
        "ds = pd.Series(data = x)\n",
        "print(ds)"
      ],
      "metadata": {
        "colab": {
          "base_uri": "https://localhost:8080/"
        },
        "id": "ljK8uh6GFJRM",
        "outputId": "d3c9d8f7-3eb5-42d5-acf6-2b1bf697c870"
      },
      "execution_count": null,
      "outputs": [
        {
          "output_type": "stream",
          "name": "stdout",
          "text": [
            "[1 2 3 4 5 6 7]\n",
            "0    1\n",
            "1    2\n",
            "2    3\n",
            "3    4\n",
            "4    5\n",
            "5    6\n",
            "6    7\n",
            "dtype: int64\n"
          ]
        }
      ]
    },
    {
      "cell_type": "code",
      "source": [
        "x = np.arange(1, 8)\n",
        "print(x)\n",
        "\n",
        "labels = ['b','l','g','e','a','a','n']\n",
        "\n",
        "ds = pd.Series(data = x , index = labels)\n",
        "print(ds)"
      ],
      "metadata": {
        "colab": {
          "base_uri": "https://localhost:8080/"
        },
        "id": "DhUOZD03FJVK",
        "outputId": "80613fff-2d57-4b74-883f-499e7e7484d9"
      },
      "execution_count": null,
      "outputs": [
        {
          "output_type": "stream",
          "name": "stdout",
          "text": [
            "[1 2 3 4 5 6 7]\n",
            "b    1\n",
            "l    2\n",
            "g    3\n",
            "e    4\n",
            "a    5\n",
            "a    6\n",
            "n    7\n",
            "dtype: int64\n"
          ]
        }
      ]
    },
    {
      "cell_type": "code",
      "source": [
        "print(ds)"
      ],
      "metadata": {
        "colab": {
          "base_uri": "https://localhost:8080/"
        },
        "id": "L8NgY8y-YskE",
        "outputId": "f9096779-ed45-4853-b790-6405a8d6f852"
      },
      "execution_count": null,
      "outputs": [
        {
          "output_type": "stream",
          "name": "stdout",
          "text": [
            "b    1\n",
            "l    2\n",
            "g    3\n",
            "e    4\n",
            "a    5\n",
            "a    6\n",
            "n    7\n",
            "dtype: int64\n"
          ]
        }
      ]
    },
    {
      "cell_type": "code",
      "source": [
        "x = np.arange(1, 8)\n",
        "print(x)\n",
        "\n",
        "labels = ['b','l','g','e','a','a','n']\n",
        "\n",
        "ds = pd.Series(data = x , index = labels)\n",
        "ds.name = 'My_DS'\n",
        "ds.index.name = 'my_index'\n",
        "\n",
        "print(ds)"
      ],
      "metadata": {
        "colab": {
          "base_uri": "https://localhost:8080/"
        },
        "id": "RKT5bpaPY-Gz",
        "outputId": "d0e2e67f-479e-442c-b9b5-f406178b5b1c"
      },
      "execution_count": null,
      "outputs": [
        {
          "output_type": "stream",
          "name": "stdout",
          "text": [
            "[1 2 3 4 5 6 7]\n",
            "my_index\n",
            "b    1\n",
            "l    2\n",
            "g    3\n",
            "e    4\n",
            "a    5\n",
            "a    6\n",
            "n    7\n",
            "Name: My_DS, dtype: int64\n"
          ]
        }
      ]
    },
    {
      "cell_type": "code",
      "source": [
        "print(ds.name)        #name of data-series\n",
        "print(ds.index.name)  #name of the index of the data-series\n"
      ],
      "metadata": {
        "colab": {
          "base_uri": "https://localhost:8080/"
        },
        "id": "JlebbrU-YwEl",
        "outputId": "d0b77c1b-7a4a-4b32-aae1-1af6ab66c70a"
      },
      "execution_count": null,
      "outputs": [
        {
          "output_type": "stream",
          "name": "stdout",
          "text": [
            "My_DS\n",
            "my_index\n"
          ]
        }
      ]
    },
    {
      "cell_type": "code",
      "source": [
        "print(ds)"
      ],
      "metadata": {
        "colab": {
          "base_uri": "https://localhost:8080/"
        },
        "id": "n009KUw3iWco",
        "outputId": "a382154b-ba02-41b3-f6e2-f5629cf5b7fe"
      },
      "execution_count": null,
      "outputs": [
        {
          "output_type": "stream",
          "name": "stdout",
          "text": [
            "my_index\n",
            "b    1\n",
            "l    2\n",
            "g    3\n",
            "e    4\n",
            "a    5\n",
            "a    6\n",
            "n    7\n",
            "Name: My_DS, dtype: int64\n"
          ]
        }
      ]
    },
    {
      "cell_type": "code",
      "source": [
        ""
      ],
      "metadata": {
        "id": "mXvw9FLmYNJO"
      },
      "execution_count": null,
      "outputs": []
    },
    {
      "cell_type": "code",
      "source": [
        "#Datafarames : collection of one or more dataseries\n",
        "\n",
        "ds1 = pd.Series([10, 30, 40, 21, 30])\n",
        "\n",
        "ds2 = pd.Series(['One', 'Two', 'Three', 'Four', 'Five'])\n",
        "\n",
        "df = pd.DataFrame( {'Col1' : ds1 , 'Col2' : ds2} )\n",
        "\n",
        "df.index.name = 'my_index_2'\n",
        "df.columns.name = 'my_columns'\n",
        "\n",
        "print(df)\n",
        "print(df.columns.name)\n"
      ],
      "metadata": {
        "colab": {
          "base_uri": "https://localhost:8080/"
        },
        "id": "5fevSjSSYDOD",
        "outputId": "25eb14ab-f4e4-43d7-f8e9-a73d66bf2fbf"
      },
      "execution_count": null,
      "outputs": [
        {
          "output_type": "stream",
          "name": "stdout",
          "text": [
            "my_columns  Col1   Col2\n",
            "my_index_2             \n",
            "0             10    One\n",
            "1             30    Two\n",
            "2             40  Three\n",
            "3             21   Four\n",
            "4             30   Five\n",
            "my_columns\n"
          ]
        }
      ]
    },
    {
      "cell_type": "code",
      "source": [
        "print(df.head(3))"
      ],
      "metadata": {
        "colab": {
          "base_uri": "https://localhost:8080/"
        },
        "id": "EbKDDOzmYDRb",
        "outputId": "9479e8aa-48a8-4100-fcde-59f44ec3456b"
      },
      "execution_count": null,
      "outputs": [
        {
          "output_type": "stream",
          "name": "stdout",
          "text": [
            "my_columns  Col1   Col2\n",
            "my_index_2             \n",
            "0             10    One\n",
            "1             30    Two\n",
            "2             40  Three\n"
          ]
        }
      ]
    },
    {
      "cell_type": "code",
      "source": [
        "print(df.tail(2))"
      ],
      "metadata": {
        "colab": {
          "base_uri": "https://localhost:8080/"
        },
        "id": "6f_hI2TiYDUP",
        "outputId": "b06391c2-d35b-40d3-a259-948fed55c9e3"
      },
      "execution_count": null,
      "outputs": [
        {
          "output_type": "stream",
          "name": "stdout",
          "text": [
            "my_columns  Col1  Col2\n",
            "my_index_2            \n",
            "3             21  Four\n",
            "4             30  Five\n"
          ]
        }
      ]
    },
    {
      "cell_type": "code",
      "source": [
        "\n",
        "data = { 'State' : ['Ohio', 'Ohio', 'Ohio', 'Nebraska',  'Nebraska', 'Nebraska'],\n",
        "         'Year' : [2000, 2001, 2002, 2001, 2002, 2003],\n",
        "         'Population' : [1.5, 1.7, 3.6, 2.4, 2.9, 3.2] }\n",
        "\n",
        "df = pd.DataFrame(data)      \n",
        "\n",
        "print(df)"
      ],
      "metadata": {
        "colab": {
          "base_uri": "https://localhost:8080/"
        },
        "id": "kzAQ2OndYDXc",
        "outputId": "ee6e2129-a411-4735-f1af-fdf1c414908f"
      },
      "execution_count": null,
      "outputs": [
        {
          "output_type": "stream",
          "name": "stdout",
          "text": [
            "      State  Year  Population\n",
            "0      Ohio  2000         1.5\n",
            "1      Ohio  2001         1.7\n",
            "2      Ohio  2002         3.6\n",
            "3  Nebraska  2001         2.4\n",
            "4  Nebraska  2002         2.9\n",
            "5  Nebraska  2003         3.2\n"
          ]
        }
      ]
    },
    {
      "cell_type": "code",
      "source": [
        "df = pd.DataFrame(np.arange(1, 13).reshape(3,4), columns=['One', 'Two', 'Three', 'Four'], index=['A', 'B','C'])\n",
        "\n",
        "print(df)"
      ],
      "metadata": {
        "colab": {
          "base_uri": "https://localhost:8080/"
        },
        "id": "OeYyoBNObI7U",
        "outputId": "80ad18b1-a001-4a1e-e2af-6083cc0899d4"
      },
      "execution_count": null,
      "outputs": [
        {
          "output_type": "stream",
          "name": "stdout",
          "text": [
            "   One  Two  Three  Four\n",
            "A    1    2      3     4\n",
            "B    5    6      7     8\n",
            "C    9   10     11    12\n"
          ]
        }
      ]
    },
    {
      "cell_type": "code",
      "source": [
        "#print(df['A'])  //error"
      ],
      "metadata": {
        "id": "a0GZa0hsbI-V"
      },
      "execution_count": null,
      "outputs": []
    },
    {
      "cell_type": "code",
      "source": [
        "print(df['One']) # label -> label of the column "
      ],
      "metadata": {
        "colab": {
          "base_uri": "https://localhost:8080/"
        },
        "id": "0Zk8RnxHcL71",
        "outputId": "1402ab50-226e-415b-9671-bf7f048f4c49"
      },
      "execution_count": null,
      "outputs": [
        {
          "output_type": "stream",
          "name": "stdout",
          "text": [
            "A    1\n",
            "B    5\n",
            "C    9\n",
            "Name: One, dtype: int64\n"
          ]
        }
      ]
    },
    {
      "cell_type": "code",
      "source": [
        "x = df['One']\n",
        "print(type(x))"
      ],
      "metadata": {
        "colab": {
          "base_uri": "https://localhost:8080/"
        },
        "id": "WbG1rRnocUR0",
        "outputId": "eb5b1627-1a2c-4d8d-d260-5a45f6312734"
      },
      "execution_count": null,
      "outputs": [
        {
          "output_type": "stream",
          "name": "stdout",
          "text": [
            "<class 'pandas.core.series.Series'>\n"
          ]
        }
      ]
    },
    {
      "cell_type": "code",
      "source": [
        "x = df[ ['One'] ]\n",
        "print(type(x))"
      ],
      "metadata": {
        "colab": {
          "base_uri": "https://localhost:8080/"
        },
        "id": "We9Re59GcUVM",
        "outputId": "3cfcad75-3a9d-4648-b2d2-49c7d5d63d2e"
      },
      "execution_count": null,
      "outputs": [
        {
          "output_type": "stream",
          "name": "stdout",
          "text": [
            "<class 'pandas.core.frame.DataFrame'>\n"
          ]
        }
      ]
    },
    {
      "cell_type": "code",
      "source": [
        "x = df[ ['One' , 'Two'] ]\n",
        "print(type(x))\n",
        "print(x)"
      ],
      "metadata": {
        "colab": {
          "base_uri": "https://localhost:8080/"
        },
        "id": "ZZucJReWcUYr",
        "outputId": "7606a6e7-cf7b-4a81-b940-d4f96c054972"
      },
      "execution_count": null,
      "outputs": [
        {
          "output_type": "stream",
          "name": "stdout",
          "text": [
            "<class 'pandas.core.frame.DataFrame'>\n",
            "   One  Two\n",
            "A    1    2\n",
            "B    5    6\n",
            "C    9   10\n"
          ]
        }
      ]
    },
    {
      "cell_type": "code",
      "source": [
        "print(df.One)"
      ],
      "metadata": {
        "colab": {
          "base_uri": "https://localhost:8080/"
        },
        "id": "DIl21YFBco-2",
        "outputId": "a9375e60-4a10-43ba-a951-223adfbbee23"
      },
      "execution_count": null,
      "outputs": [
        {
          "output_type": "stream",
          "name": "stdout",
          "text": [
            "A    1\n",
            "B    5\n",
            "C    9\n",
            "Name: One, dtype: int64\n"
          ]
        }
      ]
    },
    {
      "cell_type": "code",
      "source": [
        "#print(df.A)  //error"
      ],
      "metadata": {
        "id": "REJe31Edcr09"
      },
      "execution_count": null,
      "outputs": []
    },
    {
      "cell_type": "code",
      "source": [
        "print(df)"
      ],
      "metadata": {
        "colab": {
          "base_uri": "https://localhost:8080/"
        },
        "id": "ODg9AwUqcwHN",
        "outputId": "9a7293e1-e1f5-485c-f152-bccb1afbc106"
      },
      "execution_count": null,
      "outputs": [
        {
          "output_type": "stream",
          "name": "stdout",
          "text": [
            "   One  Two  Three  Four\n",
            "A    1    2      3     4\n",
            "B    5    6      7     8\n",
            "C    9   10     11    12\n"
          ]
        }
      ]
    },
    {
      "cell_type": "code",
      "source": [
        "df['Five'] = [10, 20, 30]\n",
        "print(df)"
      ],
      "metadata": {
        "colab": {
          "base_uri": "https://localhost:8080/"
        },
        "id": "AKVWwejLcxYG",
        "outputId": "f41592e0-6f5b-4534-f0dc-89b2899f5562"
      },
      "execution_count": null,
      "outputs": [
        {
          "output_type": "stream",
          "name": "stdout",
          "text": [
            "   One  Two  Three  Four  Five\n",
            "A    1    2      3     4    10\n",
            "B    5    6      7     8    20\n",
            "C    9   10     11    12    30\n"
          ]
        }
      ]
    },
    {
      "cell_type": "code",
      "source": [
        "df['Six'] = 1\n",
        "print(df)"
      ],
      "metadata": {
        "colab": {
          "base_uri": "https://localhost:8080/"
        },
        "id": "QRtEVaQjc2xV",
        "outputId": "e363f93d-b474-440c-ccf0-601da8ae77db"
      },
      "execution_count": null,
      "outputs": [
        {
          "output_type": "stream",
          "name": "stdout",
          "text": [
            "   One  Two  Three  Four  Five  Six\n",
            "A    1    2      3     4    10    1\n",
            "B    5    6      7     8    20    1\n",
            "C    9   10     11    12    30    1\n"
          ]
        }
      ]
    },
    {
      "cell_type": "code",
      "source": [
        "del df['Six']\n",
        "print(df)"
      ],
      "metadata": {
        "colab": {
          "base_uri": "https://localhost:8080/"
        },
        "id": "OISiZzbEc6KW",
        "outputId": "e841151a-78ed-4bad-be61-3d38e3d7059a"
      },
      "execution_count": null,
      "outputs": [
        {
          "output_type": "stream",
          "name": "stdout",
          "text": [
            "   One  Two  Three  Four  Five\n",
            "A    1    2      3     4    10\n",
            "B    5    6      7     8    20\n",
            "C    9   10     11    12    30\n"
          ]
        }
      ]
    },
    {
      "cell_type": "code",
      "source": [
        "#df['New_col'] = [1,2]\n",
        "#print(df)"
      ],
      "metadata": {
        "id": "P1RtE1lKc9e-"
      },
      "execution_count": null,
      "outputs": []
    },
    {
      "cell_type": "code",
      "source": [
        "ds = pd.Series([1.5, 2.7], index=['A', 'C'])\n",
        "#print(ds)\n",
        "df['New_col'] = ds\n",
        "print(df)"
      ],
      "metadata": {
        "colab": {
          "base_uri": "https://localhost:8080/"
        },
        "id": "0hJd2kyRc9h1",
        "outputId": "4c360a4b-839c-4d0a-c2a5-6fd077b641b6"
      },
      "execution_count": null,
      "outputs": [
        {
          "output_type": "stream",
          "name": "stdout",
          "text": [
            "   One  Two  Three  Four  Five  New_col\n",
            "A    1    2      3     4    10      1.5\n",
            "B    5    6      7     8    20      NaN\n",
            "C    9   10     11    12    30      2.7\n"
          ]
        }
      ]
    },
    {
      "cell_type": "code",
      "source": [
        "data = { 'State' : ['Ohio', 'Ohio', 'Ohio', 'Nebraska',  'Nebraska', 'Nebraska'],\n",
        "         'Year' : [2000, 2001, 2002, 2001, 2002, 2003],\n",
        "         'Population' : [1.5, 1.7, 3.6, 2.4, 2.9, 3.2] }\n",
        "\n",
        "df = pd.DataFrame(data)      \n",
        "\n",
        "print(df)"
      ],
      "metadata": {
        "colab": {
          "base_uri": "https://localhost:8080/"
        },
        "id": "XypcWjYvc9k2",
        "outputId": "c2aad3d6-838a-43fb-8d68-8e7f08e43e6b"
      },
      "execution_count": null,
      "outputs": [
        {
          "output_type": "stream",
          "name": "stdout",
          "text": [
            "      State  Year  Population\n",
            "0      Ohio  2000         1.5\n",
            "1      Ohio  2001         1.7\n",
            "2      Ohio  2002         3.6\n",
            "3  Nebraska  2001         2.4\n",
            "4  Nebraska  2002         2.9\n",
            "5  Nebraska  2003         3.2\n"
          ]
        }
      ]
    },
    {
      "cell_type": "code",
      "source": [
        "x = (df.State == 'Ohio')\n",
        "print(type(x))\n",
        "print(x)"
      ],
      "metadata": {
        "colab": {
          "base_uri": "https://localhost:8080/"
        },
        "id": "z2jVRApwc9n1",
        "outputId": "aec2b03c-b75a-49b0-a9cd-03b08643bb81"
      },
      "execution_count": null,
      "outputs": [
        {
          "output_type": "stream",
          "name": "stdout",
          "text": [
            "<class 'pandas.core.series.Series'>\n",
            "0     True\n",
            "1     True\n",
            "2     True\n",
            "3    False\n",
            "4    False\n",
            "5    False\n",
            "Name: State, dtype: bool\n"
          ]
        }
      ]
    },
    {
      "cell_type": "code",
      "source": [
        "df['Ohio_Present'] = (df.State == 'Ohio')\n",
        "print(df)"
      ],
      "metadata": {
        "colab": {
          "base_uri": "https://localhost:8080/"
        },
        "id": "9rvqyexac9rY",
        "outputId": "6b764d12-8d9c-42d8-9ffe-2f771964c04b"
      },
      "execution_count": null,
      "outputs": [
        {
          "output_type": "stream",
          "name": "stdout",
          "text": [
            "      State  Year  Population  Ohio_Present\n",
            "0      Ohio  2000         1.5          True\n",
            "1      Ohio  2001         1.7          True\n",
            "2      Ohio  2002         3.6          True\n",
            "3  Nebraska  2001         2.4         False\n",
            "4  Nebraska  2002         2.9         False\n",
            "5  Nebraska  2003         3.2         False\n"
          ]
        }
      ]
    },
    {
      "cell_type": "code",
      "source": [
        "del df['Ohio_Present']"
      ],
      "metadata": {
        "id": "LX7j9Ac2ebl2"
      },
      "execution_count": null,
      "outputs": []
    },
    {
      "cell_type": "code",
      "source": [
        "print(df)"
      ],
      "metadata": {
        "colab": {
          "base_uri": "https://localhost:8080/"
        },
        "id": "ElcTKyfyeeP1",
        "outputId": "9e61c774-3630-45fe-ffc0-c5cc93d3d1d9"
      },
      "execution_count": null,
      "outputs": [
        {
          "output_type": "stream",
          "name": "stdout",
          "text": [
            "      State  Year  Population\n",
            "0      Ohio  2000         1.5\n",
            "1      Ohio  2001         1.7\n",
            "2      Ohio  2002         3.6\n",
            "3  Nebraska  2001         2.4\n",
            "4  Nebraska  2002         2.9\n",
            "5  Nebraska  2003         3.2\n"
          ]
        }
      ]
    },
    {
      "cell_type": "code",
      "source": [
        "#view (alias) : in-place modification  [vs] copy"
      ],
      "metadata": {
        "id": "x9ptYj7mewkn"
      },
      "execution_count": null,
      "outputs": []
    },
    {
      "cell_type": "code",
      "source": [
        "df = pd.DataFrame(np.arange(1, 13).reshape(3,4), columns=['One', 'Two', 'Three', 'Four'], index=['A', 'B','C'])\n",
        "\n",
        "print(df)"
      ],
      "metadata": {
        "colab": {
          "base_uri": "https://localhost:8080/"
        },
        "id": "LkIy5AySewne",
        "outputId": "4ec43dd9-a525-44d3-a870-35543abc17e8"
      },
      "execution_count": null,
      "outputs": [
        {
          "output_type": "stream",
          "name": "stdout",
          "text": [
            "   One  Two  Three  Four\n",
            "A    1    2      3     4\n",
            "B    5    6      7     8\n",
            "C    9   10     11    12\n"
          ]
        }
      ]
    },
    {
      "cell_type": "code",
      "source": [
        "x = df['Three']   #creates a view/alias name; no new object is created; in-place modification\n",
        "print(x)"
      ],
      "metadata": {
        "colab": {
          "base_uri": "https://localhost:8080/"
        },
        "id": "I74E9KJxe3vW",
        "outputId": "8c04f041-10cf-4642-dfb5-b76e3438cd80"
      },
      "execution_count": null,
      "outputs": [
        {
          "output_type": "stream",
          "name": "stdout",
          "text": [
            "A     3\n",
            "B     7\n",
            "C    11\n",
            "Name: Three, dtype: int64\n"
          ]
        }
      ]
    },
    {
      "cell_type": "code",
      "source": [
        "x['B'] = 100\n",
        "print(x)"
      ],
      "metadata": {
        "colab": {
          "base_uri": "https://localhost:8080/"
        },
        "id": "fHmaUTmbe3yG",
        "outputId": "bdfd7fdf-2de4-422c-e55a-dad9685159e1"
      },
      "execution_count": null,
      "outputs": [
        {
          "output_type": "stream",
          "name": "stdout",
          "text": [
            "A      3\n",
            "B    100\n",
            "C     11\n",
            "Name: Three, dtype: int64\n"
          ]
        }
      ]
    },
    {
      "cell_type": "code",
      "source": [
        "print(df)"
      ],
      "metadata": {
        "colab": {
          "base_uri": "https://localhost:8080/"
        },
        "id": "JFwW3KKtfCHH",
        "outputId": "42d04473-bd3b-4006-dbc9-ac8aa2e1f5a8"
      },
      "execution_count": null,
      "outputs": [
        {
          "output_type": "stream",
          "name": "stdout",
          "text": [
            "   One  Two  Three  Four\n",
            "A    1    2      3     4\n",
            "B    5    6    100     8\n",
            "C    9   10     11    12\n"
          ]
        }
      ]
    },
    {
      "cell_type": "code",
      "source": [
        "x = df.Two.copy()         # new object is created\n",
        "#x = df['Two'].copy()\n",
        "print(x)"
      ],
      "metadata": {
        "colab": {
          "base_uri": "https://localhost:8080/"
        },
        "id": "yw-jrG32fT0H",
        "outputId": "a5956acf-4c98-4a45-cc76-fa1eaca3083d"
      },
      "execution_count": null,
      "outputs": [
        {
          "output_type": "stream",
          "name": "stdout",
          "text": [
            "A     2\n",
            "B     6\n",
            "C    10\n",
            "Name: Two, dtype: int64\n"
          ]
        }
      ]
    },
    {
      "cell_type": "code",
      "source": [
        "x['C'] = 200\n",
        "print(x)"
      ],
      "metadata": {
        "colab": {
          "base_uri": "https://localhost:8080/"
        },
        "id": "eDs1ey3xfT3G",
        "outputId": "e1eff019-35c3-4900-9da8-135327bb1c5e"
      },
      "execution_count": null,
      "outputs": [
        {
          "output_type": "stream",
          "name": "stdout",
          "text": [
            "A      2\n",
            "B      6\n",
            "C    200\n",
            "Name: Two, dtype: int64\n"
          ]
        }
      ]
    },
    {
      "cell_type": "code",
      "source": [
        "print(df)"
      ],
      "metadata": {
        "colab": {
          "base_uri": "https://localhost:8080/"
        },
        "id": "NzTdG8EmfT6W",
        "outputId": "c5da7b0c-33e1-41a4-f67e-30fea83ffc1a"
      },
      "execution_count": null,
      "outputs": [
        {
          "output_type": "stream",
          "name": "stdout",
          "text": [
            "   One  Two  Three  Four\n",
            "A    1    2      3     4\n",
            "B    5    6    100     8\n",
            "C    9   10     11    12\n"
          ]
        }
      ]
    },
    {
      "cell_type": "code",
      "source": [
        "print(df.T)"
      ],
      "metadata": {
        "colab": {
          "base_uri": "https://localhost:8080/"
        },
        "id": "zgFHCXq0fT9W",
        "outputId": "a910df30-2d85-447d-b647-526ed8206981"
      },
      "execution_count": null,
      "outputs": [
        {
          "output_type": "stream",
          "name": "stdout",
          "text": [
            "       A    B   C\n",
            "One    1    5   9\n",
            "Two    2    6  10\n",
            "Three  3  100  11\n",
            "Four   4    8  12\n"
          ]
        }
      ]
    },
    {
      "cell_type": "code",
      "source": [
        "print(df.swapaxes(0, 1) )"
      ],
      "metadata": {
        "colab": {
          "base_uri": "https://localhost:8080/"
        },
        "id": "O1M6RFZ9hEyw",
        "outputId": "14d1f00e-c220-4cc7-f442-9da31ef5c9d2"
      },
      "execution_count": null,
      "outputs": [
        {
          "output_type": "stream",
          "name": "stdout",
          "text": [
            "       A    B   C\n",
            "One    1    5   9\n",
            "Two    2    6  10\n",
            "Three  3  100  11\n",
            "Four   4    8  12\n"
          ]
        }
      ]
    },
    {
      "cell_type": "code",
      "source": [
        "print(df)"
      ],
      "metadata": {
        "colab": {
          "base_uri": "https://localhost:8080/"
        },
        "id": "fghvfGdthI13",
        "outputId": "76106766-06d4-46a6-9f00-d8ad3e6069a1"
      },
      "execution_count": null,
      "outputs": [
        {
          "output_type": "stream",
          "name": "stdout",
          "text": [
            "   One  Two  Three  Four\n",
            "A    1    2      3     4\n",
            "B    5    6    100     8\n",
            "C    9   10     11    12\n"
          ]
        }
      ]
    },
    {
      "cell_type": "code",
      "source": [
        "print(df.keys())"
      ],
      "metadata": {
        "colab": {
          "base_uri": "https://localhost:8080/"
        },
        "id": "vzzPzRe_hI4I",
        "outputId": "ff2d728d-0804-4f76-c4c9-35faf74f93fd"
      },
      "execution_count": null,
      "outputs": [
        {
          "output_type": "stream",
          "name": "stdout",
          "text": [
            "Index(['One', 'Two', 'Three', 'Four'], dtype='object')\n"
          ]
        }
      ]
    },
    {
      "cell_type": "code",
      "source": [
        "print(df.columns)"
      ],
      "metadata": {
        "colab": {
          "base_uri": "https://localhost:8080/"
        },
        "id": "75bjL3vVhdIw",
        "outputId": "53ed2154-262b-4218-a986-2a9949a6935a"
      },
      "execution_count": null,
      "outputs": [
        {
          "output_type": "stream",
          "name": "stdout",
          "text": [
            "Index(['One', 'Two', 'Three', 'Four'], dtype='object')\n"
          ]
        }
      ]
    },
    {
      "cell_type": "code",
      "source": [
        "print(df.values)"
      ],
      "metadata": {
        "colab": {
          "base_uri": "https://localhost:8080/"
        },
        "id": "PbsBws1ChOjo",
        "outputId": "e246d73b-3da4-4edd-c356-25ebbeecccf7"
      },
      "execution_count": null,
      "outputs": [
        {
          "output_type": "stream",
          "name": "stdout",
          "text": [
            "[[  1   2   3   4]\n",
            " [  5   6 100   8]\n",
            " [  9  10  11  12]]\n"
          ]
        }
      ]
    },
    {
      "cell_type": "code",
      "source": [
        "print(df.index)"
      ],
      "metadata": {
        "colab": {
          "base_uri": "https://localhost:8080/"
        },
        "id": "NEW0XTOPhX-R",
        "outputId": "b0d6152b-61af-4d4c-f074-02abcde7888c"
      },
      "execution_count": null,
      "outputs": [
        {
          "output_type": "stream",
          "name": "stdout",
          "text": [
            "Index(['A', 'B', 'C'], dtype='object')\n"
          ]
        }
      ]
    },
    {
      "cell_type": "code",
      "source": [
        ""
      ],
      "metadata": {
        "id": "RZ2yaZYUYdBg"
      },
      "execution_count": null,
      "outputs": []
    },
    {
      "cell_type": "code",
      "source": [
        "#Indexing and Slicing"
      ],
      "metadata": {
        "id": "DGPNZOaDiR7H"
      },
      "execution_count": null,
      "outputs": []
    },
    {
      "cell_type": "code",
      "source": [
        "ds = pd.Series([4, 7, -5, 3], index=['b','c','a','d'])\n",
        "print(ds)\n",
        "\n",
        "print('\\n')\n",
        "\n",
        "df = pd.DataFrame(np.arange(1, 13).reshape(3,4), columns=['One', 'Two', 'Three', 'Four'], index=['A', 'B','C'])\n",
        "print(df)"
      ],
      "metadata": {
        "colab": {
          "base_uri": "https://localhost:8080/"
        },
        "id": "ectpVs_fYQ6A",
        "outputId": "18f1c622-6bdd-4b72-b22f-25f73d5e364d"
      },
      "execution_count": null,
      "outputs": [
        {
          "output_type": "stream",
          "name": "stdout",
          "text": [
            "b    4\n",
            "c    7\n",
            "a   -5\n",
            "d    3\n",
            "dtype: int64\n",
            "\n",
            "\n",
            "   One  Two  Three  Four\n",
            "A    1    2      3     4\n",
            "B    5    6      7     8\n",
            "C    9   10     11    12\n"
          ]
        }
      ]
    },
    {
      "cell_type": "code",
      "source": [
        "#dataseries\n",
        "\n",
        "print(ds['a'])       # label/index represent rows\n",
        "\n",
        "print(ds[2])         # numeric-index represent rows\n",
        "\n",
        "\n",
        "print(ds[2:4])       #row-slicing  (end-value is excluded)\n",
        "\n",
        "print(ds['c' : 'd'])  #row-slicing (end-value is included)"
      ],
      "metadata": {
        "colab": {
          "base_uri": "https://localhost:8080/"
        },
        "id": "vaGE2SmtYQ_u",
        "outputId": "70c4120d-1a19-4d57-894a-8d6995266151"
      },
      "execution_count": null,
      "outputs": [
        {
          "output_type": "stream",
          "name": "stdout",
          "text": [
            "-5\n",
            "-5\n",
            "a   -5\n",
            "d    3\n",
            "dtype: int64\n",
            "c    7\n",
            "a   -5\n",
            "d    3\n",
            "dtype: int64\n"
          ]
        }
      ]
    },
    {
      "cell_type": "code",
      "source": [
        "#dataframes\n",
        "\n",
        "print(df['One'])      #label/index represent columns\n",
        "print('\\n')\n",
        "\n",
        "print(df[1:2])        #numeric-based row-slicing (end-value is excluded)\n",
        "print('\\n')\n",
        "\n",
        "print(df['A' : 'B'])  #label based row-slicing (end-value is included)\n"
      ],
      "metadata": {
        "colab": {
          "base_uri": "https://localhost:8080/"
        },
        "id": "SpiQqBKzY1fO",
        "outputId": "b8c73dc8-14df-43e2-cdc3-5fe4db86c110"
      },
      "execution_count": null,
      "outputs": [
        {
          "output_type": "stream",
          "name": "stdout",
          "text": [
            "A    1\n",
            "B    5\n",
            "C    9\n",
            "Name: One, dtype: int64\n",
            "\n",
            "\n",
            "   One  Two  Three  Four\n",
            "B    5    6      7     8\n",
            "\n",
            "\n",
            "   One  Two  Three  Four\n",
            "A    1    2      3     4\n",
            "B    5    6      7     8\n"
          ]
        }
      ]
    },
    {
      "cell_type": "code",
      "source": [
        "#loc  : label-based (strings)\n",
        "#iloc : index-based (number)\n"
      ],
      "metadata": {
        "id": "0zi1p_5DaDTv"
      },
      "execution_count": null,
      "outputs": []
    },
    {
      "cell_type": "code",
      "source": [
        "print(ds)"
      ],
      "metadata": {
        "colab": {
          "base_uri": "https://localhost:8080/"
        },
        "id": "UlRp0AlmcUy4",
        "outputId": "bd87976e-adfc-4a69-8777-edc4af285e2f"
      },
      "execution_count": null,
      "outputs": [
        {
          "output_type": "stream",
          "name": "stdout",
          "text": [
            "b    4\n",
            "c    7\n",
            "a   -5\n",
            "d    3\n",
            "dtype: int64\n"
          ]
        }
      ]
    },
    {
      "cell_type": "code",
      "source": [
        "print(ds.loc['a'])\n",
        "print('\\n')\n",
        "print(ds.loc['c' : 'd'])  #(end value is included)"
      ],
      "metadata": {
        "colab": {
          "base_uri": "https://localhost:8080/"
        },
        "id": "othAx-XYchU5",
        "outputId": "7353e034-b426-450e-a63d-a2d24dbf6fd1"
      },
      "execution_count": null,
      "outputs": [
        {
          "output_type": "stream",
          "name": "stdout",
          "text": [
            "-5\n",
            "\n",
            "\n",
            "c    7\n",
            "a   -5\n",
            "d    3\n",
            "dtype: int64\n"
          ]
        }
      ]
    },
    {
      "cell_type": "code",
      "source": [
        "print(ds.iloc[1])\n",
        "print('\\n')\n",
        "print(ds.iloc[1:3])    #(end value is excluded)"
      ],
      "metadata": {
        "colab": {
          "base_uri": "https://localhost:8080/"
        },
        "id": "qDL1F7fmchXp",
        "outputId": "9852c6fa-e8ac-458f-da00-eac202b825c4"
      },
      "execution_count": null,
      "outputs": [
        {
          "output_type": "stream",
          "name": "stdout",
          "text": [
            "7\n",
            "\n",
            "\n",
            "c    7\n",
            "a   -5\n",
            "dtype: int64\n"
          ]
        }
      ]
    },
    {
      "cell_type": "code",
      "source": [
        "print(df)"
      ],
      "metadata": {
        "colab": {
          "base_uri": "https://localhost:8080/"
        },
        "id": "SDQv7FagdIBA",
        "outputId": "8fae7cc8-66b9-498b-8587-931b18261d95"
      },
      "execution_count": null,
      "outputs": [
        {
          "output_type": "stream",
          "name": "stdout",
          "text": [
            "   One  Two  Three  Four\n",
            "A    1    2      3     4\n",
            "B    5    6      7     8\n",
            "C    9   10     11    12\n"
          ]
        }
      ]
    },
    {
      "cell_type": "code",
      "source": [
        "print(df.loc['B'])\n",
        "print('\\n')\n",
        "\n",
        "print(df.loc['B' : 'C'])  #(end value is included)"
      ],
      "metadata": {
        "colab": {
          "base_uri": "https://localhost:8080/"
        },
        "id": "4CB3zJV5eT_y",
        "outputId": "b4ae895a-3e35-4722-d519-97325463849d"
      },
      "execution_count": null,
      "outputs": [
        {
          "output_type": "stream",
          "name": "stdout",
          "text": [
            "One      5\n",
            "Two      6\n",
            "Three    7\n",
            "Four     8\n",
            "Name: B, dtype: int64\n",
            "\n",
            "\n",
            "   One  Two  Three  Four\n",
            "B    5    6      7     8\n",
            "C    9   10     11    12\n"
          ]
        }
      ]
    },
    {
      "cell_type": "code",
      "source": [
        "print(df.iloc[1])\n",
        "print('\\n')\n",
        "print(df.iloc[0:2])  #(end value is excluded)"
      ],
      "metadata": {
        "colab": {
          "base_uri": "https://localhost:8080/"
        },
        "id": "F6bysPUpeUCZ",
        "outputId": "587371b1-6bad-4f95-f88e-63edb276bf60"
      },
      "execution_count": null,
      "outputs": [
        {
          "output_type": "stream",
          "name": "stdout",
          "text": [
            "One      5\n",
            "Two      6\n",
            "Three    7\n",
            "Four     8\n",
            "Name: B, dtype: int64\n",
            "\n",
            "\n",
            "   One  Two  Three  Four\n",
            "A    1    2      3     4\n",
            "B    5    6      7     8\n"
          ]
        }
      ]
    },
    {
      "cell_type": "code",
      "source": [
        "print(df)"
      ],
      "metadata": {
        "colab": {
          "base_uri": "https://localhost:8080/"
        },
        "id": "GoLJ8U5QfCvL",
        "outputId": "da5d79d3-b916-4732-c5d7-36a5a4adaa87"
      },
      "execution_count": null,
      "outputs": [
        {
          "output_type": "stream",
          "name": "stdout",
          "text": [
            "   One  Two  Three  Four\n",
            "A    1    2      3     4\n",
            "B    5    6      7     8\n",
            "C    9   10     11    12\n"
          ]
        }
      ]
    },
    {
      "cell_type": "code",
      "source": [
        "print(df.loc['B', ['Two', 'Four']]) "
      ],
      "metadata": {
        "colab": {
          "base_uri": "https://localhost:8080/"
        },
        "id": "9VnfZoHYfCy8",
        "outputId": "a6e43107-0c14-443b-d544-524cc30404cb"
      },
      "execution_count": null,
      "outputs": [
        {
          "output_type": "stream",
          "name": "stdout",
          "text": [
            "Two     6\n",
            "Four    8\n",
            "Name: B, dtype: int64\n"
          ]
        }
      ]
    },
    {
      "cell_type": "code",
      "source": [
        "print(df.iloc[1, [1, 3]]) "
      ],
      "metadata": {
        "colab": {
          "base_uri": "https://localhost:8080/"
        },
        "id": "uoO8MCOLhgrj",
        "outputId": "4aac6669-af8f-4592-e1c0-bd0c09a74714"
      },
      "execution_count": null,
      "outputs": [
        {
          "output_type": "stream",
          "name": "stdout",
          "text": [
            "Two     6\n",
            "Four    8\n",
            "Name: B, dtype: int64\n"
          ]
        }
      ]
    },
    {
      "cell_type": "code",
      "source": [
        "print(df.loc[ ['B' , 'C'], ['Two', 'Four']]) "
      ],
      "metadata": {
        "colab": {
          "base_uri": "https://localhost:8080/"
        },
        "id": "zzWBRHs_fC2p",
        "outputId": "b22f69e1-1578-40b1-8dbb-e5d3e2ce5af3"
      },
      "execution_count": null,
      "outputs": [
        {
          "output_type": "stream",
          "name": "stdout",
          "text": [
            "   Two  Four\n",
            "B    6     8\n",
            "C   10    12\n"
          ]
        }
      ]
    },
    {
      "cell_type": "code",
      "source": [
        "print(df.loc[ ['B' , 'C'], 'Four' ]) "
      ],
      "metadata": {
        "colab": {
          "base_uri": "https://localhost:8080/"
        },
        "id": "UkMKmwJRi1c0",
        "outputId": "12705f3e-22e5-45e3-ba8f-929cb67cf90d"
      },
      "execution_count": null,
      "outputs": [
        {
          "output_type": "stream",
          "name": "stdout",
          "text": [
            "B     8\n",
            "C    12\n",
            "Name: Four, dtype: int64\n"
          ]
        }
      ]
    },
    {
      "cell_type": "code",
      "source": [
        "print(df.iloc[ [1 , 2], [1, 3]]) "
      ],
      "metadata": {
        "colab": {
          "base_uri": "https://localhost:8080/"
        },
        "id": "urrLzp5Ihi0C",
        "outputId": "4d26dfaf-ccf5-470b-e7ba-cd26d6d86fbb"
      },
      "execution_count": null,
      "outputs": [
        {
          "output_type": "stream",
          "name": "stdout",
          "text": [
            "   Two  Four\n",
            "B    6     8\n",
            "C   10    12\n"
          ]
        }
      ]
    },
    {
      "cell_type": "code",
      "source": [
        "print(df.iloc[ [1 , 2], 3 ]) "
      ],
      "metadata": {
        "colab": {
          "base_uri": "https://localhost:8080/"
        },
        "id": "-fH_Dhz5i4fF",
        "outputId": "093ea7b6-ae3c-4df9-eeda-096054124f05"
      },
      "execution_count": null,
      "outputs": [
        {
          "output_type": "stream",
          "name": "stdout",
          "text": [
            "B     8\n",
            "C    12\n",
            "Name: Four, dtype: int64\n"
          ]
        }
      ]
    },
    {
      "cell_type": "code",
      "source": [
        "print(df.iloc[ [1 , 2],  : ]) "
      ],
      "metadata": {
        "colab": {
          "base_uri": "https://localhost:8080/"
        },
        "id": "jP88XIhui-rs",
        "outputId": "06653e97-4892-4d84-a516-ff922c5ec7c4"
      },
      "execution_count": null,
      "outputs": [
        {
          "output_type": "stream",
          "name": "stdout",
          "text": [
            "   One  Two  Three  Four\n",
            "B    5    6      7     8\n",
            "C    9   10     11    12\n"
          ]
        }
      ]
    },
    {
      "cell_type": "code",
      "source": [
        "print(df.loc[:, ['Two', 'Four'] ])"
      ],
      "metadata": {
        "colab": {
          "base_uri": "https://localhost:8080/"
        },
        "id": "43HWXDdJg8Vz",
        "outputId": "8df8a134-b1b4-4464-d13c-17124cc28d15"
      },
      "execution_count": null,
      "outputs": [
        {
          "output_type": "stream",
          "name": "stdout",
          "text": [
            "   Two  Four\n",
            "A    2     4\n",
            "B    6     8\n",
            "C   10    12\n"
          ]
        }
      ]
    },
    {
      "cell_type": "code",
      "source": [
        "print(df.iloc[:, [1, 3] ])"
      ],
      "metadata": {
        "colab": {
          "base_uri": "https://localhost:8080/"
        },
        "id": "oQu3DMcohoUD",
        "outputId": "ac3fccd6-3b02-4ee7-eae0-ab7598da9e5c"
      },
      "execution_count": null,
      "outputs": [
        {
          "output_type": "stream",
          "name": "stdout",
          "text": [
            "   Two  Four\n",
            "A    2     4\n",
            "B    6     8\n",
            "C   10    12\n"
          ]
        }
      ]
    },
    {
      "cell_type": "code",
      "source": [
        "print(df)"
      ],
      "metadata": {
        "colab": {
          "base_uri": "https://localhost:8080/"
        },
        "id": "_G1vPU0qh1r1",
        "outputId": "81da3eea-1d5f-4fa0-f3eb-21610a210aba"
      },
      "execution_count": null,
      "outputs": [
        {
          "output_type": "stream",
          "name": "stdout",
          "text": [
            "   One  Two  Three  Four\n",
            "A    1    2      3     4\n",
            "B    5    6      7     8\n",
            "C    9   10     11    12\n"
          ]
        }
      ]
    },
    {
      "cell_type": "code",
      "source": [
        "x = df.loc[['A', 'C']]\n",
        "print(type(x))\n",
        "print(x)\n"
      ],
      "metadata": {
        "colab": {
          "base_uri": "https://localhost:8080/"
        },
        "id": "13iF0UWzh3DE",
        "outputId": "ba8240e3-9b52-4f94-82c7-c71a4c2f1f7d"
      },
      "execution_count": null,
      "outputs": [
        {
          "output_type": "stream",
          "name": "stdout",
          "text": [
            "<class 'pandas.core.frame.DataFrame'>\n",
            "   One  Two  Three  Four\n",
            "A    1    2      3     4\n",
            "C    9   10     11    12\n"
          ]
        }
      ]
    },
    {
      "cell_type": "code",
      "source": [
        "df.loc[['A', 'C']] [['Two', 'Four']]"
      ],
      "metadata": {
        "colab": {
          "base_uri": "https://localhost:8080/",
          "height": 112
        },
        "id": "zLjD-KYYh3Fa",
        "outputId": "ab20a2ac-c654-4a1b-ed3e-6b05357f1255"
      },
      "execution_count": null,
      "outputs": [
        {
          "output_type": "execute_result",
          "data": {
            "text/html": [
              "\n",
              "  <div id=\"df-1ab21157-d940-4ec1-9947-26fcc9584249\">\n",
              "    <div class=\"colab-df-container\">\n",
              "      <div>\n",
              "<style scoped>\n",
              "    .dataframe tbody tr th:only-of-type {\n",
              "        vertical-align: middle;\n",
              "    }\n",
              "\n",
              "    .dataframe tbody tr th {\n",
              "        vertical-align: top;\n",
              "    }\n",
              "\n",
              "    .dataframe thead th {\n",
              "        text-align: right;\n",
              "    }\n",
              "</style>\n",
              "<table border=\"1\" class=\"dataframe\">\n",
              "  <thead>\n",
              "    <tr style=\"text-align: right;\">\n",
              "      <th></th>\n",
              "      <th>Two</th>\n",
              "      <th>Four</th>\n",
              "    </tr>\n",
              "  </thead>\n",
              "  <tbody>\n",
              "    <tr>\n",
              "      <th>A</th>\n",
              "      <td>2</td>\n",
              "      <td>4</td>\n",
              "    </tr>\n",
              "    <tr>\n",
              "      <th>C</th>\n",
              "      <td>10</td>\n",
              "      <td>12</td>\n",
              "    </tr>\n",
              "  </tbody>\n",
              "</table>\n",
              "</div>\n",
              "      <button class=\"colab-df-convert\" onclick=\"convertToInteractive('df-1ab21157-d940-4ec1-9947-26fcc9584249')\"\n",
              "              title=\"Convert this dataframe to an interactive table.\"\n",
              "              style=\"display:none;\">\n",
              "        \n",
              "  <svg xmlns=\"http://www.w3.org/2000/svg\" height=\"24px\"viewBox=\"0 0 24 24\"\n",
              "       width=\"24px\">\n",
              "    <path d=\"M0 0h24v24H0V0z\" fill=\"none\"/>\n",
              "    <path d=\"M18.56 5.44l.94 2.06.94-2.06 2.06-.94-2.06-.94-.94-2.06-.94 2.06-2.06.94zm-11 1L8.5 8.5l.94-2.06 2.06-.94-2.06-.94L8.5 2.5l-.94 2.06-2.06.94zm10 10l.94 2.06.94-2.06 2.06-.94-2.06-.94-.94-2.06-.94 2.06-2.06.94z\"/><path d=\"M17.41 7.96l-1.37-1.37c-.4-.4-.92-.59-1.43-.59-.52 0-1.04.2-1.43.59L10.3 9.45l-7.72 7.72c-.78.78-.78 2.05 0 2.83L4 21.41c.39.39.9.59 1.41.59.51 0 1.02-.2 1.41-.59l7.78-7.78 2.81-2.81c.8-.78.8-2.07 0-2.86zM5.41 20L4 18.59l7.72-7.72 1.47 1.35L5.41 20z\"/>\n",
              "  </svg>\n",
              "      </button>\n",
              "      \n",
              "  <style>\n",
              "    .colab-df-container {\n",
              "      display:flex;\n",
              "      flex-wrap:wrap;\n",
              "      gap: 12px;\n",
              "    }\n",
              "\n",
              "    .colab-df-convert {\n",
              "      background-color: #E8F0FE;\n",
              "      border: none;\n",
              "      border-radius: 50%;\n",
              "      cursor: pointer;\n",
              "      display: none;\n",
              "      fill: #1967D2;\n",
              "      height: 32px;\n",
              "      padding: 0 0 0 0;\n",
              "      width: 32px;\n",
              "    }\n",
              "\n",
              "    .colab-df-convert:hover {\n",
              "      background-color: #E2EBFA;\n",
              "      box-shadow: 0px 1px 2px rgba(60, 64, 67, 0.3), 0px 1px 3px 1px rgba(60, 64, 67, 0.15);\n",
              "      fill: #174EA6;\n",
              "    }\n",
              "\n",
              "    [theme=dark] .colab-df-convert {\n",
              "      background-color: #3B4455;\n",
              "      fill: #D2E3FC;\n",
              "    }\n",
              "\n",
              "    [theme=dark] .colab-df-convert:hover {\n",
              "      background-color: #434B5C;\n",
              "      box-shadow: 0px 1px 3px 1px rgba(0, 0, 0, 0.15);\n",
              "      filter: drop-shadow(0px 1px 2px rgba(0, 0, 0, 0.3));\n",
              "      fill: #FFFFFF;\n",
              "    }\n",
              "  </style>\n",
              "\n",
              "      <script>\n",
              "        const buttonEl =\n",
              "          document.querySelector('#df-1ab21157-d940-4ec1-9947-26fcc9584249 button.colab-df-convert');\n",
              "        buttonEl.style.display =\n",
              "          google.colab.kernel.accessAllowed ? 'block' : 'none';\n",
              "\n",
              "        async function convertToInteractive(key) {\n",
              "          const element = document.querySelector('#df-1ab21157-d940-4ec1-9947-26fcc9584249');\n",
              "          const dataTable =\n",
              "            await google.colab.kernel.invokeFunction('convertToInteractive',\n",
              "                                                     [key], {});\n",
              "          if (!dataTable) return;\n",
              "\n",
              "          const docLinkHtml = 'Like what you see? Visit the ' +\n",
              "            '<a target=\"_blank\" href=https://colab.research.google.com/notebooks/data_table.ipynb>data table notebook</a>'\n",
              "            + ' to learn more about interactive tables.';\n",
              "          element.innerHTML = '';\n",
              "          dataTable['output_type'] = 'display_data';\n",
              "          await google.colab.output.renderOutput(dataTable, element);\n",
              "          const docLink = document.createElement('div');\n",
              "          docLink.innerHTML = docLinkHtml;\n",
              "          element.appendChild(docLink);\n",
              "        }\n",
              "      </script>\n",
              "    </div>\n",
              "  </div>\n",
              "  "
            ],
            "text/plain": [
              "   Two  Four\n",
              "A    2     4\n",
              "C   10    12"
            ]
          },
          "metadata": {},
          "execution_count": 100
        }
      ]
    },
    {
      "cell_type": "code",
      "source": [
        "#boolean-indexing"
      ],
      "metadata": {
        "id": "zwsEXHFGM_Up"
      },
      "execution_count": null,
      "outputs": []
    },
    {
      "cell_type": "code",
      "source": [
        "ds = pd.Series([4, 7, -5, 3], index=['b','c','a','d'])\n",
        "print(ds)\n",
        "\n",
        "print('\\n')\n",
        "\n",
        "df = pd.DataFrame(np.arange(1, 13).reshape(3,4), columns=['One', 'Two', 'Three', 'Four'], index=['A', 'B','C'])\n",
        "print(df)"
      ],
      "metadata": {
        "colab": {
          "base_uri": "https://localhost:8080/"
        },
        "id": "51Geyy8lM_Xe",
        "outputId": "25befd33-06f4-485b-e971-129ad7526190"
      },
      "execution_count": null,
      "outputs": [
        {
          "output_type": "stream",
          "name": "stdout",
          "text": [
            "b    4\n",
            "c    7\n",
            "a   -5\n",
            "d    3\n",
            "dtype: int64\n",
            "\n",
            "\n",
            "   One  Two  Three  Four\n",
            "A    1    2      3     4\n",
            "B    5    6      7     8\n",
            "C    9   10     11    12\n"
          ]
        }
      ]
    },
    {
      "cell_type": "code",
      "source": [
        "print(ds[ [True, False, False, True] ] ) "
      ],
      "metadata": {
        "colab": {
          "base_uri": "https://localhost:8080/"
        },
        "id": "trHIf3cMM_aP",
        "outputId": "3c06f29d-a339-48b2-d601-92a21c0b243c"
      },
      "execution_count": null,
      "outputs": [
        {
          "output_type": "stream",
          "name": "stdout",
          "text": [
            "b    4\n",
            "d    3\n",
            "dtype: int64\n"
          ]
        }
      ]
    },
    {
      "cell_type": "code",
      "source": [
        "x = ds < 4\n",
        "print(x)"
      ],
      "metadata": {
        "colab": {
          "base_uri": "https://localhost:8080/"
        },
        "id": "2geDo9ovQ8BS",
        "outputId": "d6659fd6-7968-4cd3-d086-bd8bad8b0d2d"
      },
      "execution_count": null,
      "outputs": [
        {
          "output_type": "stream",
          "name": "stdout",
          "text": [
            "b    False\n",
            "c    False\n",
            "a     True\n",
            "d     True\n",
            "dtype: bool\n"
          ]
        }
      ]
    },
    {
      "cell_type": "code",
      "source": [
        "print ( ds[ (ds < 4)  ] ) "
      ],
      "metadata": {
        "colab": {
          "base_uri": "https://localhost:8080/"
        },
        "id": "xpqiCS-xRFHq",
        "outputId": "51ee828e-4ceb-4a08-b51e-75db3fa33cec"
      },
      "execution_count": null,
      "outputs": [
        {
          "output_type": "stream",
          "name": "stdout",
          "text": [
            "a   -5\n",
            "d    3\n",
            "dtype: int64\n"
          ]
        }
      ]
    },
    {
      "cell_type": "code",
      "source": [
        "print(df)"
      ],
      "metadata": {
        "colab": {
          "base_uri": "https://localhost:8080/"
        },
        "id": "60KZJN8zRu5y",
        "outputId": "d3a38e2e-9de7-4996-8737-ceed0bb23c39"
      },
      "execution_count": null,
      "outputs": [
        {
          "output_type": "stream",
          "name": "stdout",
          "text": [
            "   One  Two  Three  Four\n",
            "A    1    2      3     4\n",
            "B    5    6      7     8\n",
            "C    9   10     11    12\n"
          ]
        }
      ]
    },
    {
      "cell_type": "code",
      "source": [
        "print( df[ [False, True, False] ] )  # boolean-indexing : row-wise"
      ],
      "metadata": {
        "colab": {
          "base_uri": "https://localhost:8080/"
        },
        "id": "5oyiUjm3RwcL",
        "outputId": "13d65573-6be4-4391-c1e4-68567dfa6e7c"
      },
      "execution_count": null,
      "outputs": [
        {
          "output_type": "stream",
          "name": "stdout",
          "text": [
            "   One  Two  Three  Four\n",
            "B    5    6      7     8\n"
          ]
        }
      ]
    },
    {
      "cell_type": "code",
      "source": [
        "df.loc[ [False, True, False] , : ]  #loc -> label , iloc -> number"
      ],
      "metadata": {
        "colab": {
          "base_uri": "https://localhost:8080/",
          "height": 81
        },
        "id": "YNCMKiX9Rwey",
        "outputId": "139017e9-9a32-484f-fb29-530b39de7c59"
      },
      "execution_count": null,
      "outputs": [
        {
          "output_type": "execute_result",
          "data": {
            "text/html": [
              "\n",
              "  <div id=\"df-74794dc9-54c4-4fc9-a5fc-aa57cdf89b60\">\n",
              "    <div class=\"colab-df-container\">\n",
              "      <div>\n",
              "<style scoped>\n",
              "    .dataframe tbody tr th:only-of-type {\n",
              "        vertical-align: middle;\n",
              "    }\n",
              "\n",
              "    .dataframe tbody tr th {\n",
              "        vertical-align: top;\n",
              "    }\n",
              "\n",
              "    .dataframe thead th {\n",
              "        text-align: right;\n",
              "    }\n",
              "</style>\n",
              "<table border=\"1\" class=\"dataframe\">\n",
              "  <thead>\n",
              "    <tr style=\"text-align: right;\">\n",
              "      <th></th>\n",
              "      <th>One</th>\n",
              "      <th>Two</th>\n",
              "      <th>Three</th>\n",
              "      <th>Four</th>\n",
              "    </tr>\n",
              "  </thead>\n",
              "  <tbody>\n",
              "    <tr>\n",
              "      <th>B</th>\n",
              "      <td>5</td>\n",
              "      <td>6</td>\n",
              "      <td>7</td>\n",
              "      <td>8</td>\n",
              "    </tr>\n",
              "  </tbody>\n",
              "</table>\n",
              "</div>\n",
              "      <button class=\"colab-df-convert\" onclick=\"convertToInteractive('df-74794dc9-54c4-4fc9-a5fc-aa57cdf89b60')\"\n",
              "              title=\"Convert this dataframe to an interactive table.\"\n",
              "              style=\"display:none;\">\n",
              "        \n",
              "  <svg xmlns=\"http://www.w3.org/2000/svg\" height=\"24px\"viewBox=\"0 0 24 24\"\n",
              "       width=\"24px\">\n",
              "    <path d=\"M0 0h24v24H0V0z\" fill=\"none\"/>\n",
              "    <path d=\"M18.56 5.44l.94 2.06.94-2.06 2.06-.94-2.06-.94-.94-2.06-.94 2.06-2.06.94zm-11 1L8.5 8.5l.94-2.06 2.06-.94-2.06-.94L8.5 2.5l-.94 2.06-2.06.94zm10 10l.94 2.06.94-2.06 2.06-.94-2.06-.94-.94-2.06-.94 2.06-2.06.94z\"/><path d=\"M17.41 7.96l-1.37-1.37c-.4-.4-.92-.59-1.43-.59-.52 0-1.04.2-1.43.59L10.3 9.45l-7.72 7.72c-.78.78-.78 2.05 0 2.83L4 21.41c.39.39.9.59 1.41.59.51 0 1.02-.2 1.41-.59l7.78-7.78 2.81-2.81c.8-.78.8-2.07 0-2.86zM5.41 20L4 18.59l7.72-7.72 1.47 1.35L5.41 20z\"/>\n",
              "  </svg>\n",
              "      </button>\n",
              "      \n",
              "  <style>\n",
              "    .colab-df-container {\n",
              "      display:flex;\n",
              "      flex-wrap:wrap;\n",
              "      gap: 12px;\n",
              "    }\n",
              "\n",
              "    .colab-df-convert {\n",
              "      background-color: #E8F0FE;\n",
              "      border: none;\n",
              "      border-radius: 50%;\n",
              "      cursor: pointer;\n",
              "      display: none;\n",
              "      fill: #1967D2;\n",
              "      height: 32px;\n",
              "      padding: 0 0 0 0;\n",
              "      width: 32px;\n",
              "    }\n",
              "\n",
              "    .colab-df-convert:hover {\n",
              "      background-color: #E2EBFA;\n",
              "      box-shadow: 0px 1px 2px rgba(60, 64, 67, 0.3), 0px 1px 3px 1px rgba(60, 64, 67, 0.15);\n",
              "      fill: #174EA6;\n",
              "    }\n",
              "\n",
              "    [theme=dark] .colab-df-convert {\n",
              "      background-color: #3B4455;\n",
              "      fill: #D2E3FC;\n",
              "    }\n",
              "\n",
              "    [theme=dark] .colab-df-convert:hover {\n",
              "      background-color: #434B5C;\n",
              "      box-shadow: 0px 1px 3px 1px rgba(0, 0, 0, 0.15);\n",
              "      filter: drop-shadow(0px 1px 2px rgba(0, 0, 0, 0.3));\n",
              "      fill: #FFFFFF;\n",
              "    }\n",
              "  </style>\n",
              "\n",
              "      <script>\n",
              "        const buttonEl =\n",
              "          document.querySelector('#df-74794dc9-54c4-4fc9-a5fc-aa57cdf89b60 button.colab-df-convert');\n",
              "        buttonEl.style.display =\n",
              "          google.colab.kernel.accessAllowed ? 'block' : 'none';\n",
              "\n",
              "        async function convertToInteractive(key) {\n",
              "          const element = document.querySelector('#df-74794dc9-54c4-4fc9-a5fc-aa57cdf89b60');\n",
              "          const dataTable =\n",
              "            await google.colab.kernel.invokeFunction('convertToInteractive',\n",
              "                                                     [key], {});\n",
              "          if (!dataTable) return;\n",
              "\n",
              "          const docLinkHtml = 'Like what you see? Visit the ' +\n",
              "            '<a target=\"_blank\" href=https://colab.research.google.com/notebooks/data_table.ipynb>data table notebook</a>'\n",
              "            + ' to learn more about interactive tables.';\n",
              "          element.innerHTML = '';\n",
              "          dataTable['output_type'] = 'display_data';\n",
              "          await google.colab.output.renderOutput(dataTable, element);\n",
              "          const docLink = document.createElement('div');\n",
              "          docLink.innerHTML = docLinkHtml;\n",
              "          element.appendChild(docLink);\n",
              "        }\n",
              "      </script>\n",
              "    </div>\n",
              "  </div>\n",
              "  "
            ],
            "text/plain": [
              "   One  Two  Three  Four\n",
              "B    5    6      7     8"
            ]
          },
          "metadata": {},
          "execution_count": 133
        }
      ]
    },
    {
      "cell_type": "code",
      "source": [
        "df.iloc[ [False, True, False] , : ]"
      ],
      "metadata": {
        "colab": {
          "base_uri": "https://localhost:8080/",
          "height": 81
        },
        "id": "VC7QgXYfSZxk",
        "outputId": "74dfb5db-4192-42ca-bf46-b541e4b8db5f"
      },
      "execution_count": null,
      "outputs": [
        {
          "output_type": "execute_result",
          "data": {
            "text/html": [
              "\n",
              "  <div id=\"df-d0b2ee5b-f745-4b9d-85a4-80a45d8d15c9\">\n",
              "    <div class=\"colab-df-container\">\n",
              "      <div>\n",
              "<style scoped>\n",
              "    .dataframe tbody tr th:only-of-type {\n",
              "        vertical-align: middle;\n",
              "    }\n",
              "\n",
              "    .dataframe tbody tr th {\n",
              "        vertical-align: top;\n",
              "    }\n",
              "\n",
              "    .dataframe thead th {\n",
              "        text-align: right;\n",
              "    }\n",
              "</style>\n",
              "<table border=\"1\" class=\"dataframe\">\n",
              "  <thead>\n",
              "    <tr style=\"text-align: right;\">\n",
              "      <th></th>\n",
              "      <th>One</th>\n",
              "      <th>Two</th>\n",
              "      <th>Three</th>\n",
              "      <th>Four</th>\n",
              "    </tr>\n",
              "  </thead>\n",
              "  <tbody>\n",
              "    <tr>\n",
              "      <th>B</th>\n",
              "      <td>5</td>\n",
              "      <td>6</td>\n",
              "      <td>7</td>\n",
              "      <td>8</td>\n",
              "    </tr>\n",
              "  </tbody>\n",
              "</table>\n",
              "</div>\n",
              "      <button class=\"colab-df-convert\" onclick=\"convertToInteractive('df-d0b2ee5b-f745-4b9d-85a4-80a45d8d15c9')\"\n",
              "              title=\"Convert this dataframe to an interactive table.\"\n",
              "              style=\"display:none;\">\n",
              "        \n",
              "  <svg xmlns=\"http://www.w3.org/2000/svg\" height=\"24px\"viewBox=\"0 0 24 24\"\n",
              "       width=\"24px\">\n",
              "    <path d=\"M0 0h24v24H0V0z\" fill=\"none\"/>\n",
              "    <path d=\"M18.56 5.44l.94 2.06.94-2.06 2.06-.94-2.06-.94-.94-2.06-.94 2.06-2.06.94zm-11 1L8.5 8.5l.94-2.06 2.06-.94-2.06-.94L8.5 2.5l-.94 2.06-2.06.94zm10 10l.94 2.06.94-2.06 2.06-.94-2.06-.94-.94-2.06-.94 2.06-2.06.94z\"/><path d=\"M17.41 7.96l-1.37-1.37c-.4-.4-.92-.59-1.43-.59-.52 0-1.04.2-1.43.59L10.3 9.45l-7.72 7.72c-.78.78-.78 2.05 0 2.83L4 21.41c.39.39.9.59 1.41.59.51 0 1.02-.2 1.41-.59l7.78-7.78 2.81-2.81c.8-.78.8-2.07 0-2.86zM5.41 20L4 18.59l7.72-7.72 1.47 1.35L5.41 20z\"/>\n",
              "  </svg>\n",
              "      </button>\n",
              "      \n",
              "  <style>\n",
              "    .colab-df-container {\n",
              "      display:flex;\n",
              "      flex-wrap:wrap;\n",
              "      gap: 12px;\n",
              "    }\n",
              "\n",
              "    .colab-df-convert {\n",
              "      background-color: #E8F0FE;\n",
              "      border: none;\n",
              "      border-radius: 50%;\n",
              "      cursor: pointer;\n",
              "      display: none;\n",
              "      fill: #1967D2;\n",
              "      height: 32px;\n",
              "      padding: 0 0 0 0;\n",
              "      width: 32px;\n",
              "    }\n",
              "\n",
              "    .colab-df-convert:hover {\n",
              "      background-color: #E2EBFA;\n",
              "      box-shadow: 0px 1px 2px rgba(60, 64, 67, 0.3), 0px 1px 3px 1px rgba(60, 64, 67, 0.15);\n",
              "      fill: #174EA6;\n",
              "    }\n",
              "\n",
              "    [theme=dark] .colab-df-convert {\n",
              "      background-color: #3B4455;\n",
              "      fill: #D2E3FC;\n",
              "    }\n",
              "\n",
              "    [theme=dark] .colab-df-convert:hover {\n",
              "      background-color: #434B5C;\n",
              "      box-shadow: 0px 1px 3px 1px rgba(0, 0, 0, 0.15);\n",
              "      filter: drop-shadow(0px 1px 2px rgba(0, 0, 0, 0.3));\n",
              "      fill: #FFFFFF;\n",
              "    }\n",
              "  </style>\n",
              "\n",
              "      <script>\n",
              "        const buttonEl =\n",
              "          document.querySelector('#df-d0b2ee5b-f745-4b9d-85a4-80a45d8d15c9 button.colab-df-convert');\n",
              "        buttonEl.style.display =\n",
              "          google.colab.kernel.accessAllowed ? 'block' : 'none';\n",
              "\n",
              "        async function convertToInteractive(key) {\n",
              "          const element = document.querySelector('#df-d0b2ee5b-f745-4b9d-85a4-80a45d8d15c9');\n",
              "          const dataTable =\n",
              "            await google.colab.kernel.invokeFunction('convertToInteractive',\n",
              "                                                     [key], {});\n",
              "          if (!dataTable) return;\n",
              "\n",
              "          const docLinkHtml = 'Like what you see? Visit the ' +\n",
              "            '<a target=\"_blank\" href=https://colab.research.google.com/notebooks/data_table.ipynb>data table notebook</a>'\n",
              "            + ' to learn more about interactive tables.';\n",
              "          element.innerHTML = '';\n",
              "          dataTable['output_type'] = 'display_data';\n",
              "          await google.colab.output.renderOutput(dataTable, element);\n",
              "          const docLink = document.createElement('div');\n",
              "          docLink.innerHTML = docLinkHtml;\n",
              "          element.appendChild(docLink);\n",
              "        }\n",
              "      </script>\n",
              "    </div>\n",
              "  </div>\n",
              "  "
            ],
            "text/plain": [
              "   One  Two  Three  Four\n",
              "B    5    6      7     8"
            ]
          },
          "metadata": {},
          "execution_count": 134
        }
      ]
    },
    {
      "cell_type": "code",
      "source": [
        "df.loc[ [True, False, True], [True, False, True, False] ]"
      ],
      "metadata": {
        "colab": {
          "base_uri": "https://localhost:8080/",
          "height": 112
        },
        "id": "a-rH2MMRSesD",
        "outputId": "51b04065-6abf-4560-e507-6ad9c26fab07"
      },
      "execution_count": null,
      "outputs": [
        {
          "output_type": "execute_result",
          "data": {
            "text/html": [
              "\n",
              "  <div id=\"df-05805a05-cef3-4440-8af1-6c851139e281\">\n",
              "    <div class=\"colab-df-container\">\n",
              "      <div>\n",
              "<style scoped>\n",
              "    .dataframe tbody tr th:only-of-type {\n",
              "        vertical-align: middle;\n",
              "    }\n",
              "\n",
              "    .dataframe tbody tr th {\n",
              "        vertical-align: top;\n",
              "    }\n",
              "\n",
              "    .dataframe thead th {\n",
              "        text-align: right;\n",
              "    }\n",
              "</style>\n",
              "<table border=\"1\" class=\"dataframe\">\n",
              "  <thead>\n",
              "    <tr style=\"text-align: right;\">\n",
              "      <th></th>\n",
              "      <th>One</th>\n",
              "      <th>Three</th>\n",
              "    </tr>\n",
              "  </thead>\n",
              "  <tbody>\n",
              "    <tr>\n",
              "      <th>A</th>\n",
              "      <td>1</td>\n",
              "      <td>3</td>\n",
              "    </tr>\n",
              "    <tr>\n",
              "      <th>C</th>\n",
              "      <td>9</td>\n",
              "      <td>11</td>\n",
              "    </tr>\n",
              "  </tbody>\n",
              "</table>\n",
              "</div>\n",
              "      <button class=\"colab-df-convert\" onclick=\"convertToInteractive('df-05805a05-cef3-4440-8af1-6c851139e281')\"\n",
              "              title=\"Convert this dataframe to an interactive table.\"\n",
              "              style=\"display:none;\">\n",
              "        \n",
              "  <svg xmlns=\"http://www.w3.org/2000/svg\" height=\"24px\"viewBox=\"0 0 24 24\"\n",
              "       width=\"24px\">\n",
              "    <path d=\"M0 0h24v24H0V0z\" fill=\"none\"/>\n",
              "    <path d=\"M18.56 5.44l.94 2.06.94-2.06 2.06-.94-2.06-.94-.94-2.06-.94 2.06-2.06.94zm-11 1L8.5 8.5l.94-2.06 2.06-.94-2.06-.94L8.5 2.5l-.94 2.06-2.06.94zm10 10l.94 2.06.94-2.06 2.06-.94-2.06-.94-.94-2.06-.94 2.06-2.06.94z\"/><path d=\"M17.41 7.96l-1.37-1.37c-.4-.4-.92-.59-1.43-.59-.52 0-1.04.2-1.43.59L10.3 9.45l-7.72 7.72c-.78.78-.78 2.05 0 2.83L4 21.41c.39.39.9.59 1.41.59.51 0 1.02-.2 1.41-.59l7.78-7.78 2.81-2.81c.8-.78.8-2.07 0-2.86zM5.41 20L4 18.59l7.72-7.72 1.47 1.35L5.41 20z\"/>\n",
              "  </svg>\n",
              "      </button>\n",
              "      \n",
              "  <style>\n",
              "    .colab-df-container {\n",
              "      display:flex;\n",
              "      flex-wrap:wrap;\n",
              "      gap: 12px;\n",
              "    }\n",
              "\n",
              "    .colab-df-convert {\n",
              "      background-color: #E8F0FE;\n",
              "      border: none;\n",
              "      border-radius: 50%;\n",
              "      cursor: pointer;\n",
              "      display: none;\n",
              "      fill: #1967D2;\n",
              "      height: 32px;\n",
              "      padding: 0 0 0 0;\n",
              "      width: 32px;\n",
              "    }\n",
              "\n",
              "    .colab-df-convert:hover {\n",
              "      background-color: #E2EBFA;\n",
              "      box-shadow: 0px 1px 2px rgba(60, 64, 67, 0.3), 0px 1px 3px 1px rgba(60, 64, 67, 0.15);\n",
              "      fill: #174EA6;\n",
              "    }\n",
              "\n",
              "    [theme=dark] .colab-df-convert {\n",
              "      background-color: #3B4455;\n",
              "      fill: #D2E3FC;\n",
              "    }\n",
              "\n",
              "    [theme=dark] .colab-df-convert:hover {\n",
              "      background-color: #434B5C;\n",
              "      box-shadow: 0px 1px 3px 1px rgba(0, 0, 0, 0.15);\n",
              "      filter: drop-shadow(0px 1px 2px rgba(0, 0, 0, 0.3));\n",
              "      fill: #FFFFFF;\n",
              "    }\n",
              "  </style>\n",
              "\n",
              "      <script>\n",
              "        const buttonEl =\n",
              "          document.querySelector('#df-05805a05-cef3-4440-8af1-6c851139e281 button.colab-df-convert');\n",
              "        buttonEl.style.display =\n",
              "          google.colab.kernel.accessAllowed ? 'block' : 'none';\n",
              "\n",
              "        async function convertToInteractive(key) {\n",
              "          const element = document.querySelector('#df-05805a05-cef3-4440-8af1-6c851139e281');\n",
              "          const dataTable =\n",
              "            await google.colab.kernel.invokeFunction('convertToInteractive',\n",
              "                                                     [key], {});\n",
              "          if (!dataTable) return;\n",
              "\n",
              "          const docLinkHtml = 'Like what you see? Visit the ' +\n",
              "            '<a target=\"_blank\" href=https://colab.research.google.com/notebooks/data_table.ipynb>data table notebook</a>'\n",
              "            + ' to learn more about interactive tables.';\n",
              "          element.innerHTML = '';\n",
              "          dataTable['output_type'] = 'display_data';\n",
              "          await google.colab.output.renderOutput(dataTable, element);\n",
              "          const docLink = document.createElement('div');\n",
              "          docLink.innerHTML = docLinkHtml;\n",
              "          element.appendChild(docLink);\n",
              "        }\n",
              "      </script>\n",
              "    </div>\n",
              "  </div>\n",
              "  "
            ],
            "text/plain": [
              "   One  Three\n",
              "A    1      3\n",
              "C    9     11"
            ]
          },
          "metadata": {},
          "execution_count": 135
        }
      ]
    },
    {
      "cell_type": "code",
      "source": [
        "print(df)"
      ],
      "metadata": {
        "colab": {
          "base_uri": "https://localhost:8080/"
        },
        "id": "THhFbTdESsyj",
        "outputId": "3addde66-1621-4817-a8f0-e2f2a0b68fc7"
      },
      "execution_count": null,
      "outputs": [
        {
          "output_type": "stream",
          "name": "stdout",
          "text": [
            "   One  Two  Three  Four\n",
            "A    1    2      3     4\n",
            "B    5    6      7     8\n",
            "C    9   10     11    12\n"
          ]
        }
      ]
    },
    {
      "cell_type": "code",
      "source": [
        "df.Three > 5"
      ],
      "metadata": {
        "colab": {
          "base_uri": "https://localhost:8080/"
        },
        "id": "3rN4YnrNSs1r",
        "outputId": "af9d38b1-d6e4-4d41-f49d-79aa1be3e09b"
      },
      "execution_count": null,
      "outputs": [
        {
          "output_type": "execute_result",
          "data": {
            "text/plain": [
              "A    False\n",
              "B     True\n",
              "C     True\n",
              "Name: Three, dtype: bool"
            ]
          },
          "metadata": {},
          "execution_count": 139
        }
      ]
    },
    {
      "cell_type": "code",
      "source": [
        "df[ (df.Three > 5)]"
      ],
      "metadata": {
        "colab": {
          "base_uri": "https://localhost:8080/",
          "height": 112
        },
        "id": "HuOPCv0KS3as",
        "outputId": "c73797cb-e3ab-48e7-b489-35404a40f45e"
      },
      "execution_count": null,
      "outputs": [
        {
          "output_type": "execute_result",
          "data": {
            "text/html": [
              "\n",
              "  <div id=\"df-32a6ec25-2fbd-4b88-9c4a-7b5b0c3715b2\">\n",
              "    <div class=\"colab-df-container\">\n",
              "      <div>\n",
              "<style scoped>\n",
              "    .dataframe tbody tr th:only-of-type {\n",
              "        vertical-align: middle;\n",
              "    }\n",
              "\n",
              "    .dataframe tbody tr th {\n",
              "        vertical-align: top;\n",
              "    }\n",
              "\n",
              "    .dataframe thead th {\n",
              "        text-align: right;\n",
              "    }\n",
              "</style>\n",
              "<table border=\"1\" class=\"dataframe\">\n",
              "  <thead>\n",
              "    <tr style=\"text-align: right;\">\n",
              "      <th></th>\n",
              "      <th>One</th>\n",
              "      <th>Two</th>\n",
              "      <th>Three</th>\n",
              "      <th>Four</th>\n",
              "    </tr>\n",
              "  </thead>\n",
              "  <tbody>\n",
              "    <tr>\n",
              "      <th>B</th>\n",
              "      <td>5</td>\n",
              "      <td>6</td>\n",
              "      <td>7</td>\n",
              "      <td>8</td>\n",
              "    </tr>\n",
              "    <tr>\n",
              "      <th>C</th>\n",
              "      <td>9</td>\n",
              "      <td>10</td>\n",
              "      <td>11</td>\n",
              "      <td>12</td>\n",
              "    </tr>\n",
              "  </tbody>\n",
              "</table>\n",
              "</div>\n",
              "      <button class=\"colab-df-convert\" onclick=\"convertToInteractive('df-32a6ec25-2fbd-4b88-9c4a-7b5b0c3715b2')\"\n",
              "              title=\"Convert this dataframe to an interactive table.\"\n",
              "              style=\"display:none;\">\n",
              "        \n",
              "  <svg xmlns=\"http://www.w3.org/2000/svg\" height=\"24px\"viewBox=\"0 0 24 24\"\n",
              "       width=\"24px\">\n",
              "    <path d=\"M0 0h24v24H0V0z\" fill=\"none\"/>\n",
              "    <path d=\"M18.56 5.44l.94 2.06.94-2.06 2.06-.94-2.06-.94-.94-2.06-.94 2.06-2.06.94zm-11 1L8.5 8.5l.94-2.06 2.06-.94-2.06-.94L8.5 2.5l-.94 2.06-2.06.94zm10 10l.94 2.06.94-2.06 2.06-.94-2.06-.94-.94-2.06-.94 2.06-2.06.94z\"/><path d=\"M17.41 7.96l-1.37-1.37c-.4-.4-.92-.59-1.43-.59-.52 0-1.04.2-1.43.59L10.3 9.45l-7.72 7.72c-.78.78-.78 2.05 0 2.83L4 21.41c.39.39.9.59 1.41.59.51 0 1.02-.2 1.41-.59l7.78-7.78 2.81-2.81c.8-.78.8-2.07 0-2.86zM5.41 20L4 18.59l7.72-7.72 1.47 1.35L5.41 20z\"/>\n",
              "  </svg>\n",
              "      </button>\n",
              "      \n",
              "  <style>\n",
              "    .colab-df-container {\n",
              "      display:flex;\n",
              "      flex-wrap:wrap;\n",
              "      gap: 12px;\n",
              "    }\n",
              "\n",
              "    .colab-df-convert {\n",
              "      background-color: #E8F0FE;\n",
              "      border: none;\n",
              "      border-radius: 50%;\n",
              "      cursor: pointer;\n",
              "      display: none;\n",
              "      fill: #1967D2;\n",
              "      height: 32px;\n",
              "      padding: 0 0 0 0;\n",
              "      width: 32px;\n",
              "    }\n",
              "\n",
              "    .colab-df-convert:hover {\n",
              "      background-color: #E2EBFA;\n",
              "      box-shadow: 0px 1px 2px rgba(60, 64, 67, 0.3), 0px 1px 3px 1px rgba(60, 64, 67, 0.15);\n",
              "      fill: #174EA6;\n",
              "    }\n",
              "\n",
              "    [theme=dark] .colab-df-convert {\n",
              "      background-color: #3B4455;\n",
              "      fill: #D2E3FC;\n",
              "    }\n",
              "\n",
              "    [theme=dark] .colab-df-convert:hover {\n",
              "      background-color: #434B5C;\n",
              "      box-shadow: 0px 1px 3px 1px rgba(0, 0, 0, 0.15);\n",
              "      filter: drop-shadow(0px 1px 2px rgba(0, 0, 0, 0.3));\n",
              "      fill: #FFFFFF;\n",
              "    }\n",
              "  </style>\n",
              "\n",
              "      <script>\n",
              "        const buttonEl =\n",
              "          document.querySelector('#df-32a6ec25-2fbd-4b88-9c4a-7b5b0c3715b2 button.colab-df-convert');\n",
              "        buttonEl.style.display =\n",
              "          google.colab.kernel.accessAllowed ? 'block' : 'none';\n",
              "\n",
              "        async function convertToInteractive(key) {\n",
              "          const element = document.querySelector('#df-32a6ec25-2fbd-4b88-9c4a-7b5b0c3715b2');\n",
              "          const dataTable =\n",
              "            await google.colab.kernel.invokeFunction('convertToInteractive',\n",
              "                                                     [key], {});\n",
              "          if (!dataTable) return;\n",
              "\n",
              "          const docLinkHtml = 'Like what you see? Visit the ' +\n",
              "            '<a target=\"_blank\" href=https://colab.research.google.com/notebooks/data_table.ipynb>data table notebook</a>'\n",
              "            + ' to learn more about interactive tables.';\n",
              "          element.innerHTML = '';\n",
              "          dataTable['output_type'] = 'display_data';\n",
              "          await google.colab.output.renderOutput(dataTable, element);\n",
              "          const docLink = document.createElement('div');\n",
              "          docLink.innerHTML = docLinkHtml;\n",
              "          element.appendChild(docLink);\n",
              "        }\n",
              "      </script>\n",
              "    </div>\n",
              "  </div>\n",
              "  "
            ],
            "text/plain": [
              "   One  Two  Three  Four\n",
              "B    5    6      7     8\n",
              "C    9   10     11    12"
            ]
          },
          "metadata": {},
          "execution_count": 140
        }
      ]
    },
    {
      "cell_type": "code",
      "source": [
        "#get , at\n",
        "\n",
        "print(ds)"
      ],
      "metadata": {
        "colab": {
          "base_uri": "https://localhost:8080/"
        },
        "id": "dOnVtksBS84M",
        "outputId": "86f39ebc-a75c-442e-e2e9-9e4f06e811a1"
      },
      "execution_count": null,
      "outputs": [
        {
          "output_type": "stream",
          "name": "stdout",
          "text": [
            "b    4\n",
            "c    7\n",
            "a   -5\n",
            "d    3\n",
            "dtype: int64\n"
          ]
        }
      ]
    },
    {
      "cell_type": "code",
      "source": [
        "ds.get('a')"
      ],
      "metadata": {
        "colab": {
          "base_uri": "https://localhost:8080/"
        },
        "id": "VBYap8ooTK-j",
        "outputId": "d038887e-8879-401d-b6a1-700b8259ff26"
      },
      "execution_count": null,
      "outputs": [
        {
          "output_type": "execute_result",
          "data": {
            "text/plain": [
              "-5"
            ]
          },
          "metadata": {},
          "execution_count": 142
        }
      ]
    },
    {
      "cell_type": "code",
      "source": [
        "ds.at['a']"
      ],
      "metadata": {
        "colab": {
          "base_uri": "https://localhost:8080/"
        },
        "id": "Q949zEyyTNOs",
        "outputId": "63841cf6-932f-41f1-d61e-101e45b6f26e"
      },
      "execution_count": null,
      "outputs": [
        {
          "output_type": "execute_result",
          "data": {
            "text/plain": [
              "-5"
            ]
          },
          "metadata": {},
          "execution_count": 146
        }
      ]
    },
    {
      "cell_type": "code",
      "source": [
        "print(df)"
      ],
      "metadata": {
        "colab": {
          "base_uri": "https://localhost:8080/"
        },
        "id": "nlMj6fxyTb1r",
        "outputId": "7c0c8082-01ae-42e5-d168-d6d33d9c7fc7"
      },
      "execution_count": null,
      "outputs": [
        {
          "output_type": "stream",
          "name": "stdout",
          "text": [
            "   One  Two  Three  Four\n",
            "A    1    2      3     4\n",
            "B    5    6      7     8\n",
            "C    9   10     11    12\n"
          ]
        }
      ]
    },
    {
      "cell_type": "code",
      "source": [
        "df.get('One')"
      ],
      "metadata": {
        "colab": {
          "base_uri": "https://localhost:8080/"
        },
        "id": "0cTMgBgdTb5s",
        "outputId": "75d17e93-1c26-41ec-b185-cafb921a0e96"
      },
      "execution_count": null,
      "outputs": [
        {
          "output_type": "execute_result",
          "data": {
            "text/plain": [
              "A    1\n",
              "B    5\n",
              "C    9\n",
              "Name: One, dtype: int64"
            ]
          },
          "metadata": {},
          "execution_count": 149
        }
      ]
    },
    {
      "cell_type": "code",
      "source": [
        "df.at['B', 'Three']"
      ],
      "metadata": {
        "colab": {
          "base_uri": "https://localhost:8080/"
        },
        "id": "bFBbjlD6To6z",
        "outputId": "021fa1c6-1a54-4045-822c-e286754a0caa"
      },
      "execution_count": null,
      "outputs": [
        {
          "output_type": "execute_result",
          "data": {
            "text/plain": [
              "7"
            ]
          },
          "metadata": {},
          "execution_count": 154
        }
      ]
    },
    {
      "cell_type": "code",
      "source": [
        "#np.where"
      ],
      "metadata": {
        "id": "G1SWx4KgUaak"
      },
      "execution_count": null,
      "outputs": []
    },
    {
      "cell_type": "code",
      "source": [
        "print(df)"
      ],
      "metadata": {
        "colab": {
          "base_uri": "https://localhost:8080/"
        },
        "id": "1JDdm2nAUcks",
        "outputId": "a4d5c6a7-bd23-4585-e02d-2a5fb6cd0546"
      },
      "execution_count": null,
      "outputs": [
        {
          "output_type": "stream",
          "name": "stdout",
          "text": [
            "   One  Two  Three  Four\n",
            "A    1    2      3     4\n",
            "B    5    6      7     8\n",
            "C    9   10     11    12\n"
          ]
        }
      ]
    },
    {
      "cell_type": "code",
      "source": [
        "x = np.where(df < 6, 0, (df  * 2)) \n",
        "print(type(x) )\n",
        "print(x)"
      ],
      "metadata": {
        "colab": {
          "base_uri": "https://localhost:8080/"
        },
        "id": "_gnuu2XOUerk",
        "outputId": "3c590ff0-257d-4e30-a4ba-be613a16ecc3"
      },
      "execution_count": null,
      "outputs": [
        {
          "output_type": "stream",
          "name": "stdout",
          "text": [
            "<class 'numpy.ndarray'>\n",
            "[[ 0  0  0  0]\n",
            " [ 0 12 14 16]\n",
            " [18 20 22 24]]\n"
          ]
        }
      ]
    },
    {
      "cell_type": "code",
      "source": [
        "#reindex\n",
        "print(ds)"
      ],
      "metadata": {
        "colab": {
          "base_uri": "https://localhost:8080/"
        },
        "id": "fXoFp3TLU8u1",
        "outputId": "ff54710b-114d-44ad-e7dd-ed90bf320e2b"
      },
      "execution_count": null,
      "outputs": [
        {
          "output_type": "stream",
          "name": "stdout",
          "text": [
            "b    4\n",
            "c    7\n",
            "a   -5\n",
            "d    3\n",
            "dtype: int64\n"
          ]
        }
      ]
    },
    {
      "cell_type": "code",
      "source": [
        "ds1 = ds.reindex(['a','b','c','z', 'd', 'e'])\n",
        "print(ds1)"
      ],
      "metadata": {
        "colab": {
          "base_uri": "https://localhost:8080/"
        },
        "id": "ZA-jqYyQU8yB",
        "outputId": "7993b42d-afcb-4192-9075-98a32c315793"
      },
      "execution_count": null,
      "outputs": [
        {
          "output_type": "stream",
          "name": "stdout",
          "text": [
            "a   -5.0\n",
            "b    4.0\n",
            "c    7.0\n",
            "z    NaN\n",
            "d    3.0\n",
            "e    NaN\n",
            "dtype: float64\n"
          ]
        }
      ]
    },
    {
      "cell_type": "code",
      "source": [
        "print(df)"
      ],
      "metadata": {
        "colab": {
          "base_uri": "https://localhost:8080/"
        },
        "id": "oxJYTHpEU83s",
        "outputId": "68fb535d-2f0a-412b-cec3-625665faab49"
      },
      "execution_count": null,
      "outputs": [
        {
          "output_type": "stream",
          "name": "stdout",
          "text": [
            "   One  Two  Three  Four\n",
            "A    1    2      3     4\n",
            "B    5    6      7     8\n",
            "C    9   10     11    12\n"
          ]
        }
      ]
    },
    {
      "cell_type": "code",
      "source": [
        "df1 = df.reindex(index = ['C','A','B'])\n",
        "print(df1)"
      ],
      "metadata": {
        "colab": {
          "base_uri": "https://localhost:8080/"
        },
        "id": "D7-c5zf-VcPm",
        "outputId": "f537f2d8-6db6-4e0b-cd26-6d57dafdd684"
      },
      "execution_count": null,
      "outputs": [
        {
          "output_type": "stream",
          "name": "stdout",
          "text": [
            "   One  Two  Three  Four\n",
            "C    9   10     11    12\n",
            "A    1    2      3     4\n",
            "B    5    6      7     8\n"
          ]
        }
      ]
    },
    {
      "cell_type": "code",
      "source": [
        "df2 = df.reindex(index = ['C','A','B'], columns = ['Three','One','Four','Two'])\n",
        "print(df2)"
      ],
      "metadata": {
        "colab": {
          "base_uri": "https://localhost:8080/"
        },
        "id": "I7rZCep4Vqut",
        "outputId": "278a340a-a675-4c8e-fc49-54895bb9bdf5"
      },
      "execution_count": null,
      "outputs": [
        {
          "output_type": "stream",
          "name": "stdout",
          "text": [
            "   Three  One  Four  Two\n",
            "C     11    9    12   10\n",
            "A      3    1     4    2\n",
            "B      7    5     8    6\n"
          ]
        }
      ]
    },
    {
      "cell_type": "code",
      "source": [
        "#drop\n",
        "\n",
        "print(ds)"
      ],
      "metadata": {
        "colab": {
          "base_uri": "https://localhost:8080/"
        },
        "id": "tLBO54STV7QV",
        "outputId": "d282bb98-3604-4c2f-f6ab-6721f832a10b"
      },
      "execution_count": null,
      "outputs": [
        {
          "output_type": "stream",
          "name": "stdout",
          "text": [
            "b    4\n",
            "c    7\n",
            "a   -5\n",
            "d    3\n",
            "dtype: int64\n"
          ]
        }
      ]
    },
    {
      "cell_type": "code",
      "source": [
        "x = ds.drop('c')\n",
        "print(x)"
      ],
      "metadata": {
        "colab": {
          "base_uri": "https://localhost:8080/"
        },
        "id": "wJGU7LxDV9dO",
        "outputId": "ff89dc10-9d82-4bde-de61-b6108c2821f6"
      },
      "execution_count": null,
      "outputs": [
        {
          "output_type": "stream",
          "name": "stdout",
          "text": [
            "b    4\n",
            "a   -5\n",
            "d    3\n",
            "dtype: int64\n"
          ]
        }
      ]
    },
    {
      "cell_type": "code",
      "source": [
        "x = ds.drop(['c','d'])\n",
        "print(x)"
      ],
      "metadata": {
        "colab": {
          "base_uri": "https://localhost:8080/"
        },
        "id": "DnrR4tjOWCgl",
        "outputId": "6c054822-1126-4f1f-a935-4e22913e7ccb"
      },
      "execution_count": null,
      "outputs": [
        {
          "output_type": "stream",
          "name": "stdout",
          "text": [
            "b    4\n",
            "a   -5\n",
            "dtype: int64\n"
          ]
        }
      ]
    },
    {
      "cell_type": "code",
      "source": [
        "print(df)"
      ],
      "metadata": {
        "colab": {
          "base_uri": "https://localhost:8080/"
        },
        "id": "bRCOZnkPWGlu",
        "outputId": "cf73901c-17a3-4a5a-c908-aab02ffc5f0a"
      },
      "execution_count": null,
      "outputs": [
        {
          "output_type": "stream",
          "name": "stdout",
          "text": [
            "   One  Two  Three  Four\n",
            "A    1    2      3     4\n",
            "B    5    6      7     8\n",
            "C    9   10     11    12\n"
          ]
        }
      ]
    },
    {
      "cell_type": "code",
      "source": [
        "x = df.drop(index=['A', 'C'])\n",
        "print(x)"
      ],
      "metadata": {
        "colab": {
          "base_uri": "https://localhost:8080/"
        },
        "id": "Mjkz9mvfWGu0",
        "outputId": "06d4a264-6e81-4045-fb67-7083235eb9bb"
      },
      "execution_count": null,
      "outputs": [
        {
          "output_type": "stream",
          "name": "stdout",
          "text": [
            "   One  Two  Three  Four\n",
            "B    5    6      7     8\n"
          ]
        }
      ]
    },
    {
      "cell_type": "code",
      "source": [
        "x = df.drop(['A', 'C'], axis=0)\n",
        "print(x)"
      ],
      "metadata": {
        "colab": {
          "base_uri": "https://localhost:8080/"
        },
        "id": "YV6jt_QrWbD9",
        "outputId": "8ad5acf8-0aa7-453e-e1d7-d2d18548f240"
      },
      "execution_count": null,
      "outputs": [
        {
          "output_type": "stream",
          "name": "stdout",
          "text": [
            "   One  Two  Three  Four\n",
            "B    5    6      7     8\n"
          ]
        }
      ]
    },
    {
      "cell_type": "code",
      "source": [
        "x = df.drop(index=['A'], columns = ['Four', 'Two'])\n",
        "print(x)"
      ],
      "metadata": {
        "colab": {
          "base_uri": "https://localhost:8080/"
        },
        "id": "hAfhgtg8WPdO",
        "outputId": "5af60843-1cab-4153-9c3c-ad4ca3c3b4df"
      },
      "execution_count": null,
      "outputs": [
        {
          "output_type": "stream",
          "name": "stdout",
          "text": [
            "   One  Three\n",
            "B    5      7\n",
            "C    9     11\n"
          ]
        }
      ]
    },
    {
      "cell_type": "code",
      "source": [
        "x = df.drop(columns = ['Four', 'Two'])\n",
        "print(x)"
      ],
      "metadata": {
        "colab": {
          "base_uri": "https://localhost:8080/"
        },
        "id": "n4AaeQSKWlJO",
        "outputId": "2358190b-3367-4e2a-8e79-535b3891893d"
      },
      "execution_count": null,
      "outputs": [
        {
          "output_type": "stream",
          "name": "stdout",
          "text": [
            "   One  Three\n",
            "A    1      3\n",
            "B    5      7\n",
            "C    9     11\n"
          ]
        }
      ]
    },
    {
      "cell_type": "code",
      "source": [
        "x = df.drop(['Four', 'Two'], axis=1)\n",
        "print(x)"
      ],
      "metadata": {
        "colab": {
          "base_uri": "https://localhost:8080/"
        },
        "id": "ONaLvhsZWnHd",
        "outputId": "2fa7706b-b5ec-4bd7-f3c7-5f2292c61e2a"
      },
      "execution_count": null,
      "outputs": [
        {
          "output_type": "stream",
          "name": "stdout",
          "text": [
            "   One  Three\n",
            "A    1      3\n",
            "B    5      7\n",
            "C    9     11\n"
          ]
        }
      ]
    }
  ]
}